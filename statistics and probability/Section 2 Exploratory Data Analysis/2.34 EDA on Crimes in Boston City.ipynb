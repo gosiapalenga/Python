{
 "cells": [
  {
   "cell_type": "code",
   "execution_count": null,
   "id": "72be76b1",
   "metadata": {},
   "outputs": [],
   "source": [
    "import pandas as pd\n",
    "import numpy as np\n",
    "import matplotlib.pyplot as plt\n",
    "import seaborn as sns"
   ]
  },
  {
   "cell_type": "code",
   "execution_count": 7,
   "id": "640fd132",
   "metadata": {},
   "outputs": [
    {
     "data": {
      "text/html": [
       "<div>\n",
       "<style scoped>\n",
       "    .dataframe tbody tr th:only-of-type {\n",
       "        vertical-align: middle;\n",
       "    }\n",
       "\n",
       "    .dataframe tbody tr th {\n",
       "        vertical-align: top;\n",
       "    }\n",
       "\n",
       "    .dataframe thead th {\n",
       "        text-align: right;\n",
       "    }\n",
       "</style>\n",
       "<table border=\"1\" class=\"dataframe\">\n",
       "  <thead>\n",
       "    <tr style=\"text-align: right;\">\n",
       "      <th></th>\n",
       "      <th>INCIDENT_NUMBER</th>\n",
       "      <th>OFFENSE_CODE</th>\n",
       "      <th>OFFENSE_CODE_GROUP</th>\n",
       "      <th>OFFENSE_DESCRIPTION</th>\n",
       "      <th>DISTRICT</th>\n",
       "      <th>REPORTING_AREA</th>\n",
       "      <th>SHOOTING</th>\n",
       "      <th>YEAR</th>\n",
       "      <th>MONTH</th>\n",
       "      <th>DAY_OF_WEEK</th>\n",
       "      <th>HOUR</th>\n",
       "      <th>UCR_PART</th>\n",
       "      <th>STREET</th>\n",
       "      <th>Lat</th>\n",
       "      <th>Long</th>\n",
       "      <th>Location</th>\n",
       "    </tr>\n",
       "  </thead>\n",
       "  <tbody>\n",
       "    <tr>\n",
       "      <th>0</th>\n",
       "      <td>I182070945</td>\n",
       "      <td>619</td>\n",
       "      <td>Larceny</td>\n",
       "      <td>LARCENY ALL OTHERS</td>\n",
       "      <td>D14</td>\n",
       "      <td>808</td>\n",
       "      <td>NaN</td>\n",
       "      <td>2020</td>\n",
       "      <td>4</td>\n",
       "      <td>Sunday</td>\n",
       "      <td>13</td>\n",
       "      <td>Part One</td>\n",
       "      <td>LINCOLN ST</td>\n",
       "      <td>42.357791</td>\n",
       "      <td>-71.139371</td>\n",
       "      <td>(42.35779134, -71.13937053)</td>\n",
       "    </tr>\n",
       "    <tr>\n",
       "      <th>1</th>\n",
       "      <td>I182070943</td>\n",
       "      <td>1402</td>\n",
       "      <td>Vandalism</td>\n",
       "      <td>VANDALISM</td>\n",
       "      <td>C11</td>\n",
       "      <td>347</td>\n",
       "      <td>NaN</td>\n",
       "      <td>2020</td>\n",
       "      <td>4</td>\n",
       "      <td>Tuesday</td>\n",
       "      <td>0</td>\n",
       "      <td>Part Two</td>\n",
       "      <td>HECLA ST</td>\n",
       "      <td>42.306821</td>\n",
       "      <td>-71.060300</td>\n",
       "      <td>(42.30682138, -71.06030035)</td>\n",
       "    </tr>\n",
       "    <tr>\n",
       "      <th>2</th>\n",
       "      <td>I182070941</td>\n",
       "      <td>3410</td>\n",
       "      <td>Towed</td>\n",
       "      <td>TOWED MOTOR VEHICLE</td>\n",
       "      <td>D4</td>\n",
       "      <td>151</td>\n",
       "      <td>NaN</td>\n",
       "      <td>2020</td>\n",
       "      <td>4</td>\n",
       "      <td>Monday</td>\n",
       "      <td>19</td>\n",
       "      <td>Part Three</td>\n",
       "      <td>CAZENOVE ST</td>\n",
       "      <td>42.346589</td>\n",
       "      <td>-71.072429</td>\n",
       "      <td>(42.34658879, -71.07242943)</td>\n",
       "    </tr>\n",
       "    <tr>\n",
       "      <th>3</th>\n",
       "      <td>I182070940</td>\n",
       "      <td>3114</td>\n",
       "      <td>Investigate Property</td>\n",
       "      <td>INVESTIGATE PROPERTY</td>\n",
       "      <td>D4</td>\n",
       "      <td>272</td>\n",
       "      <td>NaN</td>\n",
       "      <td>2020</td>\n",
       "      <td>4</td>\n",
       "      <td>Monday</td>\n",
       "      <td>21</td>\n",
       "      <td>Part Three</td>\n",
       "      <td>NEWCOMB ST</td>\n",
       "      <td>42.334182</td>\n",
       "      <td>-71.078664</td>\n",
       "      <td>(42.33418175, -71.07866441)</td>\n",
       "    </tr>\n",
       "    <tr>\n",
       "      <th>4</th>\n",
       "      <td>I182070938</td>\n",
       "      <td>3114</td>\n",
       "      <td>Investigate Property</td>\n",
       "      <td>INVESTIGATE PROPERTY</td>\n",
       "      <td>B3</td>\n",
       "      <td>421</td>\n",
       "      <td>NaN</td>\n",
       "      <td>2020</td>\n",
       "      <td>4</td>\n",
       "      <td>Monday</td>\n",
       "      <td>21</td>\n",
       "      <td>Part Three</td>\n",
       "      <td>DELHI ST</td>\n",
       "      <td>42.275365</td>\n",
       "      <td>-71.090361</td>\n",
       "      <td>(42.27536542, -71.09036101)</td>\n",
       "    </tr>\n",
       "  </tbody>\n",
       "</table>\n",
       "</div>"
      ],
      "text/plain": [
       "  INCIDENT_NUMBER  OFFENSE_CODE    OFFENSE_CODE_GROUP   OFFENSE_DESCRIPTION  \\\n",
       "0      I182070945           619               Larceny    LARCENY ALL OTHERS   \n",
       "1      I182070943          1402             Vandalism             VANDALISM   \n",
       "2      I182070941          3410                 Towed   TOWED MOTOR VEHICLE   \n",
       "3      I182070940          3114  Investigate Property  INVESTIGATE PROPERTY   \n",
       "4      I182070938          3114  Investigate Property  INVESTIGATE PROPERTY   \n",
       "\n",
       "  DISTRICT REPORTING_AREA SHOOTING  YEAR  MONTH DAY_OF_WEEK  HOUR    UCR_PART  \\\n",
       "0      D14            808      NaN  2020      4      Sunday    13    Part One   \n",
       "1      C11            347      NaN  2020      4     Tuesday     0    Part Two   \n",
       "2       D4            151      NaN  2020      4      Monday    19  Part Three   \n",
       "3       D4            272      NaN  2020      4      Monday    21  Part Three   \n",
       "4       B3            421      NaN  2020      4      Monday    21  Part Three   \n",
       "\n",
       "        STREET        Lat       Long                     Location  \n",
       "0   LINCOLN ST  42.357791 -71.139371  (42.35779134, -71.13937053)  \n",
       "1     HECLA ST  42.306821 -71.060300  (42.30682138, -71.06030035)  \n",
       "2  CAZENOVE ST  42.346589 -71.072429  (42.34658879, -71.07242943)  \n",
       "3   NEWCOMB ST  42.334182 -71.078664  (42.33418175, -71.07866441)  \n",
       "4     DELHI ST  42.275365 -71.090361  (42.27536542, -71.09036101)  "
      ]
     },
     "execution_count": 7,
     "metadata": {},
     "output_type": "execute_result"
    }
   ],
   "source": [
    "df = pd.read_csv(\"C:/Users/go27s/OneDrive/Documents/Udemy/Statistics and Probability/Statistics/Boston_crime.csv\", encoding='latin-1')\n",
    "df.head()"
   ]
  },
  {
   "cell_type": "code",
   "execution_count": 8,
   "id": "33859cd5",
   "metadata": {},
   "outputs": [
    {
     "data": {
      "text/plain": [
       "array([2020, 2019, 2018, 2016], dtype=int64)"
      ]
     },
     "execution_count": 8,
     "metadata": {},
     "output_type": "execute_result"
    }
   ],
   "source": [
    "df['YEAR'].unique()"
   ]
  },
  {
   "cell_type": "code",
   "execution_count": 10,
   "id": "eaa69219",
   "metadata": {},
   "outputs": [],
   "source": [
    "# do analysis on 2 selected years only: 2019, 2018 because 2020 and 2016 might not be complete"
   ]
  },
  {
   "cell_type": "code",
   "execution_count": 12,
   "id": "f809e9e4",
   "metadata": {},
   "outputs": [],
   "source": [
    "df = df.loc[df['YEAR'].isin([2018, 2019])]"
   ]
  },
  {
   "cell_type": "code",
   "execution_count": 13,
   "id": "31e3d978",
   "metadata": {},
   "outputs": [],
   "source": [
    "df = df.loc[df['UCR_PART'] == 'Part One']"
   ]
  },
  {
   "cell_type": "code",
   "execution_count": 15,
   "id": "c4ad4dfd",
   "metadata": {},
   "outputs": [
    {
     "data": {
      "text/plain": [
       "(37538, 16)"
      ]
     },
     "execution_count": 15,
     "metadata": {},
     "output_type": "execute_result"
    }
   ],
   "source": [
    "df.shape"
   ]
  },
  {
   "cell_type": "code",
   "execution_count": 17,
   "id": "225f18a1",
   "metadata": {},
   "outputs": [
    {
     "data": {
      "text/plain": [
       "INCIDENT_NUMBER         object\n",
       "OFFENSE_CODE             int64\n",
       "OFFENSE_CODE_GROUP      object\n",
       "OFFENSE_DESCRIPTION     object\n",
       "DISTRICT                object\n",
       "REPORTING_AREA          object\n",
       "SHOOTING                object\n",
       "YEAR                     int64\n",
       "MONTH                    int64\n",
       "DAY_OF_WEEK             object\n",
       "HOUR                     int64\n",
       "UCR_PART                object\n",
       "STREET                  object\n",
       "Lat                    float64\n",
       "Long                   float64\n",
       "Location                object\n",
       "dtype: object"
      ]
     },
     "execution_count": 17,
     "metadata": {},
     "output_type": "execute_result"
    }
   ],
   "source": [
    "df.dtypes"
   ]
  },
  {
   "cell_type": "code",
   "execution_count": 18,
   "id": "bafa978a",
   "metadata": {},
   "outputs": [],
   "source": [
    "# convert day_of_week to categorical(text columns, which are repetitive) data format"
   ]
  },
  {
   "cell_type": "code",
   "execution_count": 19,
   "id": "0f531e86",
   "metadata": {},
   "outputs": [
    {
     "data": {
      "text/html": [
       "<div>\n",
       "<style scoped>\n",
       "    .dataframe tbody tr th:only-of-type {\n",
       "        vertical-align: middle;\n",
       "    }\n",
       "\n",
       "    .dataframe tbody tr th {\n",
       "        vertical-align: top;\n",
       "    }\n",
       "\n",
       "    .dataframe thead th {\n",
       "        text-align: right;\n",
       "    }\n",
       "</style>\n",
       "<table border=\"1\" class=\"dataframe\">\n",
       "  <thead>\n",
       "    <tr style=\"text-align: right;\">\n",
       "      <th></th>\n",
       "      <th>INCIDENT_NUMBER</th>\n",
       "      <th>OFFENSE_CODE</th>\n",
       "      <th>OFFENSE_CODE_GROUP</th>\n",
       "      <th>OFFENSE_DESCRIPTION</th>\n",
       "      <th>DISTRICT</th>\n",
       "      <th>REPORTING_AREA</th>\n",
       "      <th>SHOOTING</th>\n",
       "      <th>YEAR</th>\n",
       "      <th>MONTH</th>\n",
       "      <th>DAY_OF_WEEK</th>\n",
       "      <th>HOUR</th>\n",
       "      <th>UCR_PART</th>\n",
       "      <th>STREET</th>\n",
       "      <th>Lat</th>\n",
       "      <th>Long</th>\n",
       "      <th>Location</th>\n",
       "    </tr>\n",
       "  </thead>\n",
       "  <tbody>\n",
       "    <tr>\n",
       "      <th>5633</th>\n",
       "      <td>I182064766</td>\n",
       "      <td>617</td>\n",
       "      <td>Larceny</td>\n",
       "      <td>LARCENY THEFT FROM BUILDING</td>\n",
       "      <td>E5</td>\n",
       "      <td>729</td>\n",
       "      <td>NaN</td>\n",
       "      <td>2019</td>\n",
       "      <td>10</td>\n",
       "      <td>Monday</td>\n",
       "      <td>13</td>\n",
       "      <td>Part One</td>\n",
       "      <td>VFW PKWY</td>\n",
       "      <td>42.285370</td>\n",
       "      <td>-71.172440</td>\n",
       "      <td>(42.28536992, -71.17244016)</td>\n",
       "    </tr>\n",
       "    <tr>\n",
       "      <th>5919</th>\n",
       "      <td>I182064449</td>\n",
       "      <td>706</td>\n",
       "      <td>Auto Theft</td>\n",
       "      <td>AUTO THEFT - MOTORCYCLE / SCOOTER</td>\n",
       "      <td>E18</td>\n",
       "      <td>544</td>\n",
       "      <td>NaN</td>\n",
       "      <td>2019</td>\n",
       "      <td>3</td>\n",
       "      <td>Wednesday</td>\n",
       "      <td>9</td>\n",
       "      <td>Part One</td>\n",
       "      <td>AUSTIN ST</td>\n",
       "      <td>42.257688</td>\n",
       "      <td>-71.126418</td>\n",
       "      <td>(42.25768764, -71.12641770)</td>\n",
       "    </tr>\n",
       "    <tr>\n",
       "      <th>6940</th>\n",
       "      <td>I182063310</td>\n",
       "      <td>522</td>\n",
       "      <td>Residential Burglary</td>\n",
       "      <td>BURGLARY - RESIDENTIAL - NO FORCE</td>\n",
       "      <td>D14</td>\n",
       "      <td>774</td>\n",
       "      <td>NaN</td>\n",
       "      <td>2019</td>\n",
       "      <td>3</td>\n",
       "      <td>Thursday</td>\n",
       "      <td>12</td>\n",
       "      <td>Part One</td>\n",
       "      <td>COMMONWEALTH AVE</td>\n",
       "      <td>42.338363</td>\n",
       "      <td>-71.154410</td>\n",
       "      <td>(42.33836272, -71.15441001)</td>\n",
       "    </tr>\n",
       "    <tr>\n",
       "      <th>12370</th>\n",
       "      <td>I182057388</td>\n",
       "      <td>614</td>\n",
       "      <td>Larceny From Motor Vehicle</td>\n",
       "      <td>LARCENY THEFT FROM MV - NON-ACCESSORY</td>\n",
       "      <td>E13</td>\n",
       "      <td>571</td>\n",
       "      <td>NaN</td>\n",
       "      <td>2019</td>\n",
       "      <td>11</td>\n",
       "      <td>Tuesday</td>\n",
       "      <td>21</td>\n",
       "      <td>Part One</td>\n",
       "      <td>SYLVIA ST</td>\n",
       "      <td>42.310559</td>\n",
       "      <td>-71.102854</td>\n",
       "      <td>(42.31055889, -71.10285400)</td>\n",
       "    </tr>\n",
       "    <tr>\n",
       "      <th>14227</th>\n",
       "      <td>I182055406</td>\n",
       "      <td>617</td>\n",
       "      <td>Larceny</td>\n",
       "      <td>LARCENY THEFT FROM BUILDING</td>\n",
       "      <td>D4</td>\n",
       "      <td>136</td>\n",
       "      <td>NaN</td>\n",
       "      <td>2019</td>\n",
       "      <td>12</td>\n",
       "      <td>Friday</td>\n",
       "      <td>16</td>\n",
       "      <td>Part One</td>\n",
       "      <td>MARLBOROUGH ST</td>\n",
       "      <td>42.352569</td>\n",
       "      <td>-71.079788</td>\n",
       "      <td>(42.35256908, -71.07978844)</td>\n",
       "    </tr>\n",
       "  </tbody>\n",
       "</table>\n",
       "</div>"
      ],
      "text/plain": [
       "      INCIDENT_NUMBER  OFFENSE_CODE          OFFENSE_CODE_GROUP  \\\n",
       "5633       I182064766           617                     Larceny   \n",
       "5919       I182064449           706                  Auto Theft   \n",
       "6940       I182063310           522        Residential Burglary   \n",
       "12370      I182057388           614  Larceny From Motor Vehicle   \n",
       "14227      I182055406           617                     Larceny   \n",
       "\n",
       "                         OFFENSE_DESCRIPTION DISTRICT REPORTING_AREA SHOOTING  \\\n",
       "5633             LARCENY THEFT FROM BUILDING       E5            729      NaN   \n",
       "5919       AUTO THEFT - MOTORCYCLE / SCOOTER      E18            544      NaN   \n",
       "6940       BURGLARY - RESIDENTIAL - NO FORCE      D14            774      NaN   \n",
       "12370  LARCENY THEFT FROM MV - NON-ACCESSORY      E13            571      NaN   \n",
       "14227            LARCENY THEFT FROM BUILDING       D4            136      NaN   \n",
       "\n",
       "       YEAR  MONTH DAY_OF_WEEK  HOUR  UCR_PART            STREET        Lat  \\\n",
       "5633   2019     10      Monday    13  Part One          VFW PKWY  42.285370   \n",
       "5919   2019      3   Wednesday     9  Part One         AUSTIN ST  42.257688   \n",
       "6940   2019      3    Thursday    12  Part One  COMMONWEALTH AVE  42.338363   \n",
       "12370  2019     11     Tuesday    21  Part One         SYLVIA ST  42.310559   \n",
       "14227  2019     12      Friday    16  Part One    MARLBOROUGH ST  42.352569   \n",
       "\n",
       "            Long                     Location  \n",
       "5633  -71.172440  (42.28536992, -71.17244016)  \n",
       "5919  -71.126418  (42.25768764, -71.12641770)  \n",
       "6940  -71.154410  (42.33836272, -71.15441001)  \n",
       "12370 -71.102854  (42.31055889, -71.10285400)  \n",
       "14227 -71.079788  (42.35256908, -71.07978844)  "
      ]
     },
     "execution_count": 19,
     "metadata": {},
     "output_type": "execute_result"
    }
   ],
   "source": [
    "df['DAY_OF_WEEK'] = pd.Categorical(df['DAY_OF_WEEK'], categories=['Monday', 'Tuesday', 'Wednesday', 'Thursday', 'Friday',\n",
    "                                                                  'Saturday', 'Sunday'], ordered=True)\n",
    "df.head()"
   ]
  },
  {
   "cell_type": "code",
   "execution_count": 21,
   "id": "c12506b9",
   "metadata": {},
   "outputs": [
    {
     "data": {
      "text/plain": [
       "INCIDENT_NUMBER          object\n",
       "OFFENSE_CODE              int64\n",
       "OFFENSE_CODE_GROUP       object\n",
       "OFFENSE_DESCRIPTION      object\n",
       "DISTRICT                 object\n",
       "REPORTING_AREA           object\n",
       "SHOOTING                 object\n",
       "YEAR                      int64\n",
       "MONTH                     int64\n",
       "DAY_OF_WEEK            category\n",
       "HOUR                      int64\n",
       "UCR_PART                 object\n",
       "STREET                   object\n",
       "Lat                     float64\n",
       "Long                    float64\n",
       "Location                 object\n",
       "dtype: object"
      ]
     },
     "execution_count": 21,
     "metadata": {},
     "output_type": "execute_result"
    }
   ],
   "source": [
    "df.dtypes"
   ]
  },
  {
   "cell_type": "code",
   "execution_count": 22,
   "id": "b36efcea",
   "metadata": {},
   "outputs": [],
   "source": [
    "# drop incident_number, offence_code because they don't add any value"
   ]
  },
  {
   "cell_type": "code",
   "execution_count": 26,
   "id": "05079201",
   "metadata": {},
   "outputs": [
    {
     "data": {
      "text/html": [
       "<div>\n",
       "<style scoped>\n",
       "    .dataframe tbody tr th:only-of-type {\n",
       "        vertical-align: middle;\n",
       "    }\n",
       "\n",
       "    .dataframe tbody tr th {\n",
       "        vertical-align: top;\n",
       "    }\n",
       "\n",
       "    .dataframe thead th {\n",
       "        text-align: right;\n",
       "    }\n",
       "</style>\n",
       "<table border=\"1\" class=\"dataframe\">\n",
       "  <thead>\n",
       "    <tr style=\"text-align: right;\">\n",
       "      <th></th>\n",
       "      <th>OFFENSE_CODE_GROUP</th>\n",
       "      <th>OFFENSE_DESCRIPTION</th>\n",
       "      <th>DISTRICT</th>\n",
       "      <th>REPORTING_AREA</th>\n",
       "      <th>SHOOTING</th>\n",
       "      <th>YEAR</th>\n",
       "      <th>MONTH</th>\n",
       "      <th>DAY_OF_WEEK</th>\n",
       "      <th>HOUR</th>\n",
       "      <th>UCR_PART</th>\n",
       "      <th>STREET</th>\n",
       "      <th>Lat</th>\n",
       "      <th>Long</th>\n",
       "      <th>Location</th>\n",
       "    </tr>\n",
       "  </thead>\n",
       "  <tbody>\n",
       "    <tr>\n",
       "      <th>5633</th>\n",
       "      <td>Larceny</td>\n",
       "      <td>LARCENY THEFT FROM BUILDING</td>\n",
       "      <td>E5</td>\n",
       "      <td>729</td>\n",
       "      <td>NaN</td>\n",
       "      <td>2019</td>\n",
       "      <td>10</td>\n",
       "      <td>Monday</td>\n",
       "      <td>13</td>\n",
       "      <td>Part One</td>\n",
       "      <td>VFW PKWY</td>\n",
       "      <td>42.285370</td>\n",
       "      <td>-71.172440</td>\n",
       "      <td>(42.28536992, -71.17244016)</td>\n",
       "    </tr>\n",
       "    <tr>\n",
       "      <th>5919</th>\n",
       "      <td>Auto Theft</td>\n",
       "      <td>AUTO THEFT - MOTORCYCLE / SCOOTER</td>\n",
       "      <td>E18</td>\n",
       "      <td>544</td>\n",
       "      <td>NaN</td>\n",
       "      <td>2019</td>\n",
       "      <td>3</td>\n",
       "      <td>Wednesday</td>\n",
       "      <td>9</td>\n",
       "      <td>Part One</td>\n",
       "      <td>AUSTIN ST</td>\n",
       "      <td>42.257688</td>\n",
       "      <td>-71.126418</td>\n",
       "      <td>(42.25768764, -71.12641770)</td>\n",
       "    </tr>\n",
       "    <tr>\n",
       "      <th>6940</th>\n",
       "      <td>Residential Burglary</td>\n",
       "      <td>BURGLARY - RESIDENTIAL - NO FORCE</td>\n",
       "      <td>D14</td>\n",
       "      <td>774</td>\n",
       "      <td>NaN</td>\n",
       "      <td>2019</td>\n",
       "      <td>3</td>\n",
       "      <td>Thursday</td>\n",
       "      <td>12</td>\n",
       "      <td>Part One</td>\n",
       "      <td>COMMONWEALTH AVE</td>\n",
       "      <td>42.338363</td>\n",
       "      <td>-71.154410</td>\n",
       "      <td>(42.33836272, -71.15441001)</td>\n",
       "    </tr>\n",
       "    <tr>\n",
       "      <th>12370</th>\n",
       "      <td>Larceny From Motor Vehicle</td>\n",
       "      <td>LARCENY THEFT FROM MV - NON-ACCESSORY</td>\n",
       "      <td>E13</td>\n",
       "      <td>571</td>\n",
       "      <td>NaN</td>\n",
       "      <td>2019</td>\n",
       "      <td>11</td>\n",
       "      <td>Tuesday</td>\n",
       "      <td>21</td>\n",
       "      <td>Part One</td>\n",
       "      <td>SYLVIA ST</td>\n",
       "      <td>42.310559</td>\n",
       "      <td>-71.102854</td>\n",
       "      <td>(42.31055889, -71.10285400)</td>\n",
       "    </tr>\n",
       "    <tr>\n",
       "      <th>14227</th>\n",
       "      <td>Larceny</td>\n",
       "      <td>LARCENY THEFT FROM BUILDING</td>\n",
       "      <td>D4</td>\n",
       "      <td>136</td>\n",
       "      <td>NaN</td>\n",
       "      <td>2019</td>\n",
       "      <td>12</td>\n",
       "      <td>Friday</td>\n",
       "      <td>16</td>\n",
       "      <td>Part One</td>\n",
       "      <td>MARLBOROUGH ST</td>\n",
       "      <td>42.352569</td>\n",
       "      <td>-71.079788</td>\n",
       "      <td>(42.35256908, -71.07978844)</td>\n",
       "    </tr>\n",
       "  </tbody>\n",
       "</table>\n",
       "</div>"
      ],
      "text/plain": [
       "               OFFENSE_CODE_GROUP                    OFFENSE_DESCRIPTION  \\\n",
       "5633                      Larceny            LARCENY THEFT FROM BUILDING   \n",
       "5919                   Auto Theft      AUTO THEFT - MOTORCYCLE / SCOOTER   \n",
       "6940         Residential Burglary      BURGLARY - RESIDENTIAL - NO FORCE   \n",
       "12370  Larceny From Motor Vehicle  LARCENY THEFT FROM MV - NON-ACCESSORY   \n",
       "14227                     Larceny            LARCENY THEFT FROM BUILDING   \n",
       "\n",
       "      DISTRICT REPORTING_AREA SHOOTING  YEAR  MONTH DAY_OF_WEEK  HOUR  \\\n",
       "5633        E5            729      NaN  2019     10      Monday    13   \n",
       "5919       E18            544      NaN  2019      3   Wednesday     9   \n",
       "6940       D14            774      NaN  2019      3    Thursday    12   \n",
       "12370      E13            571      NaN  2019     11     Tuesday    21   \n",
       "14227       D4            136      NaN  2019     12      Friday    16   \n",
       "\n",
       "       UCR_PART            STREET        Lat       Long  \\\n",
       "5633   Part One          VFW PKWY  42.285370 -71.172440   \n",
       "5919   Part One         AUSTIN ST  42.257688 -71.126418   \n",
       "6940   Part One  COMMONWEALTH AVE  42.338363 -71.154410   \n",
       "12370  Part One         SYLVIA ST  42.310559 -71.102854   \n",
       "14227  Part One    MARLBOROUGH ST  42.352569 -71.079788   \n",
       "\n",
       "                          Location  \n",
       "5633   (42.28536992, -71.17244016)  \n",
       "5919   (42.25768764, -71.12641770)  \n",
       "6940   (42.33836272, -71.15441001)  \n",
       "12370  (42.31055889, -71.10285400)  \n",
       "14227  (42.35256908, -71.07978844)  "
      ]
     },
     "execution_count": 26,
     "metadata": {},
     "output_type": "execute_result"
    }
   ],
   "source": [
    "df.drop(columns=['INCIDENT_NUMBER', 'OFFENSE_CODE'], inplace=True)\n",
    "df.head()"
   ]
  },
  {
   "cell_type": "markdown",
   "id": "aaa224fa",
   "metadata": {},
   "source": [
    "# Visualise the serious crimes in Boston"
   ]
  },
  {
   "cell_type": "code",
   "execution_count": 27,
   "id": "eceaaa0a",
   "metadata": {},
   "outputs": [
    {
     "data": {
      "text/plain": [
       "Index(['Larceny', 'Larceny From Motor Vehicle', 'Aggravated Assault',\n",
       "       'Residential Burglary', 'Auto Theft', 'Robbery', 'Commercial Burglary',\n",
       "       'Other Burglary', 'Homicide'],\n",
       "      dtype='object')"
      ]
     },
     "execution_count": 27,
     "metadata": {},
     "output_type": "execute_result"
    }
   ],
   "source": [
    "df['OFFENSE_CODE_GROUP'].value_counts().index"
   ]
  },
  {
   "cell_type": "code",
   "execution_count": 28,
   "id": "e677cc8e",
   "metadata": {},
   "outputs": [
    {
     "data": {
      "text/plain": [
       "array(['Larceny', 'Auto Theft', 'Residential Burglary',\n",
       "       'Larceny From Motor Vehicle', 'Aggravated Assault', 'Robbery',\n",
       "       'Other Burglary', 'Commercial Burglary', 'Homicide'], dtype=object)"
      ]
     },
     "execution_count": 28,
     "metadata": {},
     "output_type": "execute_result"
    }
   ],
   "source": [
    "df['OFFENSE_CODE_GROUP'].unique()"
   ]
  },
  {
   "cell_type": "code",
   "execution_count": 30,
   "id": "f5a413eb",
   "metadata": {},
   "outputs": [
    {
     "data": {
      "image/png": "[encoded data removed]",
      "text/plain": [
       "<Figure size 792x792 with 1 Axes>"
      ]
     },
     "metadata": {
      "needs_background": "light"
     },
     "output_type": "display_data"
    }
   ],
   "source": [
    "sns.catplot(y='OFFENSE_CODE_GROUP',\n",
    "           kind='count',\n",
    "           height=11,\n",
    "           aspect=1.0,\n",
    "           order=df['OFFENSE_CODE_GROUP'].unique(),\n",
    "           data=df)\n",
    "plt.show()"
   ]
  },
  {
   "cell_type": "markdown",
   "id": "34b43ca3",
   "metadata": {},
   "source": [
    "# Occurance of series crimes per hour"
   ]
  },
  {
   "cell_type": "code",
   "execution_count": 33,
   "id": "205bab71",
   "metadata": {},
   "outputs": [
    {
     "data": {
      "image/png": "[encoded data removed]",
      "text/plain": [
       "<Figure size 504x504 with 1 Axes>"
      ]
     },
     "metadata": {
      "needs_background": "light"
     },
     "output_type": "display_data"
    }
   ],
   "source": [
    "sns.catplot(x='HOUR',\n",
    "           kind='count',\n",
    "           height=7,\n",
    "           aspect=1.0,\n",
    "           data=df)\n",
    "plt.show()"
   ]
  },
  {
   "cell_type": "markdown",
   "id": "aa883754",
   "metadata": {},
   "source": [
    "# Occurance of serious crimes by day of the week"
   ]
  },
  {
   "cell_type": "code",
   "execution_count": 35,
   "id": "66006d0c",
   "metadata": {},
   "outputs": [
    {
     "data": {
      "image/png": "[encoded data removed]",
      "text/plain": [
       "<Figure size 576x576 with 1 Axes>"
      ]
     },
     "metadata": {
      "needs_background": "light"
     },
     "output_type": "display_data"
    }
   ],
   "source": [
    "sns.catplot(y='DAY_OF_WEEK',\n",
    "           kind='count',\n",
    "           height=8,\n",
    "           aspect=1.0,\n",
    "           data=df)\n",
    "plt.show()"
   ]
  },
  {
   "cell_type": "markdown",
   "id": "91243fa7",
   "metadata": {},
   "source": [
    "# Add filter Larceny"
   ]
  },
  {
   "cell_type": "code",
   "execution_count": 45,
   "id": "617114f4",
   "metadata": {},
   "outputs": [
    {
     "data": {
      "image/png": "[encoded data removed]",
      "text/plain": [
       "<Figure size 5832x648 with 9 Axes>"
      ]
     },
     "metadata": {
      "needs_background": "light"
     },
     "output_type": "display_data"
    }
   ],
   "source": [
    "sns.catplot(x='DAY_OF_WEEK',\n",
    "           kind='count',\n",
    "           height=9,\n",
    "           aspect=1.0,\n",
    "           data=df,\n",
    "           col='OFFENSE_CODE_GROUP')\n",
    "plt.show()"
   ]
  },
  {
   "cell_type": "code",
   "execution_count": null,
   "id": "f46bc00c",
   "metadata": {},
   "outputs": [],
   "source": []
  }
 ],
 "metadata": {
  "kernelspec": {
   "display_name": "Python 3 (ipykernel)",
   "language": "python",
   "name": "python3"
  },
  "language_info": {
   "codemirror_mode": {
    "name": "ipython",
    "version": 3
   },
   "file_extension": ".py",
   "mimetype": "text/x-python",
   "name": "python",
   "nbconvert_exporter": "python",
   "pygments_lexer": "ipython3",
   "version": "3.9.12"
  }
 },
 "nbformat": 4,
 "nbformat_minor": 5
}
