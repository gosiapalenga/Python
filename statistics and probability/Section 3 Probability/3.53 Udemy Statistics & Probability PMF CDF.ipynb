{
 "cells": [
  {
   "cell_type": "markdown",
   "id": "0ad3f231",
   "metadata": {},
   "source": [
    "# Problem\n",
    "20 customers have purchased clothes from a website. It's observed that 10% of the customers will return the items for some specific reasons."
   ]
  },
  {
   "cell_type": "code",
   "execution_count": 1,
   "id": "299acc48",
   "metadata": {},
   "outputs": [],
   "source": [
    "from scipy import stats"
   ]
  },
  {
   "cell_type": "markdown",
   "id": "eb593396",
   "metadata": {},
   "source": [
    "# Q1 What is the probability that exactly 5 customers will return the items"
   ]
  },
  {
   "cell_type": "code",
   "execution_count": 2,
   "id": "5550b6b8",
   "metadata": {},
   "outputs": [
    {
     "data": {
      "text/plain": [
       "0.031921361119954424"
      ]
     },
     "execution_count": 2,
     "metadata": {},
     "output_type": "execute_result"
    }
   ],
   "source": [
    "# 5 - the total number of trials or times the experiment will be carried out\n",
    "# 20 - a list of integers from 0 to n, inclusive\n",
    "# 0.1 - the probability that the outcome of a single experiment will be a success. The value of p must be between 0 and 1, inclusive\n",
    "stats.binom.pmf(5, 20, 0.1)"
   ]
  },
  {
   "cell_type": "markdown",
   "id": "368ec955",
   "metadata": {},
   "source": [
    "# Q2 What is the probability that max 5(5 or less) customers will return the items"
   ]
  },
  {
   "cell_type": "code",
   "execution_count": 3,
   "id": "ae5ce8d0",
   "metadata": {},
   "outputs": [
    {
     "data": {
      "text/plain": [
       "0.988746865835491"
      ]
     },
     "execution_count": 3,
     "metadata": {},
     "output_type": "execute_result"
    }
   ],
   "source": [
    "stats.binom.cdf(5, 20, 0.1)"
   ]
  },
  {
   "cell_type": "markdown",
   "id": "c60b291f",
   "metadata": {},
   "source": [
    "# Q3 What is the probability that more than 5 customers will return the purchased items"
   ]
  },
  {
   "cell_type": "code",
   "execution_count": 4,
   "id": "00b4822c",
   "metadata": {},
   "outputs": [
    {
     "data": {
      "text/plain": [
       "0.011253134164509015"
      ]
     },
     "execution_count": 4,
     "metadata": {},
     "output_type": "execute_result"
    }
   ],
   "source": [
    "1 - stats.binom.cdf(5, 20, 0.1) # 1.1% chance that more than 5 customers will return items"
   ]
  },
  {
   "cell_type": "code",
   "execution_count": 5,
   "id": "f79aecf9",
   "metadata": {},
   "outputs": [
    {
     "data": {
      "text/plain": [
       "array(2.)"
      ]
     },
     "execution_count": 5,
     "metadata": {},
     "output_type": "execute_result"
    }
   ],
   "source": [
    "avg, variance = stats.binom.stats(20, 0.1)\n",
    "avg"
   ]
  },
  {
   "cell_type": "code",
   "execution_count": 6,
   "id": "f6619692",
   "metadata": {},
   "outputs": [
    {
     "data": {
      "text/plain": [
       "array(1.8)"
      ]
     },
     "execution_count": 6,
     "metadata": {},
     "output_type": "execute_result"
    }
   ],
   "source": [
    "variance"
   ]
  },
  {
   "cell_type": "code",
   "execution_count": 7,
   "id": "aabc8cf2",
   "metadata": {},
   "outputs": [],
   "source": [
    "import math"
   ]
  },
  {
   "cell_type": "code",
   "execution_count": 8,
   "id": "90cc0e5c",
   "metadata": {},
   "outputs": [
    {
     "data": {
      "text/plain": [
       "1.3416407864998738"
      ]
     },
     "execution_count": 8,
     "metadata": {},
     "output_type": "execute_result"
    }
   ],
   "source": [
    "math.sqrt(1.8)"
   ]
  },
  {
   "cell_type": "code",
   "execution_count": null,
   "id": "8b5d6950",
   "metadata": {},
   "outputs": [],
   "source": []
  }
 ],
 "metadata": {
  "kernelspec": {
   "display_name": "Python 3 (ipykernel)",
   "language": "python",
   "name": "python3"
  },
  "language_info": {
   "codemirror_mode": {
    "name": "ipython",
    "version": 3
   },
   "file_extension": ".py",
   "mimetype": "text/x-python",
   "name": "python",
   "nbconvert_exporter": "python",
   "pygments_lexer": "ipython3",
   "version": "3.9.12"
  }
 },
 "nbformat": 4,
 "nbformat_minor": 5
}
