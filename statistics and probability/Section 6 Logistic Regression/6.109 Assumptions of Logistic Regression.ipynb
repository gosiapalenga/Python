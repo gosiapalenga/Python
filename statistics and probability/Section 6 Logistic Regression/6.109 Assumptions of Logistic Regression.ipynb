{
 "cells": [
  {
   "cell_type": "code",
   "execution_count": null,
   "id": "8122a4a4",
   "metadata": {},
   "outputs": [],
   "source": [
    "# Assumptions\n",
    "\n",
    "# 1. The dependent variable should be binary\n",
    "# 2. Independent variable should be linearly related to the log(odds)\n",
    "# 3. Model should be fitted correctly, meaning only th emeaningful variables should be included\n",
    "# 4. The model should have little or no multicollinearity, that is independent variables are independent\n",
    "# 5. Sample size should be large"
   ]
  }
 ],
 "metadata": {
  "kernelspec": {
   "display_name": "Python 3 (ipykernel)",
   "language": "python",
   "name": "python3"
  },
  "language_info": {
   "codemirror_mode": {
    "name": "ipython",
    "version": 3
   },
   "file_extension": ".py",
   "mimetype": "text/x-python",
   "name": "python",
   "nbconvert_exporter": "python",
   "pygments_lexer": "ipython3",
   "version": "3.9.12"
  }
 },
 "nbformat": 4,
 "nbformat_minor": 5
}
