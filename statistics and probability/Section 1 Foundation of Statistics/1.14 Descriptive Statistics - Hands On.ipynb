{
 "cells": [
  {
   "cell_type": "code",
   "execution_count": null,
   "id": "9020c826",
   "metadata": {},
   "outputs": [],
   "source": [
    "# Loading example data\n",
    "# Find Descriptive Statistics Values using Python: Skewness, Kurtosis, Percentile, z-score(standard score)"
   ]
  },
  {
   "cell_type": "code",
   "execution_count": 1,
   "id": "917f8ef6",
   "metadata": {},
   "outputs": [],
   "source": [
    "import pandas as pd\n",
    "import numpy as np"
   ]
  },
  {
   "cell_type": "code",
   "execution_count": 7,
   "id": "3a85fbde",
   "metadata": {},
   "outputs": [],
   "source": [
    "df = pd.read_csv(\"C:/Users/go27s/OneDrive/Documents/Udemy/Statistics and Probability/Statistics/lesson 1.14/sales_train.csv\")"
   ]
  },
  {
   "cell_type": "code",
   "execution_count": 8,
   "id": "f89c1534",
   "metadata": {},
   "outputs": [
    {
     "data": {
      "text/html": [
       "<div>\n",
       "<style scoped>\n",
       "    .dataframe tbody tr th:only-of-type {\n",
       "        vertical-align: middle;\n",
       "    }\n",
       "\n",
       "    .dataframe tbody tr th {\n",
       "        vertical-align: top;\n",
       "    }\n",
       "\n",
       "    .dataframe thead th {\n",
       "        text-align: right;\n",
       "    }\n",
       "</style>\n",
       "<table border=\"1\" class=\"dataframe\">\n",
       "  <thead>\n",
       "    <tr style=\"text-align: right;\">\n",
       "      <th></th>\n",
       "      <th>date</th>\n",
       "      <th>date_block_num</th>\n",
       "      <th>shop_id</th>\n",
       "      <th>item_id</th>\n",
       "      <th>item_price</th>\n",
       "      <th>item_cnt_day</th>\n",
       "    </tr>\n",
       "  </thead>\n",
       "  <tbody>\n",
       "    <tr>\n",
       "      <th>0</th>\n",
       "      <td>02.01.2013</td>\n",
       "      <td>0</td>\n",
       "      <td>59</td>\n",
       "      <td>22154</td>\n",
       "      <td>999.00</td>\n",
       "      <td>1</td>\n",
       "    </tr>\n",
       "    <tr>\n",
       "      <th>1</th>\n",
       "      <td>03.01.2013</td>\n",
       "      <td>0</td>\n",
       "      <td>25</td>\n",
       "      <td>2552</td>\n",
       "      <td>899.00</td>\n",
       "      <td>1</td>\n",
       "    </tr>\n",
       "    <tr>\n",
       "      <th>2</th>\n",
       "      <td>05.01.2013</td>\n",
       "      <td>0</td>\n",
       "      <td>25</td>\n",
       "      <td>2552</td>\n",
       "      <td>899.00</td>\n",
       "      <td>-1</td>\n",
       "    </tr>\n",
       "    <tr>\n",
       "      <th>3</th>\n",
       "      <td>06.01.2013</td>\n",
       "      <td>0</td>\n",
       "      <td>25</td>\n",
       "      <td>2554</td>\n",
       "      <td>1709.05</td>\n",
       "      <td>1</td>\n",
       "    </tr>\n",
       "    <tr>\n",
       "      <th>4</th>\n",
       "      <td>15.01.2013</td>\n",
       "      <td>0</td>\n",
       "      <td>25</td>\n",
       "      <td>2555</td>\n",
       "      <td>1099.00</td>\n",
       "      <td>1</td>\n",
       "    </tr>\n",
       "  </tbody>\n",
       "</table>\n",
       "</div>"
      ],
      "text/plain": [
       "         date  date_block_num  shop_id  item_id  item_price  item_cnt_day\n",
       "0  02.01.2013               0       59    22154      999.00             1\n",
       "1  03.01.2013               0       25     2552      899.00             1\n",
       "2  05.01.2013               0       25     2552      899.00            -1\n",
       "3  06.01.2013               0       25     2554     1709.05             1\n",
       "4  15.01.2013               0       25     2555     1099.00             1"
      ]
     },
     "execution_count": 8,
     "metadata": {},
     "output_type": "execute_result"
    }
   ],
   "source": [
    "df.head()"
   ]
  },
  {
   "cell_type": "code",
   "execution_count": 9,
   "id": "e88013a5",
   "metadata": {},
   "outputs": [
    {
     "data": {
      "text/html": [
       "<div>\n",
       "<style scoped>\n",
       "    .dataframe tbody tr th:only-of-type {\n",
       "        vertical-align: middle;\n",
       "    }\n",
       "\n",
       "    .dataframe tbody tr th {\n",
       "        vertical-align: top;\n",
       "    }\n",
       "\n",
       "    .dataframe thead th {\n",
       "        text-align: right;\n",
       "    }\n",
       "</style>\n",
       "<table border=\"1\" class=\"dataframe\">\n",
       "  <thead>\n",
       "    <tr style=\"text-align: right;\">\n",
       "      <th></th>\n",
       "      <th>date_block_num</th>\n",
       "      <th>shop_id</th>\n",
       "      <th>item_id</th>\n",
       "      <th>item_price</th>\n",
       "      <th>item_cnt_day</th>\n",
       "    </tr>\n",
       "  </thead>\n",
       "  <tbody>\n",
       "    <tr>\n",
       "      <th>count</th>\n",
       "      <td>1.043246e+06</td>\n",
       "      <td>1.043246e+06</td>\n",
       "      <td>1.043246e+06</td>\n",
       "      <td>1.043246e+06</td>\n",
       "      <td>1.043246e+06</td>\n",
       "    </tr>\n",
       "    <tr>\n",
       "      <th>mean</th>\n",
       "      <td>4.472810e+00</td>\n",
       "      <td>3.245368e+01</td>\n",
       "      <td>1.024260e+04</td>\n",
       "      <td>6.823654e+02</td>\n",
       "      <td>1.220174e+00</td>\n",
       "    </tr>\n",
       "    <tr>\n",
       "      <th>std</th>\n",
       "      <td>2.967065e+00</td>\n",
       "      <td>1.625856e+01</td>\n",
       "      <td>6.305360e+03</td>\n",
       "      <td>1.124829e+03</td>\n",
       "      <td>1.600203e+00</td>\n",
       "    </tr>\n",
       "    <tr>\n",
       "      <th>min</th>\n",
       "      <td>0.000000e+00</td>\n",
       "      <td>0.000000e+00</td>\n",
       "      <td>1.200000e+01</td>\n",
       "      <td>-1.000000e+00</td>\n",
       "      <td>-6.000000e+00</td>\n",
       "    </tr>\n",
       "    <tr>\n",
       "      <th>25%</th>\n",
       "      <td>2.000000e+00</td>\n",
       "      <td>2.200000e+01</td>\n",
       "      <td>4.548000e+03</td>\n",
       "      <td>1.990000e+02</td>\n",
       "      <td>1.000000e+00</td>\n",
       "    </tr>\n",
       "    <tr>\n",
       "      <th>50%</th>\n",
       "      <td>4.000000e+00</td>\n",
       "      <td>3.000000e+01</td>\n",
       "      <td>9.691000e+03</td>\n",
       "      <td>3.990000e+02</td>\n",
       "      <td>1.000000e+00</td>\n",
       "    </tr>\n",
       "    <tr>\n",
       "      <th>75%</th>\n",
       "      <td>7.000000e+00</td>\n",
       "      <td>4.700000e+01</td>\n",
       "      <td>1.561875e+04</td>\n",
       "      <td>6.993000e+02</td>\n",
       "      <td>1.000000e+00</td>\n",
       "    </tr>\n",
       "    <tr>\n",
       "      <th>max</th>\n",
       "      <td>1.000000e+01</td>\n",
       "      <td>5.900000e+01</td>\n",
       "      <td>2.216800e+04</td>\n",
       "      <td>5.920000e+04</td>\n",
       "      <td>2.880000e+02</td>\n",
       "    </tr>\n",
       "  </tbody>\n",
       "</table>\n",
       "</div>"
      ],
      "text/plain": [
       "       date_block_num       shop_id       item_id    item_price  item_cnt_day\n",
       "count    1.043246e+06  1.043246e+06  1.043246e+06  1.043246e+06  1.043246e+06\n",
       "mean     4.472810e+00  3.245368e+01  1.024260e+04  6.823654e+02  1.220174e+00\n",
       "std      2.967065e+00  1.625856e+01  6.305360e+03  1.124829e+03  1.600203e+00\n",
       "min      0.000000e+00  0.000000e+00  1.200000e+01 -1.000000e+00 -6.000000e+00\n",
       "25%      2.000000e+00  2.200000e+01  4.548000e+03  1.990000e+02  1.000000e+00\n",
       "50%      4.000000e+00  3.000000e+01  9.691000e+03  3.990000e+02  1.000000e+00\n",
       "75%      7.000000e+00  4.700000e+01  1.561875e+04  6.993000e+02  1.000000e+00\n",
       "max      1.000000e+01  5.900000e+01  2.216800e+04  5.920000e+04  2.880000e+02"
      ]
     },
     "execution_count": 9,
     "metadata": {},
     "output_type": "execute_result"
    }
   ],
   "source": [
    "# 5 summary point numbers - measure of position\n",
    "df.describe()"
   ]
  },
  {
   "cell_type": "code",
   "execution_count": 11,
   "id": "2882272c",
   "metadata": {},
   "outputs": [
    {
     "data": {
      "text/plain": [
       "59201.0"
      ]
     },
     "execution_count": 11,
     "metadata": {},
     "output_type": "execute_result"
    }
   ],
   "source": [
    "# Range - measure of spread(whole dataset). Function ptp() returns range of values (max minus min) along an axis\n",
    "# Range is a difference between the lowest and highest value. It's the simplest measure of variablity, influenced by outliers\n",
    "np.ptp(df['item_price']) "
   ]
  },
  {
   "cell_type": "code",
   "execution_count": 12,
   "id": "17d28d3f",
   "metadata": {},
   "outputs": [
    {
     "data": {
      "text/plain": [
       "59201.0"
      ]
     },
     "execution_count": 12,
     "metadata": {},
     "output_type": "execute_result"
    }
   ],
   "source": [
    "# To verify the above range result\n",
    "df['item_price'].max() - df['item_price'].min()"
   ]
  },
  {
   "cell_type": "code",
   "execution_count": 13,
   "id": "5370913f",
   "metadata": {},
   "outputs": [],
   "source": [
    "# IQR - difference between the first quartile and the third quartile. The dataset is divided into 3 Quartiles → Q1, Q2, Q3\n",
    "from scipy.stats import iqr"
   ]
  },
  {
   "cell_type": "code",
   "execution_count": 14,
   "id": "6d8355e3",
   "metadata": {},
   "outputs": [
    {
     "data": {
      "text/plain": [
       "500.29999999999995"
      ]
     },
     "execution_count": 14,
     "metadata": {},
     "output_type": "execute_result"
    }
   ],
   "source": [
    "iqr(df['item_price'])"
   ]
  },
  {
   "cell_type": "code",
   "execution_count": 15,
   "id": "90c98350",
   "metadata": {},
   "outputs": [],
   "source": [
    "# Standard Deviation - The standard deviation is the average amount of variability in your dataset. \n",
    "# It tells you, on average, how far each value lies from the mean.\n",
    "\n",
    "#A high standard deviation means that values are generally far from the mean, \n",
    "#while a low standard deviation indicates that values are clustered close to the mean."
   ]
  },
  {
   "cell_type": "code",
   "execution_count": 16,
   "id": "e58ffc22",
   "metadata": {},
   "outputs": [],
   "source": [
    "# Kurtosis - descriptor of the distribution shape in terms of height or flatness.\n",
    "from scipy.stats import kurtosis"
   ]
  },
  {
   "cell_type": "code",
   "execution_count": 19,
   "id": "b7ca9bdb",
   "metadata": {},
   "outputs": [
    {
     "name": "stdout",
     "output_type": "stream",
     "text": [
      "Pearsons kurtosis: 92.66216201619402\n",
      "Fisher's kurtosis: 89.66216201619402\n"
     ]
    }
   ],
   "source": [
    "print(f\"Pearsons kurtosis: {kurtosis(df['item_price'], fisher = False)}\")\n",
    "print(f\"Fisher's kurtosis: {kurtosis(df['item_price'], fisher = True)}\")"
   ]
  },
  {
   "cell_type": "code",
   "execution_count": 20,
   "id": "3b4f8753",
   "metadata": {},
   "outputs": [],
   "source": [
    "# Skewness\n",
    "from scipy.stats import skew"
   ]
  },
  {
   "cell_type": "code",
   "execution_count": 21,
   "id": "9eaba8a6",
   "metadata": {},
   "outputs": [
    {
     "data": {
      "text/plain": [
       "7.754518597379134"
      ]
     },
     "execution_count": 21,
     "metadata": {},
     "output_type": "execute_result"
    }
   ],
   "source": [
    "# is the data positively or negatively skewed\n",
    "skew(df['item_price'])"
   ]
  },
  {
   "cell_type": "code",
   "execution_count": 23,
   "id": "fb99a400",
   "metadata": {},
   "outputs": [
    {
     "data": {
      "text/plain": [
       "699.3"
      ]
     },
     "execution_count": 23,
     "metadata": {},
     "output_type": "execute_result"
    }
   ],
   "source": [
    "# Percentile\n",
    "np.percentile(df['item_price'], 75)"
   ]
  },
  {
   "cell_type": "code",
   "execution_count": 24,
   "id": "7b5526ae",
   "metadata": {},
   "outputs": [],
   "source": [
    "from scipy.stats import zscore"
   ]
  },
  {
   "cell_type": "code",
   "execution_count": 25,
   "id": "f8e2f3fd",
   "metadata": {},
   "outputs": [
    {
     "data": {
      "text/plain": [
       "0          0.281496\n",
       "1          0.192593\n",
       "2          0.192593\n",
       "3          0.912748\n",
       "4          0.370398\n",
       "             ...   \n",
       "1043241   -0.429724\n",
       "1043242   -0.429724\n",
       "1043243   -0.429724\n",
       "1043244   -0.518626\n",
       "1043245   -0.429724\n",
       "Name: item_price, Length: 1043246, dtype: float64"
      ]
     },
     "execution_count": 25,
     "metadata": {},
     "output_type": "execute_result"
    }
   ],
   "source": [
    "# Generate zscore of the individual values in my column - distance from the mean\n",
    "zscore(df['item_price']) "
   ]
  },
  {
   "cell_type": "code",
   "execution_count": null,
   "id": "c0138e4a",
   "metadata": {},
   "outputs": [],
   "source": []
  }
 ],
 "metadata": {
  "kernelspec": {
   "display_name": "Python 3 (ipykernel)",
   "language": "python",
   "name": "python3"
  },
  "language_info": {
   "codemirror_mode": {
    "name": "ipython",
    "version": 3
   },
   "file_extension": ".py",
   "mimetype": "text/x-python",
   "name": "python",
   "nbconvert_exporter": "python",
   "pygments_lexer": "ipython3",
   "version": "3.9.12"
  }
 },
 "nbformat": 4,
 "nbformat_minor": 5
}
