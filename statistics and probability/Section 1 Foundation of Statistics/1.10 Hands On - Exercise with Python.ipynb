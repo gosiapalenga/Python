{
 "cells": [
  {
   "cell_type": "code",
   "execution_count": 22,
   "id": "9db50b6e",
   "metadata": {},
   "outputs": [],
   "source": [
    "import pandas as pd\n",
    "import numpy as np\n",
    "import statistics as st"
   ]
  },
  {
   "cell_type": "code",
   "execution_count": 6,
   "id": "9b973f51",
   "metadata": {},
   "outputs": [
    {
     "data": {
      "text/html": [
       "<div>\n",
       "<style scoped>\n",
       "    .dataframe tbody tr th:only-of-type {\n",
       "        vertical-align: middle;\n",
       "    }\n",
       "\n",
       "    .dataframe tbody tr th {\n",
       "        vertical-align: top;\n",
       "    }\n",
       "\n",
       "    .dataframe thead th {\n",
       "        text-align: right;\n",
       "    }\n",
       "</style>\n",
       "<table border=\"1\" class=\"dataframe\">\n",
       "  <thead>\n",
       "    <tr style=\"text-align: right;\">\n",
       "      <th></th>\n",
       "      <th>John</th>\n",
       "      <th>Adam</th>\n",
       "      <th>David</th>\n",
       "    </tr>\n",
       "  </thead>\n",
       "  <tbody>\n",
       "    <tr>\n",
       "      <th>0</th>\n",
       "      <td>98</td>\n",
       "      <td>88</td>\n",
       "      <td>92</td>\n",
       "    </tr>\n",
       "    <tr>\n",
       "      <th>1</th>\n",
       "      <td>87</td>\n",
       "      <td>52</td>\n",
       "      <td>92</td>\n",
       "    </tr>\n",
       "    <tr>\n",
       "      <th>2</th>\n",
       "      <td>87</td>\n",
       "      <td>69</td>\n",
       "      <td>60</td>\n",
       "    </tr>\n",
       "    <tr>\n",
       "      <th>3</th>\n",
       "      <td>88</td>\n",
       "      <td>79</td>\n",
       "      <td>60</td>\n",
       "    </tr>\n",
       "    <tr>\n",
       "      <th>4</th>\n",
       "      <td>96</td>\n",
       "      <td>79</td>\n",
       "      <td>92</td>\n",
       "    </tr>\n",
       "  </tbody>\n",
       "</table>\n",
       "</div>"
      ],
      "text/plain": [
       "   John  Adam  David\n",
       "0    98    88     92\n",
       "1    87    52     92\n",
       "2    87    69     60\n",
       "3    88    79     60\n",
       "4    96    79     92"
      ]
     },
     "execution_count": 6,
     "metadata": {},
     "output_type": "execute_result"
    }
   ],
   "source": [
    "#create a Python dictionary\n",
    "df = pd.DataFrame({\"John\": [98,87,87,88,96],\n",
    "                   \"Adam\": [88,52,69,79,79],\n",
    "                   'David': [92,92,60,60,92]})\n",
    "df"
   ]
  },
  {
   "cell_type": "code",
   "execution_count": null,
   "id": "a8adac1c",
   "metadata": {},
   "outputs": [],
   "source": [
    "#Measure of the Central Tendency: mean, median, mode"
   ]
  },
  {
   "cell_type": "code",
   "execution_count": 7,
   "id": "57ddb877",
   "metadata": {},
   "outputs": [
    {
     "data": {
      "text/plain": [
       "John     91.2\n",
       "Adam     73.4\n",
       "David    79.2\n",
       "dtype: float64"
      ]
     },
     "execution_count": 7,
     "metadata": {},
     "output_type": "execute_result"
    }
   ],
   "source": [
    "#calculate mean for each column, axis = 0\n",
    "df.mean(axis = 0)"
   ]
  },
  {
   "cell_type": "code",
   "execution_count": 8,
   "id": "09cc3b50",
   "metadata": {},
   "outputs": [
    {
     "data": {
      "text/plain": [
       "John     88.0\n",
       "Adam     79.0\n",
       "David    92.0\n",
       "dtype: float64"
      ]
     },
     "execution_count": 8,
     "metadata": {},
     "output_type": "execute_result"
    }
   ],
   "source": [
    "df.median(axis=0)"
   ]
  },
  {
   "cell_type": "code",
   "execution_count": 9,
   "id": "53f69773",
   "metadata": {},
   "outputs": [
    {
     "data": {
      "text/html": [
       "<div>\n",
       "<style scoped>\n",
       "    .dataframe tbody tr th:only-of-type {\n",
       "        vertical-align: middle;\n",
       "    }\n",
       "\n",
       "    .dataframe tbody tr th {\n",
       "        vertical-align: top;\n",
       "    }\n",
       "\n",
       "    .dataframe thead th {\n",
       "        text-align: right;\n",
       "    }\n",
       "</style>\n",
       "<table border=\"1\" class=\"dataframe\">\n",
       "  <thead>\n",
       "    <tr style=\"text-align: right;\">\n",
       "      <th></th>\n",
       "      <th>John</th>\n",
       "      <th>Adam</th>\n",
       "      <th>David</th>\n",
       "    </tr>\n",
       "  </thead>\n",
       "  <tbody>\n",
       "    <tr>\n",
       "      <th>0</th>\n",
       "      <td>87</td>\n",
       "      <td>79</td>\n",
       "      <td>92</td>\n",
       "    </tr>\n",
       "  </tbody>\n",
       "</table>\n",
       "</div>"
      ],
      "text/plain": [
       "   John  Adam  David\n",
       "0    87    79     92"
      ]
     },
     "execution_count": 9,
     "metadata": {},
     "output_type": "execute_result"
    }
   ],
   "source": [
    "#mode is the most frequently occuring value in the dataset\n",
    "df.mode(axis=0)"
   ]
  },
  {
   "cell_type": "code",
   "execution_count": 10,
   "id": "9333b2b8",
   "metadata": {},
   "outputs": [],
   "source": [
    "#Measure of Dispersion: Variance and Standard Deviation"
   ]
  },
  {
   "cell_type": "code",
   "execution_count": 11,
   "id": "782ba0ab",
   "metadata": {},
   "outputs": [
    {
     "data": {
      "text/plain": [
       "John      28.7\n",
       "Adam     188.3\n",
       "David    307.2\n",
       "dtype: float64"
      ]
     },
     "execution_count": 11,
     "metadata": {},
     "output_type": "execute_result"
    }
   ],
   "source": [
    "#sample variance\n",
    "df.var() "
   ]
  },
  {
   "cell_type": "code",
   "execution_count": 15,
   "id": "9af2f38d",
   "metadata": {},
   "outputs": [
    {
     "data": {
      "text/plain": [
       "28.700000000000003"
      ]
     },
     "execution_count": 15,
     "metadata": {},
     "output_type": "execute_result"
    }
   ],
   "source": [
    "#get the column 'John' and from each value subtract mean. Square the total **2 and sum() up. Divide by the number of elements -1\n",
    "((df['John'] - df['John'].mean())**2).sum() / (len(df['John']) -1)"
   ]
  },
  {
   "cell_type": "code",
   "execution_count": 16,
   "id": "3a0e55a5",
   "metadata": {},
   "outputs": [
    {
     "data": {
      "text/plain": [
       "John      22.96\n",
       "Adam     150.64\n",
       "David    245.76\n",
       "dtype: float64"
      ]
     },
     "execution_count": 16,
     "metadata": {},
     "output_type": "execute_result"
    }
   ],
   "source": [
    "#population variance, ddof - the degree of freedom\n",
    "df.var(ddof=0)"
   ]
  },
  {
   "cell_type": "code",
   "execution_count": 17,
   "id": "fda4b6bc",
   "metadata": {},
   "outputs": [
    {
     "data": {
      "text/plain": [
       "22.96"
      ]
     },
     "execution_count": 17,
     "metadata": {},
     "output_type": "execute_result"
    }
   ],
   "source": [
    "((df['John'] - df['John'].mean())**2).sum() / (len(df['John']))  #remove -1"
   ]
  },
  {
   "cell_type": "code",
   "execution_count": 18,
   "id": "c3ab19a9",
   "metadata": {},
   "outputs": [
    {
     "data": {
      "text/plain": [
       "John      5.357238\n",
       "Adam     13.722245\n",
       "David    17.527122\n",
       "dtype: float64"
      ]
     },
     "execution_count": 18,
     "metadata": {},
     "output_type": "execute_result"
    }
   ],
   "source": [
    "#Standard Deviation for sample\n",
    "df.std()"
   ]
  },
  {
   "cell_type": "code",
   "execution_count": 19,
   "id": "aad6ac73",
   "metadata": {},
   "outputs": [
    {
     "data": {
      "text/plain": [
       "John      4.791659\n",
       "Adam     12.273549\n",
       "David    15.676734\n",
       "dtype: float64"
      ]
     },
     "execution_count": 19,
     "metadata": {},
     "output_type": "execute_result"
    }
   ],
   "source": [
    "#Satndard Deviation for population\n",
    "df.std(ddof=0)"
   ]
  },
  {
   "cell_type": "code",
   "execution_count": 21,
   "id": "8f42bc28",
   "metadata": {},
   "outputs": [
    {
     "data": {
      "text/plain": [
       "4.791659420284375"
      ]
     },
     "execution_count": 21,
     "metadata": {},
     "output_type": "execute_result"
    }
   ],
   "source": [
    "np.sqrt(22.96)"
   ]
  },
  {
   "cell_type": "code",
   "execution_count": 23,
   "id": "8755965b",
   "metadata": {},
   "outputs": [],
   "source": [
    "#Satistics module"
   ]
  },
  {
   "cell_type": "code",
   "execution_count": 24,
   "id": "62e21b85",
   "metadata": {},
   "outputs": [],
   "source": [
    "num = [1,2,3,4,4,6,7,4,9]"
   ]
  },
  {
   "cell_type": "code",
   "execution_count": 26,
   "id": "8fee06de",
   "metadata": {},
   "outputs": [
    {
     "data": {
      "text/plain": [
       "4.444444444444445"
      ]
     },
     "execution_count": 26,
     "metadata": {},
     "output_type": "execute_result"
    }
   ],
   "source": [
    "st.mean(num)"
   ]
  },
  {
   "cell_type": "code",
   "execution_count": 27,
   "id": "520383cc",
   "metadata": {},
   "outputs": [
    {
     "data": {
      "text/plain": [
       "4"
      ]
     },
     "execution_count": 27,
     "metadata": {},
     "output_type": "execute_result"
    }
   ],
   "source": [
    "st.median(num)"
   ]
  },
  {
   "cell_type": "code",
   "execution_count": 28,
   "id": "c244d22c",
   "metadata": {},
   "outputs": [
    {
     "data": {
      "text/plain": [
       "4"
      ]
     },
     "execution_count": 28,
     "metadata": {},
     "output_type": "execute_result"
    }
   ],
   "source": [
    "st.mode(num)"
   ]
  },
  {
   "cell_type": "code",
   "execution_count": 29,
   "id": "69642794",
   "metadata": {},
   "outputs": [
    {
     "data": {
      "text/plain": [
       "6.277777777777778"
      ]
     },
     "execution_count": 29,
     "metadata": {},
     "output_type": "execute_result"
    }
   ],
   "source": [
    "st.variance(num)"
   ]
  },
  {
   "cell_type": "code",
   "execution_count": 30,
   "id": "405ac2f0",
   "metadata": {},
   "outputs": [
    {
     "data": {
      "text/plain": [
       "2.5055493963954847"
      ]
     },
     "execution_count": 30,
     "metadata": {},
     "output_type": "execute_result"
    }
   ],
   "source": [
    "st.sqrt(st.variance(num))"
   ]
  },
  {
   "cell_type": "code",
   "execution_count": null,
   "id": "20624c88",
   "metadata": {},
   "outputs": [],
   "source": []
  }
 ],
 "metadata": {
  "kernelspec": {
   "display_name": "Python 3 (ipykernel)",
   "language": "python",
   "name": "python3"
  },
  "language_info": {
   "codemirror_mode": {
    "name": "ipython",
    "version": 3
   },
   "file_extension": ".py",
   "mimetype": "text/x-python",
   "name": "python",
   "nbconvert_exporter": "python",
   "pygments_lexer": "ipython3",
   "version": "3.9.12"
  }
 },
 "nbformat": 4,
 "nbformat_minor": 5
}
