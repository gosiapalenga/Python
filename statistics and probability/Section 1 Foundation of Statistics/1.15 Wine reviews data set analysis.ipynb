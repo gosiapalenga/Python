{
 "cells": [
  {
   "cell_type": "code",
   "execution_count": 30,
   "id": "57246c1f",
   "metadata": {},
   "outputs": [],
   "source": [
    "import pandas as pd\n",
    "import numpy as np\n",
    "from scipy.stats import kurtosis\n",
    "from scipy.stats import skew\n",
    "from scipy.stats import zscore\n",
    "from scipy.stats import iqr\n",
    "import matplotlib.pyplot as plt"
   ]
  },
  {
   "cell_type": "code",
   "execution_count": 3,
   "id": "b5ddaf50",
   "metadata": {},
   "outputs": [],
   "source": [
    "df = pd.read_csv(\"C:/Users/go27s/OneDrive/Documents/Udemy/Statistics and Probability/Statistics/winemag-data_first150k.csv\")"
   ]
  },
  {
   "cell_type": "code",
   "execution_count": 4,
   "id": "52497052",
   "metadata": {},
   "outputs": [
    {
     "data": {
      "text/html": [
       "<div>\n",
       "<style scoped>\n",
       "    .dataframe tbody tr th:only-of-type {\n",
       "        vertical-align: middle;\n",
       "    }\n",
       "\n",
       "    .dataframe tbody tr th {\n",
       "        vertical-align: top;\n",
       "    }\n",
       "\n",
       "    .dataframe thead th {\n",
       "        text-align: right;\n",
       "    }\n",
       "</style>\n",
       "<table border=\"1\" class=\"dataframe\">\n",
       "  <thead>\n",
       "    <tr style=\"text-align: right;\">\n",
       "      <th></th>\n",
       "      <th>Unnamed: 0</th>\n",
       "      <th>country</th>\n",
       "      <th>description</th>\n",
       "      <th>designation</th>\n",
       "      <th>points</th>\n",
       "      <th>price</th>\n",
       "      <th>province</th>\n",
       "      <th>region_1</th>\n",
       "      <th>region_2</th>\n",
       "      <th>variety</th>\n",
       "      <th>winery</th>\n",
       "    </tr>\n",
       "  </thead>\n",
       "  <tbody>\n",
       "    <tr>\n",
       "      <th>0</th>\n",
       "      <td>0</td>\n",
       "      <td>US</td>\n",
       "      <td>This tremendous 100% varietal wine hails from ...</td>\n",
       "      <td>Martha's Vineyard</td>\n",
       "      <td>96</td>\n",
       "      <td>235.0</td>\n",
       "      <td>California</td>\n",
       "      <td>Napa Valley</td>\n",
       "      <td>Napa</td>\n",
       "      <td>Cabernet Sauvignon</td>\n",
       "      <td>Heitz</td>\n",
       "    </tr>\n",
       "    <tr>\n",
       "      <th>1</th>\n",
       "      <td>1</td>\n",
       "      <td>Spain</td>\n",
       "      <td>Ripe aromas of fig, blackberry and cassis are ...</td>\n",
       "      <td>Carodorum Selección Especial Reserva</td>\n",
       "      <td>96</td>\n",
       "      <td>110.0</td>\n",
       "      <td>Northern Spain</td>\n",
       "      <td>Toro</td>\n",
       "      <td>NaN</td>\n",
       "      <td>Tinta de Toro</td>\n",
       "      <td>Bodega Carmen Rodríguez</td>\n",
       "    </tr>\n",
       "    <tr>\n",
       "      <th>2</th>\n",
       "      <td>2</td>\n",
       "      <td>US</td>\n",
       "      <td>Mac Watson honors the memory of a wine once ma...</td>\n",
       "      <td>Special Selected Late Harvest</td>\n",
       "      <td>96</td>\n",
       "      <td>90.0</td>\n",
       "      <td>California</td>\n",
       "      <td>Knights Valley</td>\n",
       "      <td>Sonoma</td>\n",
       "      <td>Sauvignon Blanc</td>\n",
       "      <td>Macauley</td>\n",
       "    </tr>\n",
       "    <tr>\n",
       "      <th>3</th>\n",
       "      <td>3</td>\n",
       "      <td>US</td>\n",
       "      <td>This spent 20 months in 30% new French oak, an...</td>\n",
       "      <td>Reserve</td>\n",
       "      <td>96</td>\n",
       "      <td>65.0</td>\n",
       "      <td>Oregon</td>\n",
       "      <td>Willamette Valley</td>\n",
       "      <td>Willamette Valley</td>\n",
       "      <td>Pinot Noir</td>\n",
       "      <td>Ponzi</td>\n",
       "    </tr>\n",
       "    <tr>\n",
       "      <th>4</th>\n",
       "      <td>4</td>\n",
       "      <td>France</td>\n",
       "      <td>This is the top wine from La Bégude, named aft...</td>\n",
       "      <td>La Brûlade</td>\n",
       "      <td>95</td>\n",
       "      <td>66.0</td>\n",
       "      <td>Provence</td>\n",
       "      <td>Bandol</td>\n",
       "      <td>NaN</td>\n",
       "      <td>Provence red blend</td>\n",
       "      <td>Domaine de la Bégude</td>\n",
       "    </tr>\n",
       "  </tbody>\n",
       "</table>\n",
       "</div>"
      ],
      "text/plain": [
       "   Unnamed: 0 country                                        description  \\\n",
       "0           0      US  This tremendous 100% varietal wine hails from ...   \n",
       "1           1   Spain  Ripe aromas of fig, blackberry and cassis are ...   \n",
       "2           2      US  Mac Watson honors the memory of a wine once ma...   \n",
       "3           3      US  This spent 20 months in 30% new French oak, an...   \n",
       "4           4  France  This is the top wine from La Bégude, named aft...   \n",
       "\n",
       "                            designation  points  price        province  \\\n",
       "0                     Martha's Vineyard      96  235.0      California   \n",
       "1  Carodorum Selección Especial Reserva      96  110.0  Northern Spain   \n",
       "2         Special Selected Late Harvest      96   90.0      California   \n",
       "3                               Reserve      96   65.0          Oregon   \n",
       "4                            La Brûlade      95   66.0        Provence   \n",
       "\n",
       "            region_1           region_2             variety  \\\n",
       "0        Napa Valley               Napa  Cabernet Sauvignon   \n",
       "1               Toro                NaN       Tinta de Toro   \n",
       "2     Knights Valley             Sonoma     Sauvignon Blanc   \n",
       "3  Willamette Valley  Willamette Valley          Pinot Noir   \n",
       "4             Bandol                NaN  Provence red blend   \n",
       "\n",
       "                    winery  \n",
       "0                    Heitz  \n",
       "1  Bodega Carmen Rodríguez  \n",
       "2                 Macauley  \n",
       "3                    Ponzi  \n",
       "4     Domaine de la Bégude  "
      ]
     },
     "execution_count": 4,
     "metadata": {},
     "output_type": "execute_result"
    }
   ],
   "source": [
    "df.head()"
   ]
  },
  {
   "cell_type": "code",
   "execution_count": 8,
   "id": "f8534b17",
   "metadata": {},
   "outputs": [
    {
     "name": "stdout",
     "output_type": "stream",
     "text": [
      "The mean of points columns is: 87.8884184721394\n",
      "The median of points column is: 88.0\n",
      "The mode of points columns is: 0    87\n",
      "Name: points, dtype: int64\n"
     ]
    }
   ],
   "source": [
    "# Find Measures of Central Tendency(mean, median, mode) for columns: Points & Price\n",
    "# Mean - sum of values / total no of values\n",
    "# Median - middle value of the dataset(ordered). No of values is odd, median is the middle one. No of values is even, the median is the avg of two middle values.\n",
    "# Mode - the value that occurs most often in the dataset\n",
    "\n",
    "print(f\"The mean of points columns is: {df['points'].mean()}\") # 87 - well ranked wines\n",
    "print(f\"The median of points column is: {df['points'].median()}\") # 88- most of the wines are highly rated(at least half)\n",
    "print(f\"The mode of points columns is: {df['points'].mode()}\")# 87 - close to mean value"
   ]
  },
  {
   "cell_type": "code",
   "execution_count": 10,
   "id": "2c4503fd",
   "metadata": {},
   "outputs": [
    {
     "name": "stdout",
     "output_type": "stream",
     "text": [
      "The mean of price columns is: 33.13148249353299\n",
      "The median of price column is: 24.0\n",
      "The mode of price columns is: 0    20.0\n",
      "Name: price, dtype: float64\n"
     ]
    }
   ],
   "source": [
    "print(f\"The mean of price columns is: {df['price'].mean()}\") # 33 - avg price for a bottle of wine is $33\n",
    "print(f\"The median of price column is: {df['price'].median()}\") #24 - at least half of my wines are sold for $24\n",
    "print(f\"The mode of price columns is: {df['price'].mode()}\") #20 - close to median value"
   ]
  },
  {
   "cell_type": "code",
   "execution_count": 31,
   "id": "21170dac",
   "metadata": {},
   "outputs": [
    {
     "data": {
      "text/html": [
       "<div>\n",
       "<style scoped>\n",
       "    .dataframe tbody tr th:only-of-type {\n",
       "        vertical-align: middle;\n",
       "    }\n",
       "\n",
       "    .dataframe tbody tr th {\n",
       "        vertical-align: top;\n",
       "    }\n",
       "\n",
       "    .dataframe thead th {\n",
       "        text-align: right;\n",
       "    }\n",
       "</style>\n",
       "<table border=\"1\" class=\"dataframe\">\n",
       "  <thead>\n",
       "    <tr style=\"text-align: right;\">\n",
       "      <th></th>\n",
       "      <th>price</th>\n",
       "      <th>points</th>\n",
       "    </tr>\n",
       "  </thead>\n",
       "  <tbody>\n",
       "    <tr>\n",
       "      <th>count</th>\n",
       "      <td>137235.000000</td>\n",
       "      <td>150930.000000</td>\n",
       "    </tr>\n",
       "    <tr>\n",
       "      <th>mean</th>\n",
       "      <td>33.131482</td>\n",
       "      <td>87.888418</td>\n",
       "    </tr>\n",
       "    <tr>\n",
       "      <th>std</th>\n",
       "      <td>36.322536</td>\n",
       "      <td>3.222392</td>\n",
       "    </tr>\n",
       "    <tr>\n",
       "      <th>min</th>\n",
       "      <td>4.000000</td>\n",
       "      <td>80.000000</td>\n",
       "    </tr>\n",
       "    <tr>\n",
       "      <th>25%</th>\n",
       "      <td>16.000000</td>\n",
       "      <td>86.000000</td>\n",
       "    </tr>\n",
       "    <tr>\n",
       "      <th>50%</th>\n",
       "      <td>24.000000</td>\n",
       "      <td>88.000000</td>\n",
       "    </tr>\n",
       "    <tr>\n",
       "      <th>75%</th>\n",
       "      <td>40.000000</td>\n",
       "      <td>90.000000</td>\n",
       "    </tr>\n",
       "    <tr>\n",
       "      <th>max</th>\n",
       "      <td>2300.000000</td>\n",
       "      <td>100.000000</td>\n",
       "    </tr>\n",
       "  </tbody>\n",
       "</table>\n",
       "</div>"
      ],
      "text/plain": [
       "               price         points\n",
       "count  137235.000000  150930.000000\n",
       "mean       33.131482      87.888418\n",
       "std        36.322536       3.222392\n",
       "min         4.000000      80.000000\n",
       "25%        16.000000      86.000000\n",
       "50%        24.000000      88.000000\n",
       "75%        40.000000      90.000000\n",
       "max      2300.000000     100.000000"
      ]
     },
     "execution_count": 31,
     "metadata": {},
     "output_type": "execute_result"
    }
   ],
   "source": [
    "df[['price', 'points']].describe()"
   ]
  },
  {
   "cell_type": "code",
   "execution_count": 34,
   "id": "d334b833",
   "metadata": {},
   "outputs": [
    {
     "data": {
      "text/plain": [
       "20"
      ]
     },
     "execution_count": 34,
     "metadata": {},
     "output_type": "execute_result"
    }
   ],
   "source": [
    "# Find Measures of Spread/Dispersion(Range, IQR, Variance, Standard Deviation) for columns: Points & Price\n",
    "# print(f\"The range of column points is: {np.ptp(df['points'])}\")\n",
    "\n",
    "# Range\n",
    "\n",
    "df['points'].max() - df['points'].min() # 20 - it's quite spread out as the median value is 84"
   ]
  },
  {
   "cell_type": "code",
   "execution_count": 35,
   "id": "d4def296",
   "metadata": {},
   "outputs": [
    {
     "data": {
      "text/plain": [
       "2296.0"
      ]
     },
     "execution_count": 35,
     "metadata": {},
     "output_type": "execute_result"
    }
   ],
   "source": [
    "df['price'].max() - df['price'].min()  # 2296 -  price data is extremely spread out considering median price of $24"
   ]
  },
  {
   "cell_type": "code",
   "execution_count": 38,
   "id": "07262fab",
   "metadata": {},
   "outputs": [
    {
     "data": {
      "text/plain": [
       "3.2223917589832167"
      ]
     },
     "execution_count": 38,
     "metadata": {},
     "output_type": "execute_result"
    }
   ],
   "source": [
    "# Standard Deviation\n",
    "\n",
    "df['points'].std() # 3.22 - low as the data ranges from 80 -100"
   ]
  },
  {
   "cell_type": "code",
   "execution_count": 39,
   "id": "638c36d5",
   "metadata": {},
   "outputs": [
    {
     "data": {
      "text/plain": [
       "36.32253619648552"
      ]
     },
     "execution_count": 39,
     "metadata": {},
     "output_type": "execute_result"
    }
   ],
   "source": [
    "df['price'].std() # 36.32 - much higher due to outliers"
   ]
  },
  {
   "cell_type": "code",
   "execution_count": 40,
   "id": "98c7edf2",
   "metadata": {},
   "outputs": [
    {
     "data": {
      "text/plain": [
       "10.38380864836295"
      ]
     },
     "execution_count": 40,
     "metadata": {},
     "output_type": "execute_result"
    }
   ],
   "source": [
    "# Variance - how far is each of the observation from the mean\n",
    "\n",
    "df['points'].var() # 10.38 - same pattern as std"
   ]
  },
  {
   "cell_type": "code",
   "execution_count": 41,
   "id": "d0c6fa63",
   "metadata": {},
   "outputs": [
    {
     "data": {
      "text/plain": [
       "1319.326635745001"
      ]
     },
     "execution_count": 41,
     "metadata": {},
     "output_type": "execute_result"
    }
   ],
   "source": [
    "df['price'].var() # 1319.32 - same pattern as std"
   ]
  },
  {
   "cell_type": "code",
   "execution_count": 23,
   "id": "6daee762",
   "metadata": {},
   "outputs": [
    {
     "data": {
      "text/plain": [
       "2.713553658335501"
      ]
     },
     "execution_count": 23,
     "metadata": {},
     "output_type": "execute_result"
    }
   ],
   "source": [
    "# Summary statistics - Obtain Skewness & Kutrosis for column: Points\n",
    "# KURTOSIS - Kurtosis is a measure of whether the data are heavy-tailed or light-tailed relative to a normal distribution. \n",
    "# That is, data sets with high kurtosis tend to have heavy tails, or outliers. \n",
    "# Data sets with low kurtosis tend to have light tails, or lack of outliers. A uniform distribution would be the extreme case. \n",
    "\n",
    "kurtosis(df['points'], fisher = False)"
   ]
  },
  {
   "cell_type": "code",
   "execution_count": 25,
   "id": "dca531c3",
   "metadata": {},
   "outputs": [
    {
     "data": {
      "text/plain": [
       "0.14283121423675518"
      ]
     },
     "execution_count": 25,
     "metadata": {},
     "output_type": "execute_result"
    }
   ],
   "source": [
    "# Skewness (symmetry)\n",
    "\n",
    "skew(df['points'])  # 0.14 - value is greater than 0 so it's left skewed. If the value is 0 -> data normaly distributed"
   ]
  },
  {
   "cell_type": "code",
   "execution_count": 27,
   "id": "db9b2af6",
   "metadata": {},
   "outputs": [
    {
     "data": {
      "text/plain": [
       "0         2.517263\n",
       "1         2.517263\n",
       "2         2.517263\n",
       "3         2.517263\n",
       "4         2.206934\n",
       "            ...   \n",
       "150925    0.965616\n",
       "150926    0.965616\n",
       "150927    0.965616\n",
       "150928    0.655286\n",
       "150929    0.655286\n",
       "Name: points, Length: 150930, dtype: float64"
      ]
     },
     "execution_count": 27,
     "metadata": {},
     "output_type": "execute_result"
    }
   ],
   "source": [
    "# Obtain z-score for points - distance from the mean\n",
    "zscore(df['points'])"
   ]
  },
  {
   "cell_type": "code",
   "execution_count": 29,
   "id": "af7e7997",
   "metadata": {},
   "outputs": [
    {
     "data": {
      "text/plain": [
       "4.0"
      ]
     },
     "execution_count": 29,
     "metadata": {},
     "output_type": "execute_result"
    }
   ],
   "source": [
    "# Obtain IQR(measure of dispersion/spread) for points. Difference between Q3(75%) and Q1(25%)\n",
    "iqr(df['points'])"
   ]
  },
  {
   "cell_type": "code",
   "execution_count": null,
   "id": "9348d2b4",
   "metadata": {},
   "outputs": [],
   "source": [
    "# A range is a measure of where the beginning and end are in a set, \n",
    "# an interquartile range is a measure of where the bulk of the values lie."
   ]
  }
 ],
 "metadata": {
  "kernelspec": {
   "display_name": "Python 3 (ipykernel)",
   "language": "python",
   "name": "python3"
  },
  "language_info": {
   "codemirror_mode": {
    "name": "ipython",
    "version": 3
   },
   "file_extension": ".py",
   "mimetype": "text/x-python",
   "name": "python",
   "nbconvert_exporter": "python",
   "pygments_lexer": "ipython3",
   "version": "3.9.12"
  }
 },
 "nbformat": 4,
 "nbformat_minor": 5
}
