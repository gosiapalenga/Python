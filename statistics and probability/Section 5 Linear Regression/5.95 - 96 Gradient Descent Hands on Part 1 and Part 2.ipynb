{
 "cells": [
  {
   "cell_type": "code",
   "execution_count": null,
   "id": "2f098a5d",
   "metadata": {},
   "outputs": [],
   "source": [
    "# Gradient Descent is a smart way to adjust our prediction line so that it fits the data points well, \n",
    "# helping us make accurate predictions in linear regression."
   ]
  },
  {
   "cell_type": "code",
   "execution_count": 1,
   "id": "580dc141",
   "metadata": {},
   "outputs": [],
   "source": [
    "# It's used on large data sets(millions of rows). It requires much less memory and compute power."
   ]
  },
  {
   "cell_type": "code",
   "execution_count": null,
   "id": "49f307db",
   "metadata": {},
   "outputs": [],
   "source": [
    "# The goal is to find the optimal value for bias and weights"
   ]
  },
  {
   "cell_type": "code",
   "execution_count": 2,
   "id": "250e6e22",
   "metadata": {},
   "outputs": [],
   "source": [
    "import pandas as pd\n",
    "import numpy as np\n",
    "import seaborn as sns\n",
    "import matplotlib.pyplot as plt\n",
    "\n",
    "%matplotlib inline"
   ]
  },
  {
   "cell_type": "code",
   "execution_count": 4,
   "id": "56b7d6e9",
   "metadata": {},
   "outputs": [
    {
     "data": {
      "text/html": [
       "<div>\n",
       "<style scoped>\n",
       "    .dataframe tbody tr th:only-of-type {\n",
       "        vertical-align: middle;\n",
       "    }\n",
       "\n",
       "    .dataframe tbody tr th {\n",
       "        vertical-align: top;\n",
       "    }\n",
       "\n",
       "    .dataframe thead th {\n",
       "        text-align: right;\n",
       "    }\n",
       "</style>\n",
       "<table border=\"1\" class=\"dataframe\">\n",
       "  <thead>\n",
       "    <tr style=\"text-align: right;\">\n",
       "      <th></th>\n",
       "      <th>Unnamed: 0</th>\n",
       "      <th>TV</th>\n",
       "      <th>radio</th>\n",
       "      <th>newspaper</th>\n",
       "      <th>sales</th>\n",
       "    </tr>\n",
       "  </thead>\n",
       "  <tbody>\n",
       "    <tr>\n",
       "      <th>0</th>\n",
       "      <td>1</td>\n",
       "      <td>230.1</td>\n",
       "      <td>37.8</td>\n",
       "      <td>69.2</td>\n",
       "      <td>22.1</td>\n",
       "    </tr>\n",
       "    <tr>\n",
       "      <th>1</th>\n",
       "      <td>2</td>\n",
       "      <td>44.5</td>\n",
       "      <td>39.3</td>\n",
       "      <td>45.1</td>\n",
       "      <td>10.4</td>\n",
       "    </tr>\n",
       "    <tr>\n",
       "      <th>2</th>\n",
       "      <td>3</td>\n",
       "      <td>17.2</td>\n",
       "      <td>45.9</td>\n",
       "      <td>69.3</td>\n",
       "      <td>9.3</td>\n",
       "    </tr>\n",
       "    <tr>\n",
       "      <th>3</th>\n",
       "      <td>4</td>\n",
       "      <td>151.5</td>\n",
       "      <td>41.3</td>\n",
       "      <td>58.5</td>\n",
       "      <td>18.5</td>\n",
       "    </tr>\n",
       "    <tr>\n",
       "      <th>4</th>\n",
       "      <td>5</td>\n",
       "      <td>180.8</td>\n",
       "      <td>10.8</td>\n",
       "      <td>58.4</td>\n",
       "      <td>12.9</td>\n",
       "    </tr>\n",
       "  </tbody>\n",
       "</table>\n",
       "</div>"
      ],
      "text/plain": [
       "   Unnamed: 0     TV  radio  newspaper  sales\n",
       "0           1  230.1   37.8       69.2   22.1\n",
       "1           2   44.5   39.3       45.1   10.4\n",
       "2           3   17.2   45.9       69.3    9.3\n",
       "3           4  151.5   41.3       58.5   18.5\n",
       "4           5  180.8   10.8       58.4   12.9"
      ]
     },
     "execution_count": 4,
     "metadata": {},
     "output_type": "execute_result"
    }
   ],
   "source": [
    "df = pd.read_csv(\"Advertising.csv\")\n",
    "df.head()"
   ]
  },
  {
   "cell_type": "code",
   "execution_count": 5,
   "id": "f90a5df6",
   "metadata": {},
   "outputs": [
    {
     "data": {
      "text/plain": [
       "Index(['Unnamed: 0', 'TV', 'radio', 'newspaper', 'sales'], dtype='object')"
      ]
     },
     "execution_count": 5,
     "metadata": {},
     "output_type": "execute_result"
    }
   ],
   "source": [
    "df.columns"
   ]
  },
  {
   "cell_type": "code",
   "execution_count": 6,
   "id": "047291c4",
   "metadata": {},
   "outputs": [],
   "source": [
    "X = df[['TV', 'radio', 'newspaper']]"
   ]
  },
  {
   "cell_type": "code",
   "execution_count": 7,
   "id": "70f1cc0b",
   "metadata": {},
   "outputs": [],
   "source": [
    "y = df['sales']"
   ]
  },
  {
   "cell_type": "code",
   "execution_count": 10,
   "id": "2170548d",
   "metadata": {},
   "outputs": [],
   "source": [
    "# Feature Engineering :standardization: convert all variables to one scale by subtracting the mean from each variable value \n",
    "# and dividing it by the Standard Diviation of the variable\n",
    "\n",
    "y = np.array((y - y.mean()) / y.std())\n",
    "X = X.apply(lambda row: (row - row.mean()) / row.std(), axis=0)"
   ]
  },
  {
   "cell_type": "code",
   "execution_count": 11,
   "id": "cbd9d9de",
   "metadata": {},
   "outputs": [],
   "source": [
    "# When we implement Gradient Descent Algorithm we will require 4 methods\n",
    "\n",
    "# M1 --> Initialise the values of parameters\n",
    "# M2 --> Calculate y_prediction values\n",
    "# M3 --> Calculate the loss (error)\n",
    "# M4 --> Calculating the gradient, adjusting the weights by updating parameters (intercept and coefficients)"
   ]
  },
  {
   "cell_type": "code",
   "execution_count": 12,
   "id": "fadd9213",
   "metadata": {},
   "outputs": [],
   "source": [
    "# M1\n",
    "\n",
    "import random\n",
    "\n",
    "def initialize(dim):\n",
    "    random.seed(42)\n",
    "    np.random.seed(42)\n",
    "    b = random.random()      # intercept\n",
    "    w = np.random.rand(dim)  # coefficients, number of dimensions which we get as an input for this function\n",
    "    return b,w"
   ]
  },
  {
   "cell_type": "code",
   "execution_count": 13,
   "id": "e106342c",
   "metadata": {},
   "outputs": [
    {
     "name": "stdout",
     "output_type": "stream",
     "text": [
      "bias/intercept is 0.6394267984578837, and weights/coefficients are [0.37454012 0.95071431 0.73199394]\n"
     ]
    }
   ],
   "source": [
    "b, w = initialize(3)  # 3 dimensions for w\n",
    "\n",
    "print(f\"bias/intercept is {b}, and weights/coefficients are {w}\")"
   ]
  },
  {
   "cell_type": "code",
   "execution_count": 15,
   "id": "1b5b41b2",
   "metadata": {},
   "outputs": [],
   "source": [
    "# M2\n",
    "# inputs --> b,w and x\n",
    "\n",
    "def predict(b,w,X):\n",
    "    return b + np.matmul(X,w)"
   ]
  },
  {
   "cell_type": "code",
   "execution_count": 17,
   "id": "8e9d99c9",
   "metadata": {},
   "outputs": [
    {
     "data": {
      "text/plain": [
       "(200, 3)"
      ]
     },
     "execution_count": 17,
     "metadata": {},
     "output_type": "execute_result"
    }
   ],
   "source": [
    "X.shape # 3 features/weights"
   ]
  },
  {
   "cell_type": "code",
   "execution_count": 16,
   "id": "ffc0ade2",
   "metadata": {},
   "outputs": [
    {
     "data": {
      "text/plain": [
       "0    3.231496\n",
       "1    1.707849\n",
       "2    2.824761\n",
       "3    2.753090\n",
       "4    0.924486\n",
       "dtype: float64"
      ]
     },
     "execution_count": 16,
     "metadata": {},
     "output_type": "execute_result"
    }
   ],
   "source": [
    "b, w = initialize(3)\n",
    "\n",
    "y_predict = predict(b,w,X)\n",
    "y_predict[:5]"
   ]
  },
  {
   "cell_type": "code",
   "execution_count": 20,
   "id": "166d9d1e",
   "metadata": {},
   "outputs": [],
   "source": [
    "# M3 calculate the loss\n",
    "\n",
    "import math\n",
    "\n",
    "def cal_cost(y,y_predict):\n",
    "    residual = y - y_predict\n",
    "    return np.sum(np.matmul(residual, residual.T))/len(residual)   # MSE"
   ]
  },
  {
   "cell_type": "code",
   "execution_count": 21,
   "id": "521579bf",
   "metadata": {},
   "outputs": [
    {
     "data": {
      "text/plain": [
       "1.5302767801991894"
      ]
     },
     "execution_count": 21,
     "metadata": {},
     "output_type": "execute_result"
    }
   ],
   "source": [
    "b, w = initialize(3)\n",
    "y_predict = predict(b,w,X)\n",
    "cal_cost(y,y_predict)      # MSE"
   ]
  },
  {
   "cell_type": "code",
   "execution_count": 23,
   "id": "1927f9f3",
   "metadata": {},
   "outputs": [],
   "source": [
    "# M4 Adaptation/Update of bias and weights\n",
    "\n",
    "def update_beta(x,y,y_predict,b_0,w_0,lr):\n",
    "    db = (np.sum(y_predict - y)*2)/len(y)    # gradiend b\n",
    "    \n",
    "    dw = (np.dot((y_predict - y),x)*2)/len(y)\n",
    "    \n",
    "    b_1 = b_0 - lr * db\n",
    "    w_1 = w_0 - lr * dw\n",
    "    \n",
    "    return b_1, w_1\n",
    "    "
   ]
  },
  {
   "cell_type": "code",
   "execution_count": 25,
   "id": "faccd1de",
   "metadata": {},
   "outputs": [
    {
     "name": "stdout",
     "output_type": "stream",
     "text": [
      "Initial values are: bias/intercept is 0.6394267984578837, and weights/coefficients are [0.37454012 0.95071431 0.73199394]\n",
      "After update, the values are: bias: 0.6266382624887261, and weights are: [0.38082999 0.93772407 0.71486023]\n"
     ]
    }
   ],
   "source": [
    "b, w = initialize(3)  # 3 dimensions for w\n",
    "print(f\"Initial values are: bias/intercept is {b}, and weights/coefficients are {w}\")\n",
    "\n",
    "y_predict = predict(b,w,X)\n",
    "b,w = update_beta(X,y,y_predict,b,w,0.01)\n",
    "print(f\"After update, the values are: bias: {b}, and weights are: {w}\")\n",
    "\n",
    "# cal_cost(y,y_predict)      # MSE"
   ]
  },
  {
   "cell_type": "code",
   "execution_count": 28,
   "id": "866145a5",
   "metadata": {},
   "outputs": [],
   "source": [
    "# M5\n",
    "\n",
    "def run_gradient_descent(X, y, alpha=0.01, num_iter = 100):\n",
    "    b,w = initialize(X.shape[1])\n",
    "    inter_num = 0\n",
    "    gd_iterations_df = pd.DataFrame(columns=['iteration', 'loss'])\n",
    "    result_idx = 0\n",
    "    \n",
    "    for iter in range(num_iter):\n",
    "        y_predict = predict(b,w,X)\n",
    "        iter_cost = cal_cost(y,y_predict)\n",
    "        prev_b = b\n",
    "        prev_w = w\n",
    "        \n",
    "        b,w = update_beta(X,y,y_predict, prev_b, prev_w, alpha)\n",
    "        \n",
    "        if (iter %10 == 0):\n",
    "            gd_iterations_df.loc[result_idx] = [inter_num, iter_cost]\n",
    "            result_idx = result_idx + 1\n",
    "        inter_num += 1\n",
    "    print(f\"Final estimate of b and w are: {b}, {w}\")\n",
    "    return gd_iterations_df, b, w"
   ]
  },
  {
   "cell_type": "code",
   "execution_count": 31,
   "id": "c0d591ff",
   "metadata": {},
   "outputs": [
    {
     "name": "stdout",
     "output_type": "stream",
     "text": [
      "Final estimate of b and w are: 0.28708291582872, [0.56296358 0.64333271 0.29483568]\n"
     ]
    }
   ],
   "source": [
    "gd_iterations_df, b, w = run_gradient_descent(X,y,alpha=0.001, num_iter=400)"
   ]
  },
  {
   "cell_type": "code",
   "execution_count": 30,
   "id": "5ae5b8b3",
   "metadata": {},
   "outputs": [
    {
     "data": {
      "text/html": [
       "<div>\n",
       "<style scoped>\n",
       "    .dataframe tbody tr th:only-of-type {\n",
       "        vertical-align: middle;\n",
       "    }\n",
       "\n",
       "    .dataframe tbody tr th {\n",
       "        vertical-align: top;\n",
       "    }\n",
       "\n",
       "    .dataframe thead th {\n",
       "        text-align: right;\n",
       "    }\n",
       "</style>\n",
       "<table border=\"1\" class=\"dataframe\">\n",
       "  <thead>\n",
       "    <tr style=\"text-align: right;\">\n",
       "      <th></th>\n",
       "      <th>iteration</th>\n",
       "      <th>loss</th>\n",
       "    </tr>\n",
       "  </thead>\n",
       "  <tbody>\n",
       "    <tr>\n",
       "      <th>0</th>\n",
       "      <td>0.0</td>\n",
       "      <td>1.530277</td>\n",
       "    </tr>\n",
       "    <tr>\n",
       "      <th>1</th>\n",
       "      <td>10.0</td>\n",
       "      <td>1.465230</td>\n",
       "    </tr>\n",
       "    <tr>\n",
       "      <th>2</th>\n",
       "      <td>20.0</td>\n",
       "      <td>1.403233</td>\n",
       "    </tr>\n",
       "    <tr>\n",
       "      <th>3</th>\n",
       "      <td>30.0</td>\n",
       "      <td>1.344138</td>\n",
       "    </tr>\n",
       "    <tr>\n",
       "      <th>4</th>\n",
       "      <td>40.0</td>\n",
       "      <td>1.287807</td>\n",
       "    </tr>\n",
       "    <tr>\n",
       "      <th>5</th>\n",
       "      <td>50.0</td>\n",
       "      <td>1.234106</td>\n",
       "    </tr>\n",
       "    <tr>\n",
       "      <th>6</th>\n",
       "      <td>60.0</td>\n",
       "      <td>1.182910</td>\n",
       "    </tr>\n",
       "    <tr>\n",
       "      <th>7</th>\n",
       "      <td>70.0</td>\n",
       "      <td>1.134100</td>\n",
       "    </tr>\n",
       "    <tr>\n",
       "      <th>8</th>\n",
       "      <td>80.0</td>\n",
       "      <td>1.087560</td>\n",
       "    </tr>\n",
       "    <tr>\n",
       "      <th>9</th>\n",
       "      <td>90.0</td>\n",
       "      <td>1.043183</td>\n",
       "    </tr>\n",
       "    <tr>\n",
       "      <th>10</th>\n",
       "      <td>100.0</td>\n",
       "      <td>1.000865</td>\n",
       "    </tr>\n",
       "    <tr>\n",
       "      <th>11</th>\n",
       "      <td>110.0</td>\n",
       "      <td>0.960509</td>\n",
       "    </tr>\n",
       "    <tr>\n",
       "      <th>12</th>\n",
       "      <td>120.0</td>\n",
       "      <td>0.922020</td>\n",
       "    </tr>\n",
       "    <tr>\n",
       "      <th>13</th>\n",
       "      <td>130.0</td>\n",
       "      <td>0.885311</td>\n",
       "    </tr>\n",
       "    <tr>\n",
       "      <th>14</th>\n",
       "      <td>140.0</td>\n",
       "      <td>0.850297</td>\n",
       "    </tr>\n",
       "    <tr>\n",
       "      <th>15</th>\n",
       "      <td>150.0</td>\n",
       "      <td>0.816897</td>\n",
       "    </tr>\n",
       "    <tr>\n",
       "      <th>16</th>\n",
       "      <td>160.0</td>\n",
       "      <td>0.785036</td>\n",
       "    </tr>\n",
       "    <tr>\n",
       "      <th>17</th>\n",
       "      <td>170.0</td>\n",
       "      <td>0.754639</td>\n",
       "    </tr>\n",
       "    <tr>\n",
       "      <th>18</th>\n",
       "      <td>180.0</td>\n",
       "      <td>0.725639</td>\n",
       "    </tr>\n",
       "    <tr>\n",
       "      <th>19</th>\n",
       "      <td>190.0</td>\n",
       "      <td>0.697968</td>\n",
       "    </tr>\n",
       "  </tbody>\n",
       "</table>\n",
       "</div>"
      ],
      "text/plain": [
       "    iteration      loss\n",
       "0         0.0  1.530277\n",
       "1        10.0  1.465230\n",
       "2        20.0  1.403233\n",
       "3        30.0  1.344138\n",
       "4        40.0  1.287807\n",
       "5        50.0  1.234106\n",
       "6        60.0  1.182910\n",
       "7        70.0  1.134100\n",
       "8        80.0  1.087560\n",
       "9        90.0  1.043183\n",
       "10      100.0  1.000865\n",
       "11      110.0  0.960509\n",
       "12      120.0  0.922020\n",
       "13      130.0  0.885311\n",
       "14      140.0  0.850297\n",
       "15      150.0  0.816897\n",
       "16      160.0  0.785036\n",
       "17      170.0  0.754639\n",
       "18      180.0  0.725639\n",
       "19      190.0  0.697968"
      ]
     },
     "execution_count": 30,
     "metadata": {},
     "output_type": "execute_result"
    }
   ],
   "source": [
    "gd_iterations_df"
   ]
  },
  {
   "cell_type": "code",
   "execution_count": null,
   "id": "384aa925",
   "metadata": {},
   "outputs": [],
   "source": []
  }
 ],
 "metadata": {
  "kernelspec": {
   "display_name": "Python 3 (ipykernel)",
   "language": "python",
   "name": "python3"
  },
  "language_info": {
   "codemirror_mode": {
    "name": "ipython",
    "version": 3
   },
   "file_extension": ".py",
   "mimetype": "text/x-python",
   "name": "python",
   "nbconvert_exporter": "python",
   "pygments_lexer": "ipython3",
   "version": "3.9.12"
  }
 },
 "nbformat": 4,
 "nbformat_minor": 5
}
