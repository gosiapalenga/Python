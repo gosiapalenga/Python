{
 "cells": [
  {
   "cell_type": "code",
   "execution_count": null,
   "id": "c852218a",
   "metadata": {},
   "outputs": [],
   "source": [
    "# Resampling method repeatedly draws samples from a dataset and calculate statistics and accuracy on each of the samples.\n",
    "# Resampling methods are an indispensable tool in modern statistics. They involve repeatedly drawing samples from a training set\n",
    "# and refitting a model of interest on each sample in order to obtain additional information about the fitted model. \n",
    "# For example, in order to estimate the variability of a linear regression fit, we can repeatedly draw different samples from \n",
    "# the training data, fit a linear regression to each new sample, and then examine the extent to which the resulting fits differ.\n",
    "# Such an approach may allow us to obtain information that would not be available from fitting the model only once using \n",
    "# the original training sample.\n"
   ]
  }
 ],
 "metadata": {
  "kernelspec": {
   "display_name": "Python 3 (ipykernel)",
   "language": "python",
   "name": "python3"
  },
  "language_info": {
   "codemirror_mode": {
    "name": "ipython",
    "version": 3
   },
   "file_extension": ".py",
   "mimetype": "text/x-python",
   "name": "python",
   "nbconvert_exporter": "python",
   "pygments_lexer": "ipython3",
   "version": "3.9.12"
  }
 },
 "nbformat": 4,
 "nbformat_minor": 5
}
