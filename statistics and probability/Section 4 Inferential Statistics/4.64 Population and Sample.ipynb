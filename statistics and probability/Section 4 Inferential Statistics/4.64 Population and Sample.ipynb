{
 "cells": [
  {
   "cell_type": "code",
   "execution_count": 1,
   "id": "68c246db",
   "metadata": {},
   "outputs": [],
   "source": [
    "import pandas as pd\n",
    "import numpy as np\n",
    "from sklearn.datasets import make_regression"
   ]
  },
  {
   "cell_type": "code",
   "execution_count": 2,
   "id": "386865af",
   "metadata": {},
   "outputs": [
    {
     "name": "stdout",
     "output_type": "stream",
     "text": [
      "(1000, 5) (1000,)\n"
     ]
    }
   ],
   "source": [
    "X,y = make_regression(n_samples=1000, n_features=5, random_state=0)\n",
    "\n",
    "print(X.shape, y.shape)"
   ]
  },
  {
   "cell_type": "code",
   "execution_count": 6,
   "id": "be9c3920",
   "metadata": {},
   "outputs": [
    {
     "data": {
      "text/html": [
       "<div>\n",
       "<style scoped>\n",
       "    .dataframe tbody tr th:only-of-type {\n",
       "        vertical-align: middle;\n",
       "    }\n",
       "\n",
       "    .dataframe tbody tr th {\n",
       "        vertical-align: top;\n",
       "    }\n",
       "\n",
       "    .dataframe thead th {\n",
       "        text-align: right;\n",
       "    }\n",
       "</style>\n",
       "<table border=\"1\" class=\"dataframe\">\n",
       "  <thead>\n",
       "    <tr style=\"text-align: right;\">\n",
       "      <th></th>\n",
       "      <th>x1</th>\n",
       "      <th>x2</th>\n",
       "      <th>x3</th>\n",
       "      <th>x4</th>\n",
       "      <th>x5</th>\n",
       "      <th>y</th>\n",
       "    </tr>\n",
       "  </thead>\n",
       "  <tbody>\n",
       "    <tr>\n",
       "      <th>0</th>\n",
       "      <td>-0.235503</td>\n",
       "      <td>2.011243</td>\n",
       "      <td>-1.377019</td>\n",
       "      <td>1.121907</td>\n",
       "      <td>1.392837</td>\n",
       "      <td>85.941034</td>\n",
       "    </tr>\n",
       "    <tr>\n",
       "      <th>1</th>\n",
       "      <td>-0.801497</td>\n",
       "      <td>0.271170</td>\n",
       "      <td>-0.525641</td>\n",
       "      <td>-0.887780</td>\n",
       "      <td>0.936399</td>\n",
       "      <td>-10.107882</td>\n",
       "    </tr>\n",
       "    <tr>\n",
       "      <th>2</th>\n",
       "      <td>0.350266</td>\n",
       "      <td>-1.193258</td>\n",
       "      <td>0.971970</td>\n",
       "      <td>-2.086510</td>\n",
       "      <td>-0.590757</td>\n",
       "      <td>-31.484509</td>\n",
       "    </tr>\n",
       "    <tr>\n",
       "      <th>3</th>\n",
       "      <td>-2.083592</td>\n",
       "      <td>-0.864048</td>\n",
       "      <td>-0.971342</td>\n",
       "      <td>0.691785</td>\n",
       "      <td>0.564388</td>\n",
       "      <td>-142.935500</td>\n",
       "    </tr>\n",
       "    <tr>\n",
       "      <th>4</th>\n",
       "      <td>0.239146</td>\n",
       "      <td>0.531043</td>\n",
       "      <td>0.206691</td>\n",
       "      <td>-0.033319</td>\n",
       "      <td>-1.530803</td>\n",
       "      <td>-65.455715</td>\n",
       "    </tr>\n",
       "  </tbody>\n",
       "</table>\n",
       "</div>"
      ],
      "text/plain": [
       "         x1        x2        x3        x4        x5           y\n",
       "0 -0.235503  2.011243 -1.377019  1.121907  1.392837   85.941034\n",
       "1 -0.801497  0.271170 -0.525641 -0.887780  0.936399  -10.107882\n",
       "2  0.350266 -1.193258  0.971970 -2.086510 -0.590757  -31.484509\n",
       "3 -2.083592 -0.864048 -0.971342  0.691785  0.564388 -142.935500\n",
       "4  0.239146  0.531043  0.206691 -0.033319 -1.530803  -65.455715"
      ]
     },
     "execution_count": 6,
     "metadata": {},
     "output_type": "execute_result"
    }
   ],
   "source": [
    "# Population - complete collection of data\n",
    "\n",
    "df = pd.DataFrame(data=X, columns=['x1', 'x2', 'x3', 'x4', 'x5'])\n",
    "df['y'] = y\n",
    "\n",
    "df.head()"
   ]
  },
  {
   "cell_type": "code",
   "execution_count": 7,
   "id": "e3ebe156",
   "metadata": {},
   "outputs": [
    {
     "data": {
      "text/plain": [
       "-0.08677434405199426"
      ]
     },
     "execution_count": 7,
     "metadata": {},
     "output_type": "execute_result"
    }
   ],
   "source": [
    "# mean of target variable\n",
    "\n",
    "y.mean()"
   ]
  },
  {
   "cell_type": "code",
   "execution_count": 8,
   "id": "67a25001",
   "metadata": {},
   "outputs": [
    {
     "data": {
      "text/plain": [
       "9830.181265682395"
      ]
     },
     "execution_count": 8,
     "metadata": {},
     "output_type": "execute_result"
    }
   ],
   "source": [
    "# variance of target data\n",
    "\n",
    "y.var()"
   ]
  },
  {
   "cell_type": "markdown",
   "id": "3771425a",
   "metadata": {},
   "source": [
    "# Sample Selection\n",
    "The Sample should be representitive of the population"
   ]
  },
  {
   "cell_type": "code",
   "execution_count": 9,
   "id": "f6b9086f",
   "metadata": {},
   "outputs": [],
   "source": [
    "sample_size = 500\n",
    "sample = df.sample(n=sample_size, random_state=1)"
   ]
  },
  {
   "cell_type": "code",
   "execution_count": 14,
   "id": "8612bfb2",
   "metadata": {},
   "outputs": [
    {
     "name": "stdout",
     "output_type": "stream",
     "text": [
      "The sample mean is 2.4089920648597856 and the population mean is -0.08677434405199426\n",
      "The sample variance is 10028.353422391347 and the population variance is 9830.181265682395\n"
     ]
    }
   ],
   "source": [
    "print(f\"The sample mean is {sample['y'].mean()} and the population mean is {y.mean()}\")\n",
    "print(f\"The sample variance is {sample['y'].var()} and the population variance is {y.var()}\")"
   ]
  },
  {
   "cell_type": "code",
   "execution_count": null,
   "id": "265df910",
   "metadata": {},
   "outputs": [],
   "source": []
  },
  {
   "cell_type": "code",
   "execution_count": null,
   "id": "ed78dd94",
   "metadata": {},
   "outputs": [],
   "source": []
  }
 ],
 "metadata": {
  "kernelspec": {
   "display_name": "Python 3 (ipykernel)",
   "language": "python",
   "name": "python3"
  },
  "language_info": {
   "codemirror_mode": {
    "name": "ipython",
    "version": 3
   },
   "file_extension": ".py",
   "mimetype": "text/x-python",
   "name": "python",
   "nbconvert_exporter": "python",
   "pygments_lexer": "ipython3",
   "version": "3.9.12"
  }
 },
 "nbformat": 4,
 "nbformat_minor": 5
}
