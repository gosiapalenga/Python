{
 "cells": [
  {
   "cell_type": "code",
   "execution_count": 1,
   "id": "b7311936",
   "metadata": {},
   "outputs": [],
   "source": [
    "# for loops - loop through sequence"
   ]
  },
  {
   "cell_type": "code",
   "execution_count": 2,
   "id": "2fde6c00",
   "metadata": {},
   "outputs": [],
   "source": [
    "seq = [1,2,3,4,5]"
   ]
  },
  {
   "cell_type": "code",
   "execution_count": 6,
   "id": "f9be0a4e",
   "metadata": {},
   "outputs": [
    {
     "name": "stdout",
     "output_type": "stream",
     "text": [
      "4\n",
      "4\n",
      "4\n",
      "4\n",
      "4\n"
     ]
    }
   ],
   "source": [
    "# third element in the list is 4, so it prints 4\n",
    "\n",
    "for num in seq:\n",
    "    print(seq[3])"
   ]
  },
  {
   "cell_type": "code",
   "execution_count": 7,
   "id": "575459c9",
   "metadata": {},
   "outputs": [],
   "source": [
    "# while loop - loop until a condition has been met"
   ]
  },
  {
   "cell_type": "code",
   "execution_count": 8,
   "id": "3c38d4f5",
   "metadata": {},
   "outputs": [],
   "source": [
    "i = 1"
   ]
  },
  {
   "cell_type": "code",
   "execution_count": 10,
   "id": "5918a696",
   "metadata": {},
   "outputs": [
    {
     "name": "stdout",
     "output_type": "stream",
     "text": [
      "i is: 1\n",
      "i is: 2\n",
      "i is: 3\n",
      "i is: 4\n"
     ]
    }
   ],
   "source": [
    "while i < 5:\n",
    "    print(f'i is: {i}')\n",
    "    i = i+1"
   ]
  },
  {
   "cell_type": "code",
   "execution_count": 11,
   "id": "ec11b5a8",
   "metadata": {},
   "outputs": [],
   "source": [
    "# Range in for loop"
   ]
  },
  {
   "cell_type": "code",
   "execution_count": 12,
   "id": "c062f6cc",
   "metadata": {},
   "outputs": [
    {
     "name": "stdout",
     "output_type": "stream",
     "text": [
      "1\n",
      "2\n",
      "3\n",
      "4\n",
      "5\n",
      "6\n",
      "7\n",
      "8\n",
      "9\n"
     ]
    }
   ],
   "source": [
    "for x in range(1,10):\n",
    "    print(x)"
   ]
  },
  {
   "cell_type": "code",
   "execution_count": 14,
   "id": "108edc6e",
   "metadata": {},
   "outputs": [
    {
     "data": {
      "text/plain": [
       "[0, 1, 2, 3, 4, 5, 6, 7, 8, 9]"
      ]
     },
     "execution_count": 14,
     "metadata": {},
     "output_type": "execute_result"
    }
   ],
   "source": [
    "list(range(10))"
   ]
  },
  {
   "cell_type": "code",
   "execution_count": 15,
   "id": "e90f76aa",
   "metadata": {},
   "outputs": [],
   "source": [
    "# list comprehension - use a for loop to create a list"
   ]
  },
  {
   "cell_type": "code",
   "execution_count": 34,
   "id": "169781f2",
   "metadata": {},
   "outputs": [],
   "source": [
    "x = [1,2,3,4]"
   ]
  },
  {
   "cell_type": "code",
   "execution_count": 35,
   "id": "5e779084",
   "metadata": {},
   "outputs": [],
   "source": [
    "out= []"
   ]
  },
  {
   "cell_type": "code",
   "execution_count": 23,
   "id": "0a286aa4",
   "metadata": {},
   "outputs": [],
   "source": [
    "for num in x:\n",
    "    out.append(num**2)"
   ]
  },
  {
   "cell_type": "code",
   "execution_count": 24,
   "id": "0d57663a",
   "metadata": {},
   "outputs": [
    {
     "data": {
      "text/plain": [
       "[1, 4, 9, 16]"
      ]
     },
     "execution_count": 24,
     "metadata": {},
     "output_type": "execute_result"
    }
   ],
   "source": [
    "out"
   ]
  },
  {
   "cell_type": "code",
   "execution_count": 36,
   "id": "19b6335a",
   "metadata": {},
   "outputs": [
    {
     "data": {
      "text/plain": [
       "[1, 4, 9, 16]"
      ]
     },
     "execution_count": 36,
     "metadata": {},
     "output_type": "execute_result"
    }
   ],
   "source": [
    "out = [num**2 for num in x]  # what you want for what and where\n",
    "out"
   ]
  },
  {
   "cell_type": "code",
   "execution_count": 37,
   "id": "df3c22c3",
   "metadata": {},
   "outputs": [],
   "source": [
    "# Functions"
   ]
  },
  {
   "cell_type": "code",
   "execution_count": 38,
   "id": "3c473557",
   "metadata": {},
   "outputs": [],
   "source": [
    "def myfunction(parameter1):\n",
    "    print(parameter1)"
   ]
  },
  {
   "cell_type": "code",
   "execution_count": 39,
   "id": "19e23e1f",
   "metadata": {},
   "outputs": [
    {
     "name": "stdout",
     "output_type": "stream",
     "text": [
      "hello\n"
     ]
    }
   ],
   "source": [
    "myfunction('hello')"
   ]
  },
  {
   "cell_type": "code",
   "execution_count": 42,
   "id": "ae31f0b4",
   "metadata": {},
   "outputs": [],
   "source": [
    "def myfun(name):\n",
    "    print('Hello ' + name)"
   ]
  },
  {
   "cell_type": "code",
   "execution_count": 43,
   "id": "b4ff515e",
   "metadata": {},
   "outputs": [
    {
     "name": "stdout",
     "output_type": "stream",
     "text": [
      "Hello Gosia\n"
     ]
    }
   ],
   "source": [
    "myfun('Gosia')"
   ]
  },
  {
   "cell_type": "code",
   "execution_count": 45,
   "id": "b2ec9d58",
   "metadata": {},
   "outputs": [],
   "source": [
    "def myfunc(name='Default name'):   # we can replace the default value\n",
    "    print('Hello ' + name)"
   ]
  },
  {
   "cell_type": "code",
   "execution_count": 47,
   "id": "379751ea",
   "metadata": {},
   "outputs": [
    {
     "name": "stdout",
     "output_type": "stream",
     "text": [
      "Hello Default name\n"
     ]
    }
   ],
   "source": [
    "myfunc()"
   ]
  },
  {
   "cell_type": "code",
   "execution_count": 50,
   "id": "3967d0c4",
   "metadata": {},
   "outputs": [],
   "source": [
    "def square(num):\n",
    "    \"\"\"\n",
    "    This is a multiline comment.\n",
    "    This function suares and returns a number\n",
    "    \"\"\"\n",
    "    return num**2"
   ]
  },
  {
   "cell_type": "code",
   "execution_count": 51,
   "id": "c93da863",
   "metadata": {},
   "outputs": [
    {
     "data": {
      "text/plain": [
       "4"
      ]
     },
     "execution_count": 51,
     "metadata": {},
     "output_type": "execute_result"
    }
   ],
   "source": [
    "output = square(2)\n",
    "output"
   ]
  },
  {
   "cell_type": "code",
   "execution_count": null,
   "id": "82674f80",
   "metadata": {},
   "outputs": [],
   "source": [
    "# range + shift tab key to see the documentation"
   ]
  },
  {
   "cell_type": "raw",
   "id": "0d380f0a",
   "metadata": {},
   "source": [
    "square"
   ]
  },
  {
   "cell_type": "code",
   "execution_count": null,
   "id": "ef5fd498",
   "metadata": {},
   "outputs": [],
   "source": []
  }
 ],
 "metadata": {
  "kernelspec": {
   "display_name": "Python 3 (ipykernel)",
   "language": "python",
   "name": "python3"
  },
  "language_info": {
   "codemirror_mode": {
    "name": "ipython",
    "version": 3
   },
   "file_extension": ".py",
   "mimetype": "text/x-python",
   "name": "python",
   "nbconvert_exporter": "python",
   "pygments_lexer": "ipython3",
   "version": "3.9.12"
  }
 },
 "nbformat": 4,
 "nbformat_minor": 5
}
