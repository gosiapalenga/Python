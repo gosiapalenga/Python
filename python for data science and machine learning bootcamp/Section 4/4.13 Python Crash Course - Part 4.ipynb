{
 "cells": [
  {
   "cell_type": "code",
   "execution_count": 1,
   "id": "1aaf0073",
   "metadata": {},
   "outputs": [],
   "source": [
    "def times2(var):\n",
    "    return var*2"
   ]
  },
  {
   "cell_type": "code",
   "execution_count": 2,
   "id": "60982514",
   "metadata": {},
   "outputs": [
    {
     "data": {
      "text/plain": [
       "10"
      ]
     },
     "execution_count": 2,
     "metadata": {},
     "output_type": "execute_result"
    }
   ],
   "source": [
    "times2(5)"
   ]
  },
  {
   "cell_type": "code",
   "execution_count": 4,
   "id": "2e153f8b",
   "metadata": {},
   "outputs": [],
   "source": [
    "# map() function"
   ]
  },
  {
   "cell_type": "code",
   "execution_count": 5,
   "id": "632b5c6a",
   "metadata": {},
   "outputs": [],
   "source": [
    "seq = [1,2,3,4,5]"
   ]
  },
  {
   "cell_type": "code",
   "execution_count": 6,
   "id": "8e37320f",
   "metadata": {},
   "outputs": [],
   "source": [
    "# apply function time2 to seq"
   ]
  },
  {
   "cell_type": "code",
   "execution_count": 7,
   "id": "3d6caf8c",
   "metadata": {},
   "outputs": [
    {
     "data": {
      "text/plain": [
       "[2, 4, 6, 8, 10]"
      ]
     },
     "execution_count": 7,
     "metadata": {},
     "output_type": "execute_result"
    }
   ],
   "source": [
    "list(map(times2, seq))   # map(function, iterables). To execute it, convert it to a list"
   ]
  },
  {
   "cell_type": "code",
   "execution_count": 8,
   "id": "4c8de8d7",
   "metadata": {},
   "outputs": [],
   "source": [
    "# rewrite function times2 using lambda"
   ]
  },
  {
   "cell_type": "code",
   "execution_count": 9,
   "id": "8ba861a3",
   "metadata": {},
   "outputs": [],
   "source": [
    "def time2(var): return var*2"
   ]
  },
  {
   "cell_type": "code",
   "execution_count": 10,
   "id": "6290e272",
   "metadata": {},
   "outputs": [
    {
     "data": {
      "text/plain": [
       "4"
      ]
     },
     "execution_count": 10,
     "metadata": {},
     "output_type": "execute_result"
    }
   ],
   "source": [
    "times2(2)"
   ]
  },
  {
   "cell_type": "code",
   "execution_count": 11,
   "id": "7a098174",
   "metadata": {},
   "outputs": [
    {
     "data": {
      "text/plain": [
       "<function __main__.<lambda>(var)>"
      ]
     },
     "execution_count": 11,
     "metadata": {},
     "output_type": "execute_result"
    }
   ],
   "source": [
    "# lambda var: --> what I want to pass in\n",
    "# var*2 --> what I want to return out\n",
    "lambda var: var*2    "
   ]
  },
  {
   "cell_type": "code",
   "execution_count": 12,
   "id": "ea99e96b",
   "metadata": {},
   "outputs": [
    {
     "data": {
      "text/plain": [
       "[3, 6, 9, 12, 15]"
      ]
     },
     "execution_count": 12,
     "metadata": {},
     "output_type": "execute_result"
    }
   ],
   "source": [
    "                    #function and then the sequence\n",
    "list(map(lambda var: var*3, seq))"
   ]
  },
  {
   "cell_type": "code",
   "execution_count": 13,
   "id": "decf59a2",
   "metadata": {},
   "outputs": [],
   "source": [
    "# built in filter function to filter out elements from a sequence. "
   ]
  },
  {
   "cell_type": "code",
   "execution_count": 16,
   "id": "43387d9e",
   "metadata": {},
   "outputs": [],
   "source": [
    "# filter function to return even numbers only from seq"
   ]
  },
  {
   "cell_type": "code",
   "execution_count": 17,
   "id": "7ad7de90",
   "metadata": {},
   "outputs": [
    {
     "data": {
      "text/plain": [
       "[2, 4]"
      ]
     },
     "execution_count": 17,
     "metadata": {},
     "output_type": "execute_result"
    }
   ],
   "source": [
    "list(filter(lambda num: num%2 == 0, seq ))  # lambda returns True or False depending if a number is odd or even"
   ]
  },
  {
   "cell_type": "code",
   "execution_count": 18,
   "id": "19f3ddd9",
   "metadata": {},
   "outputs": [],
   "source": [
    "# Methods can be used on objects, they effect objects. Use 'Tab' to get all available methods on the object"
   ]
  },
  {
   "cell_type": "code",
   "execution_count": 19,
   "id": "dc907399",
   "metadata": {},
   "outputs": [],
   "source": [
    "s = 'hello my name is Sam'"
   ]
  },
  {
   "cell_type": "code",
   "execution_count": 20,
   "id": "212a2334",
   "metadata": {},
   "outputs": [
    {
     "data": {
      "text/plain": [
       "'hello my name is sam'"
      ]
     },
     "execution_count": 20,
     "metadata": {},
     "output_type": "execute_result"
    }
   ],
   "source": [
    "s.lower()"
   ]
  },
  {
   "cell_type": "code",
   "execution_count": 21,
   "id": "144f4646",
   "metadata": {},
   "outputs": [
    {
     "data": {
      "text/plain": [
       "'HELLO MY NAME IS SAM'"
      ]
     },
     "execution_count": 21,
     "metadata": {},
     "output_type": "execute_result"
    }
   ],
   "source": [
    "s.upper()"
   ]
  },
  {
   "cell_type": "code",
   "execution_count": 22,
   "id": "0db62652",
   "metadata": {},
   "outputs": [
    {
     "data": {
      "text/plain": [
       "['hello', 'my', 'name', 'is', 'Sam']"
      ]
     },
     "execution_count": 22,
     "metadata": {},
     "output_type": "execute_result"
    }
   ],
   "source": [
    "s.split()"
   ]
  },
  {
   "cell_type": "code",
   "execution_count": 23,
   "id": "7df72be0",
   "metadata": {},
   "outputs": [],
   "source": [
    "tweet = 'Go Sports! #sports'"
   ]
  },
  {
   "cell_type": "code",
   "execution_count": 25,
   "id": "f99553a4",
   "metadata": {},
   "outputs": [
    {
     "data": {
      "text/plain": [
       "'sports'"
      ]
     },
     "execution_count": 25,
     "metadata": {},
     "output_type": "execute_result"
    }
   ],
   "source": [
    "tweet.split(sep='#')[1]"
   ]
  },
  {
   "cell_type": "code",
   "execution_count": 26,
   "id": "52819790",
   "metadata": {},
   "outputs": [],
   "source": [
    "d = {'k1': 'value1', 'key2': 'value2'}"
   ]
  },
  {
   "cell_type": "code",
   "execution_count": 27,
   "id": "b664af60",
   "metadata": {},
   "outputs": [
    {
     "data": {
      "text/plain": [
       "{'k1': 'value1', 'key2': 'value2'}"
      ]
     },
     "execution_count": 27,
     "metadata": {},
     "output_type": "execute_result"
    }
   ],
   "source": [
    "d"
   ]
  },
  {
   "cell_type": "code",
   "execution_count": 28,
   "id": "b85f613d",
   "metadata": {},
   "outputs": [
    {
     "data": {
      "text/plain": [
       "dict_keys(['k1', 'key2'])"
      ]
     },
     "execution_count": 28,
     "metadata": {},
     "output_type": "execute_result"
    }
   ],
   "source": [
    "d.keys()"
   ]
  },
  {
   "cell_type": "code",
   "execution_count": 29,
   "id": "ef4ed498",
   "metadata": {},
   "outputs": [
    {
     "data": {
      "text/plain": [
       "dict_items([('k1', 'value1'), ('key2', 'value2')])"
      ]
     },
     "execution_count": 29,
     "metadata": {},
     "output_type": "execute_result"
    }
   ],
   "source": [
    "d.items()"
   ]
  },
  {
   "cell_type": "code",
   "execution_count": 30,
   "id": "1c9f8c08",
   "metadata": {},
   "outputs": [
    {
     "data": {
      "text/plain": [
       "dict_values(['value1', 'value2'])"
      ]
     },
     "execution_count": 30,
     "metadata": {},
     "output_type": "execute_result"
    }
   ],
   "source": [
    "d.values()"
   ]
  },
  {
   "cell_type": "code",
   "execution_count": 31,
   "id": "5363cbe7",
   "metadata": {},
   "outputs": [],
   "source": [
    "lst = [1,2,3]"
   ]
  },
  {
   "cell_type": "code",
   "execution_count": 32,
   "id": "5097e3cd",
   "metadata": {},
   "outputs": [
    {
     "data": {
      "text/plain": [
       "3"
      ]
     },
     "execution_count": 32,
     "metadata": {},
     "output_type": "execute_result"
    }
   ],
   "source": [
    "lst.pop() # removes last element of the list"
   ]
  },
  {
   "cell_type": "code",
   "execution_count": 33,
   "id": "fc722e01",
   "metadata": {},
   "outputs": [
    {
     "data": {
      "text/plain": [
       "[1, 2]"
      ]
     },
     "execution_count": 33,
     "metadata": {},
     "output_type": "execute_result"
    }
   ],
   "source": [
    "lst"
   ]
  },
  {
   "cell_type": "code",
   "execution_count": 34,
   "id": "6ea31805",
   "metadata": {},
   "outputs": [
    {
     "data": {
      "text/plain": [
       "1"
      ]
     },
     "execution_count": 34,
     "metadata": {},
     "output_type": "execute_result"
    }
   ],
   "source": [
    "lst.pop(0)"
   ]
  },
  {
   "cell_type": "code",
   "execution_count": 35,
   "id": "e18146b6",
   "metadata": {},
   "outputs": [
    {
     "data": {
      "text/plain": [
       "[2]"
      ]
     },
     "execution_count": 35,
     "metadata": {},
     "output_type": "execute_result"
    }
   ],
   "source": [
    "lst"
   ]
  },
  {
   "cell_type": "code",
   "execution_count": 36,
   "id": "6735b27e",
   "metadata": {},
   "outputs": [],
   "source": [
    "lst.append('nw')"
   ]
  },
  {
   "cell_type": "code",
   "execution_count": 37,
   "id": "440a3eda",
   "metadata": {},
   "outputs": [
    {
     "data": {
      "text/plain": [
       "[2, 'nw']"
      ]
     },
     "execution_count": 37,
     "metadata": {},
     "output_type": "execute_result"
    }
   ],
   "source": [
    "lst"
   ]
  },
  {
   "cell_type": "code",
   "execution_count": 39,
   "id": "70c6a854",
   "metadata": {},
   "outputs": [
    {
     "data": {
      "text/plain": [
       "False"
      ]
     },
     "execution_count": 39,
     "metadata": {},
     "output_type": "execute_result"
    }
   ],
   "source": [
    "'x' in [1,2,3]"
   ]
  },
  {
   "cell_type": "code",
   "execution_count": 40,
   "id": "ac8262d4",
   "metadata": {},
   "outputs": [],
   "source": [
    "# Tuple unpacking"
   ]
  },
  {
   "cell_type": "code",
   "execution_count": 41,
   "id": "6f38f919",
   "metadata": {},
   "outputs": [],
   "source": [
    "x = [(1,2), (3,4), (5,6)]"
   ]
  },
  {
   "cell_type": "code",
   "execution_count": 42,
   "id": "52a88443",
   "metadata": {},
   "outputs": [
    {
     "data": {
      "text/plain": [
       "[(1, 2), (3, 4), (5, 6)]"
      ]
     },
     "execution_count": 42,
     "metadata": {},
     "output_type": "execute_result"
    }
   ],
   "source": [
    "x"
   ]
  },
  {
   "cell_type": "code",
   "execution_count": 43,
   "id": "042dcb7c",
   "metadata": {},
   "outputs": [
    {
     "data": {
      "text/plain": [
       "(1, 2)"
      ]
     },
     "execution_count": 43,
     "metadata": {},
     "output_type": "execute_result"
    }
   ],
   "source": [
    "x[0]"
   ]
  },
  {
   "cell_type": "code",
   "execution_count": 44,
   "id": "a4cdec5a",
   "metadata": {},
   "outputs": [
    {
     "name": "stdout",
     "output_type": "stream",
     "text": [
      "(1, 2)\n",
      "(3, 4)\n",
      "(5, 6)\n"
     ]
    }
   ],
   "source": [
    "for item in x:\n",
    "    print(item)"
   ]
  },
  {
   "cell_type": "code",
   "execution_count": 48,
   "id": "55ff9b39",
   "metadata": {},
   "outputs": [
    {
     "name": "stdout",
     "output_type": "stream",
     "text": [
      "1\n",
      "3\n",
      "5\n"
     ]
    }
   ],
   "source": [
    "for a,b in x:\n",
    "    print(a)"
   ]
  },
  {
   "cell_type": "code",
   "execution_count": 49,
   "id": "b76ed08f",
   "metadata": {},
   "outputs": [
    {
     "name": "stdout",
     "output_type": "stream",
     "text": [
      "2\n",
      "4\n",
      "6\n"
     ]
    }
   ],
   "source": [
    "for a,b in x:\n",
    "    print(b)"
   ]
  },
  {
   "cell_type": "code",
   "execution_count": null,
   "id": "8e0c2d77",
   "metadata": {},
   "outputs": [],
   "source": []
  }
 ],
 "metadata": {
  "kernelspec": {
   "display_name": "Python 3 (ipykernel)",
   "language": "python",
   "name": "python3"
  },
  "language_info": {
   "codemirror_mode": {
    "name": "ipython",
    "version": 3
   },
   "file_extension": ".py",
   "mimetype": "text/x-python",
   "name": "python",
   "nbconvert_exporter": "python",
   "pygments_lexer": "ipython3",
   "version": "3.9.12"
  }
 },
 "nbformat": 4,
 "nbformat_minor": 5
}
