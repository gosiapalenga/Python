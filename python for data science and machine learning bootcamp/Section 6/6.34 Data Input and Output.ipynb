{
 "cells": [
  {
   "cell_type": "code",
   "execution_count": 33,
   "id": "e7598990",
   "metadata": {},
   "outputs": [],
   "source": [
    "import pandas as pd\n",
    "import sqlalchemy\n",
    "from sqlalchemy import create_engine\n",
    "import lxml\n",
    "import html5lib\n",
    "from bs4 import BeautifulSoup"
   ]
  },
  {
   "cell_type": "code",
   "execution_count": 20,
   "id": "5f2b5152",
   "metadata": {},
   "outputs": [],
   "source": [
    "# open CSV file"
   ]
  },
  {
   "cell_type": "code",
   "execution_count": 4,
   "id": "30ed4fd5",
   "metadata": {},
   "outputs": [
    {
     "data": {
      "text/plain": [
       "'C:\\\\Users\\\\go27s\\\\OneDrive\\\\Desktop\\\\Udemy\\\\Python_for_Data_Science_and_Machine_Learning_Bootcamp'"
      ]
     },
     "execution_count": 4,
     "metadata": {},
     "output_type": "execute_result"
    }
   ],
   "source": [
    "pwd"
   ]
  },
  {
   "cell_type": "code",
   "execution_count": 6,
   "id": "0179a1b7",
   "metadata": {},
   "outputs": [
    {
     "data": {
      "text/html": [
       "<div>\n",
       "<style scoped>\n",
       "    .dataframe tbody tr th:only-of-type {\n",
       "        vertical-align: middle;\n",
       "    }\n",
       "\n",
       "    .dataframe tbody tr th {\n",
       "        vertical-align: top;\n",
       "    }\n",
       "\n",
       "    .dataframe thead th {\n",
       "        text-align: right;\n",
       "    }\n",
       "</style>\n",
       "<table border=\"1\" class=\"dataframe\">\n",
       "  <thead>\n",
       "    <tr style=\"text-align: right;\">\n",
       "      <th></th>\n",
       "      <th>a</th>\n",
       "      <th>b</th>\n",
       "      <th>c</th>\n",
       "      <th>d</th>\n",
       "    </tr>\n",
       "  </thead>\n",
       "  <tbody>\n",
       "    <tr>\n",
       "      <th>0</th>\n",
       "      <td>0</td>\n",
       "      <td>1</td>\n",
       "      <td>2</td>\n",
       "      <td>3</td>\n",
       "    </tr>\n",
       "    <tr>\n",
       "      <th>1</th>\n",
       "      <td>4</td>\n",
       "      <td>5</td>\n",
       "      <td>6</td>\n",
       "      <td>7</td>\n",
       "    </tr>\n",
       "    <tr>\n",
       "      <th>2</th>\n",
       "      <td>8</td>\n",
       "      <td>9</td>\n",
       "      <td>10</td>\n",
       "      <td>11</td>\n",
       "    </tr>\n",
       "    <tr>\n",
       "      <th>3</th>\n",
       "      <td>12</td>\n",
       "      <td>13</td>\n",
       "      <td>14</td>\n",
       "      <td>15</td>\n",
       "    </tr>\n",
       "  </tbody>\n",
       "</table>\n",
       "</div>"
      ],
      "text/plain": [
       "    a   b   c   d\n",
       "0   0   1   2   3\n",
       "1   4   5   6   7\n",
       "2   8   9  10  11\n",
       "3  12  13  14  15"
      ]
     },
     "execution_count": 6,
     "metadata": {},
     "output_type": "execute_result"
    }
   ],
   "source": [
    "pd.read_csv(\"example\")"
   ]
  },
  {
   "cell_type": "code",
   "execution_count": 9,
   "id": "f46e3b00",
   "metadata": {},
   "outputs": [],
   "source": [
    "df = pd.read_csv(\"example\")"
   ]
  },
  {
   "cell_type": "code",
   "execution_count": 10,
   "id": "e6e9284b",
   "metadata": {},
   "outputs": [],
   "source": [
    "df.to_csv(\"My_output\", index=False)  # if index is True, it will create a new index"
   ]
  },
  {
   "cell_type": "code",
   "execution_count": 12,
   "id": "36835016",
   "metadata": {},
   "outputs": [
    {
     "data": {
      "text/html": [
       "<div>\n",
       "<style scoped>\n",
       "    .dataframe tbody tr th:only-of-type {\n",
       "        vertical-align: middle;\n",
       "    }\n",
       "\n",
       "    .dataframe tbody tr th {\n",
       "        vertical-align: top;\n",
       "    }\n",
       "\n",
       "    .dataframe thead th {\n",
       "        text-align: right;\n",
       "    }\n",
       "</style>\n",
       "<table border=\"1\" class=\"dataframe\">\n",
       "  <thead>\n",
       "    <tr style=\"text-align: right;\">\n",
       "      <th></th>\n",
       "      <th>a</th>\n",
       "      <th>b</th>\n",
       "      <th>c</th>\n",
       "      <th>d</th>\n",
       "    </tr>\n",
       "  </thead>\n",
       "  <tbody>\n",
       "    <tr>\n",
       "      <th>0</th>\n",
       "      <td>0</td>\n",
       "      <td>1</td>\n",
       "      <td>2</td>\n",
       "      <td>3</td>\n",
       "    </tr>\n",
       "    <tr>\n",
       "      <th>1</th>\n",
       "      <td>4</td>\n",
       "      <td>5</td>\n",
       "      <td>6</td>\n",
       "      <td>7</td>\n",
       "    </tr>\n",
       "    <tr>\n",
       "      <th>2</th>\n",
       "      <td>8</td>\n",
       "      <td>9</td>\n",
       "      <td>10</td>\n",
       "      <td>11</td>\n",
       "    </tr>\n",
       "    <tr>\n",
       "      <th>3</th>\n",
       "      <td>12</td>\n",
       "      <td>13</td>\n",
       "      <td>14</td>\n",
       "      <td>15</td>\n",
       "    </tr>\n",
       "  </tbody>\n",
       "</table>\n",
       "</div>"
      ],
      "text/plain": [
       "    a   b   c   d\n",
       "0   0   1   2   3\n",
       "1   4   5   6   7\n",
       "2   8   9  10  11\n",
       "3  12  13  14  15"
      ]
     },
     "execution_count": 12,
     "metadata": {},
     "output_type": "execute_result"
    }
   ],
   "source": [
    "pd.read_csv(\"My_output\")"
   ]
  },
  {
   "cell_type": "code",
   "execution_count": 17,
   "id": "3740327e",
   "metadata": {},
   "outputs": [
    {
     "data": {
      "text/html": [
       "<div>\n",
       "<style scoped>\n",
       "    .dataframe tbody tr th:only-of-type {\n",
       "        vertical-align: middle;\n",
       "    }\n",
       "\n",
       "    .dataframe tbody tr th {\n",
       "        vertical-align: top;\n",
       "    }\n",
       "\n",
       "    .dataframe thead th {\n",
       "        text-align: right;\n",
       "    }\n",
       "</style>\n",
       "<table border=\"1\" class=\"dataframe\">\n",
       "  <thead>\n",
       "    <tr style=\"text-align: right;\">\n",
       "      <th></th>\n",
       "      <th>Unnamed: 0</th>\n",
       "      <th>a</th>\n",
       "      <th>b</th>\n",
       "      <th>c</th>\n",
       "      <th>d</th>\n",
       "    </tr>\n",
       "  </thead>\n",
       "  <tbody>\n",
       "    <tr>\n",
       "      <th>0</th>\n",
       "      <td>0</td>\n",
       "      <td>0</td>\n",
       "      <td>1</td>\n",
       "      <td>2</td>\n",
       "      <td>3</td>\n",
       "    </tr>\n",
       "    <tr>\n",
       "      <th>1</th>\n",
       "      <td>1</td>\n",
       "      <td>4</td>\n",
       "      <td>5</td>\n",
       "      <td>6</td>\n",
       "      <td>7</td>\n",
       "    </tr>\n",
       "    <tr>\n",
       "      <th>2</th>\n",
       "      <td>2</td>\n",
       "      <td>8</td>\n",
       "      <td>9</td>\n",
       "      <td>10</td>\n",
       "      <td>11</td>\n",
       "    </tr>\n",
       "    <tr>\n",
       "      <th>3</th>\n",
       "      <td>3</td>\n",
       "      <td>12</td>\n",
       "      <td>13</td>\n",
       "      <td>14</td>\n",
       "      <td>15</td>\n",
       "    </tr>\n",
       "  </tbody>\n",
       "</table>\n",
       "</div>"
      ],
      "text/plain": [
       "   Unnamed: 0   a   b   c   d\n",
       "0           0   0   1   2   3\n",
       "1           1   4   5   6   7\n",
       "2           2   8   9  10  11\n",
       "3           3  12  13  14  15"
      ]
     },
     "execution_count": 17,
     "metadata": {},
     "output_type": "execute_result"
    }
   ],
   "source": [
    "pd.read_excel(\"Excel_Sample.xlsx\", sheet_name='Sheet1', index_col=None)"
   ]
  },
  {
   "cell_type": "code",
   "execution_count": 18,
   "id": "d8c36ad8",
   "metadata": {},
   "outputs": [],
   "source": [
    "df.to_excel(\"Excel_output.xlsx\", sheet_name='NewSheet')"
   ]
  },
  {
   "cell_type": "code",
   "execution_count": 26,
   "id": "f3209981",
   "metadata": {},
   "outputs": [],
   "source": [
    "data = pd.read_html('https://en.wikipedia.org/wiki/List_of_banks_acquired_or_bankrupted_during_the_Great_Recession')"
   ]
  },
  {
   "cell_type": "code",
   "execution_count": 28,
   "id": "3a095e07",
   "metadata": {},
   "outputs": [
    {
     "data": {
      "text/plain": [
       "list"
      ]
     },
     "execution_count": 28,
     "metadata": {},
     "output_type": "execute_result"
    }
   ],
   "source": [
    "type(data)"
   ]
  },
  {
   "cell_type": "code",
   "execution_count": 31,
   "id": "83a0e64a",
   "metadata": {},
   "outputs": [],
   "source": [
    "data = data[0]"
   ]
  },
  {
   "cell_type": "code",
   "execution_count": 32,
   "id": "f2471973",
   "metadata": {},
   "outputs": [
    {
     "data": {
      "text/html": [
       "<div>\n",
       "<style scoped>\n",
       "    .dataframe tbody tr th:only-of-type {\n",
       "        vertical-align: middle;\n",
       "    }\n",
       "\n",
       "    .dataframe tbody tr th {\n",
       "        vertical-align: top;\n",
       "    }\n",
       "\n",
       "    .dataframe thead th {\n",
       "        text-align: right;\n",
       "    }\n",
       "</style>\n",
       "<table border=\"1\" class=\"dataframe\">\n",
       "  <thead>\n",
       "    <tr style=\"text-align: right;\">\n",
       "      <th></th>\n",
       "      <th>Announcement date</th>\n",
       "      <th>Acquired company</th>\n",
       "      <th>Acquirer</th>\n",
       "      <th>Type of company acquired</th>\n",
       "      <th>Value (USD, EUR and GBP)</th>\n",
       "      <th>Reference</th>\n",
       "    </tr>\n",
       "  </thead>\n",
       "  <tbody>\n",
       "    <tr>\n",
       "      <th>0</th>\n",
       "      <td>January 3, 2007</td>\n",
       "      <td>Ownit Mortgage Solutions</td>\n",
       "      <td>Chapter 11 bankruptcy and liquidation</td>\n",
       "      <td>Mortgage lender</td>\n",
       "      <td>NaN</td>\n",
       "      <td>NaN</td>\n",
       "    </tr>\n",
       "    <tr>\n",
       "      <th>1</th>\n",
       "      <td>January 29, 2007</td>\n",
       "      <td>American Freedom Mortgage</td>\n",
       "      <td>Chapter 11 bankruptcy and liquidation</td>\n",
       "      <td>Mortgage lender</td>\n",
       "      <td>NaN</td>\n",
       "      <td>NaN</td>\n",
       "    </tr>\n",
       "    <tr>\n",
       "      <th>2</th>\n",
       "      <td>February 21, 2007</td>\n",
       "      <td>First Merchant Bank</td>\n",
       "      <td>withdrawal of the concession</td>\n",
       "      <td>Offshore bank</td>\n",
       "      <td>NaN</td>\n",
       "      <td>[1]</td>\n",
       "    </tr>\n",
       "    <tr>\n",
       "      <th>3</th>\n",
       "      <td>April 2, 2007</td>\n",
       "      <td>New Century</td>\n",
       "      <td>Chapter 11 bankruptcy and liquidation</td>\n",
       "      <td>Mortgage lender</td>\n",
       "      <td>NaN</td>\n",
       "      <td>[2]</td>\n",
       "    </tr>\n",
       "    <tr>\n",
       "      <th>4</th>\n",
       "      <td>August 6, 2007</td>\n",
       "      <td>American Home Mortgage</td>\n",
       "      <td>Chapter 11 bankruptcy and liquidation</td>\n",
       "      <td>Mortgage lender</td>\n",
       "      <td>NaN</td>\n",
       "      <td>[3]</td>\n",
       "    </tr>\n",
       "    <tr>\n",
       "      <th>...</th>\n",
       "      <td>...</td>\n",
       "      <td>...</td>\n",
       "      <td>...</td>\n",
       "      <td>...</td>\n",
       "      <td>...</td>\n",
       "      <td>...</td>\n",
       "    </tr>\n",
       "    <tr>\n",
       "      <th>80</th>\n",
       "      <td>November 23, 2011</td>\n",
       "      <td>PMI Group</td>\n",
       "      <td>State of Arizona</td>\n",
       "      <td>Insurance company</td>\n",
       "      <td>NaN</td>\n",
       "      <td>[79][80]</td>\n",
       "    </tr>\n",
       "    <tr>\n",
       "      <th>81</th>\n",
       "      <td>April 27, 2012</td>\n",
       "      <td>Exportbank</td>\n",
       "      <td>Philippine Deposit Insurance Corporation</td>\n",
       "      <td>Commercial bank</td>\n",
       "      <td>$18,000,000 (₱750,000,000)</td>\n",
       "      <td>NaN</td>\n",
       "    </tr>\n",
       "    <tr>\n",
       "      <th>82</th>\n",
       "      <td>May 25, 2012</td>\n",
       "      <td>Bankia</td>\n",
       "      <td>Government of Spain</td>\n",
       "      <td>Savings and loan association</td>\n",
       "      <td>€1.9×1010</td>\n",
       "      <td>NaN</td>\n",
       "    </tr>\n",
       "    <tr>\n",
       "      <th>83</th>\n",
       "      <td>June 11, 2012</td>\n",
       "      <td>FGIC</td>\n",
       "      <td>New York State Insurance Department</td>\n",
       "      <td>Insurance company</td>\n",
       "      <td>NaN</td>\n",
       "      <td>[81]</td>\n",
       "    </tr>\n",
       "    <tr>\n",
       "      <th>84</th>\n",
       "      <td>June 30, 2012</td>\n",
       "      <td>Western German state Bank</td>\n",
       "      <td>Portigon Financial Services(legal successor)</td>\n",
       "      <td>Landesbank</td>\n",
       "      <td>NaN</td>\n",
       "      <td>NaN</td>\n",
       "    </tr>\n",
       "  </tbody>\n",
       "</table>\n",
       "<p>85 rows × 6 columns</p>\n",
       "</div>"
      ],
      "text/plain": [
       "    Announcement date           Acquired company  \\\n",
       "0     January 3, 2007   Ownit Mortgage Solutions   \n",
       "1    January 29, 2007  American Freedom Mortgage   \n",
       "2   February 21, 2007        First Merchant Bank   \n",
       "3       April 2, 2007                New Century   \n",
       "4      August 6, 2007     American Home Mortgage   \n",
       "..                ...                        ...   \n",
       "80  November 23, 2011                  PMI Group   \n",
       "81     April 27, 2012                 Exportbank   \n",
       "82       May 25, 2012                     Bankia   \n",
       "83      June 11, 2012                       FGIC   \n",
       "84      June 30, 2012  Western German state Bank   \n",
       "\n",
       "                                        Acquirer  \\\n",
       "0          Chapter 11 bankruptcy and liquidation   \n",
       "1          Chapter 11 bankruptcy and liquidation   \n",
       "2                   withdrawal of the concession   \n",
       "3          Chapter 11 bankruptcy and liquidation   \n",
       "4          Chapter 11 bankruptcy and liquidation   \n",
       "..                                           ...   \n",
       "80                              State of Arizona   \n",
       "81      Philippine Deposit Insurance Corporation   \n",
       "82                           Government of Spain   \n",
       "83           New York State Insurance Department   \n",
       "84  Portigon Financial Services(legal successor)   \n",
       "\n",
       "        Type of company acquired    Value (USD, EUR and GBP) Reference  \n",
       "0                Mortgage lender                         NaN       NaN  \n",
       "1                Mortgage lender                         NaN       NaN  \n",
       "2                  Offshore bank                         NaN       [1]  \n",
       "3                Mortgage lender                         NaN       [2]  \n",
       "4                Mortgage lender                         NaN       [3]  \n",
       "..                           ...                         ...       ...  \n",
       "80             Insurance company                         NaN  [79][80]  \n",
       "81               Commercial bank  $18,000,000 (₱750,000,000)       NaN  \n",
       "82  Savings and loan association                   €1.9×1010       NaN  \n",
       "83             Insurance company                         NaN      [81]  \n",
       "84                    Landesbank                         NaN       NaN  \n",
       "\n",
       "[85 rows x 6 columns]"
      ]
     },
     "execution_count": 32,
     "metadata": {},
     "output_type": "execute_result"
    }
   ],
   "source": [
    "data"
   ]
  },
  {
   "cell_type": "code",
   "execution_count": null,
   "id": "11c369ac",
   "metadata": {},
   "outputs": [],
   "source": []
  },
  {
   "cell_type": "code",
   "execution_count": 34,
   "id": "4a45d04f",
   "metadata": {},
   "outputs": [],
   "source": [
    "# Reading SQL, create sql engine depending on sql engine (mySQL, Postgre...)"
   ]
  },
  {
   "cell_type": "code",
   "execution_count": 35,
   "id": "097938c2",
   "metadata": {},
   "outputs": [],
   "source": [
    "# Create a temporary sqlite engine database that's running in memory\n",
    "\n",
    "engine = create_engine('sqlite:///:memory:')"
   ]
  },
  {
   "cell_type": "code",
   "execution_count": 36,
   "id": "dd1ae308",
   "metadata": {},
   "outputs": [
    {
     "data": {
      "text/plain": [
       "4"
      ]
     },
     "execution_count": 36,
     "metadata": {},
     "output_type": "execute_result"
    }
   ],
   "source": [
    "df.to_sql('my_table', engine)"
   ]
  },
  {
   "cell_type": "code",
   "execution_count": 37,
   "id": "1f99264f",
   "metadata": {},
   "outputs": [
    {
     "data": {
      "text/html": [
       "<div>\n",
       "<style scoped>\n",
       "    .dataframe tbody tr th:only-of-type {\n",
       "        vertical-align: middle;\n",
       "    }\n",
       "\n",
       "    .dataframe tbody tr th {\n",
       "        vertical-align: top;\n",
       "    }\n",
       "\n",
       "    .dataframe thead th {\n",
       "        text-align: right;\n",
       "    }\n",
       "</style>\n",
       "<table border=\"1\" class=\"dataframe\">\n",
       "  <thead>\n",
       "    <tr style=\"text-align: right;\">\n",
       "      <th></th>\n",
       "      <th>index</th>\n",
       "      <th>a</th>\n",
       "      <th>b</th>\n",
       "      <th>c</th>\n",
       "      <th>d</th>\n",
       "    </tr>\n",
       "  </thead>\n",
       "  <tbody>\n",
       "    <tr>\n",
       "      <th>0</th>\n",
       "      <td>0</td>\n",
       "      <td>0</td>\n",
       "      <td>1</td>\n",
       "      <td>2</td>\n",
       "      <td>3</td>\n",
       "    </tr>\n",
       "    <tr>\n",
       "      <th>1</th>\n",
       "      <td>1</td>\n",
       "      <td>4</td>\n",
       "      <td>5</td>\n",
       "      <td>6</td>\n",
       "      <td>7</td>\n",
       "    </tr>\n",
       "    <tr>\n",
       "      <th>2</th>\n",
       "      <td>2</td>\n",
       "      <td>8</td>\n",
       "      <td>9</td>\n",
       "      <td>10</td>\n",
       "      <td>11</td>\n",
       "    </tr>\n",
       "    <tr>\n",
       "      <th>3</th>\n",
       "      <td>3</td>\n",
       "      <td>12</td>\n",
       "      <td>13</td>\n",
       "      <td>14</td>\n",
       "      <td>15</td>\n",
       "    </tr>\n",
       "  </tbody>\n",
       "</table>\n",
       "</div>"
      ],
      "text/plain": [
       "   index   a   b   c   d\n",
       "0      0   0   1   2   3\n",
       "1      1   4   5   6   7\n",
       "2      2   8   9  10  11\n",
       "3      3  12  13  14  15"
      ]
     },
     "execution_count": 37,
     "metadata": {},
     "output_type": "execute_result"
    }
   ],
   "source": [
    "sqldf = pd.read_sql('my_table', con=engine)\n",
    "sqldf"
   ]
  },
  {
   "cell_type": "code",
   "execution_count": null,
   "id": "eb6178ff",
   "metadata": {},
   "outputs": [],
   "source": []
  }
 ],
 "metadata": {
  "kernelspec": {
   "display_name": "Python 3 (ipykernel)",
   "language": "python",
   "name": "python3"
  },
  "language_info": {
   "codemirror_mode": {
    "name": "ipython",
    "version": 3
   },
   "file_extension": ".py",
   "mimetype": "text/x-python",
   "name": "python",
   "nbconvert_exporter": "python",
   "pygments_lexer": "ipython3",
   "version": "3.9.12"
  }
 },
 "nbformat": 4,
 "nbformat_minor": 5
}
