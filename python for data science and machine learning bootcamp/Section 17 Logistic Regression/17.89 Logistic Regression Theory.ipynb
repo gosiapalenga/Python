{
 "cells": [
  {
   "cell_type": "code",
   "execution_count": null,
   "id": "c165c55e",
   "metadata": {},
   "outputs": [],
   "source": [
    "# Logistic Regression is used to solve Classification problems. It's a method for Classification\n",
    "# Examples: Loan Default(yes/no), diagnose disease\n",
    "# In linear regression we predict continuos values. In logistic regression we predict discrete categories.\n",
    "# The convention for binary classification is to have two classes: 0 and 1\n",
    "# The Sigmoid (aka Logistic) function takes in any value and outputs it to be between 0 and 1. \n",
    "# This function reduces values to 0-1\n",
    "# We can take our linear regression solution and place it into the Sigmoid function and the result will be between 0 and 1.\n",
    "# This results in a probability from 0 to 1 of belonging in the 1 class\n",
    "# We can set up a cutoff point at 0.5, anything below it results in class 0, anything above is class 1\n",
    "\n",
    "# Model Evaluation\n",
    "# Use a confusion matrix to evaluate classification models\n",
    "\n",
    "# True Positives (TP) - we predicted they have a disease and they have a disease\n",
    "# True Negatives (TN) - we predicted they don't have a disease and they don't have it\n",
    "# False Positive (FP) - we prdicted they have a disease but they don't have it (Type 1 error)\n",
    "# False Negatives (FN) - we predicted they don't have a disease but they have it (Type 2 error)\n",
    "\n",
    "# Confusion Matrix Accuracy\n",
    "# Overall, how often is the model correct - (TP/TN) / total\n",
    "# Misclassification Rate (How often is the model wrong) - (FP + FN) / total"
   ]
  }
 ],
 "metadata": {
  "kernelspec": {
   "display_name": "Python 3 (ipykernel)",
   "language": "python",
   "name": "python3"
  },
  "language_info": {
   "codemirror_mode": {
    "name": "ipython",
    "version": 3
   },
   "file_extension": ".py",
   "mimetype": "text/x-python",
   "name": "python",
   "nbconvert_exporter": "python",
   "pygments_lexer": "ipython3",
   "version": "3.9.12"
  }
 },
 "nbformat": 4,
 "nbformat_minor": 5
}
