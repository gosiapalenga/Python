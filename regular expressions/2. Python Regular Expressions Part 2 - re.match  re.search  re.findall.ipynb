{
 "cells": [
  {
   "cell_type": "code",
   "execution_count": null,
   "id": "5b779611",
   "metadata": {},
   "outputs": [],
   "source": [
    "# re.search(regex pattern, string, flags)    flags are special options eg ignore upper case\n",
    "\n",
    "# re.match(regex pattern, string, flags)\n",
    "\n",
    "# Difference between re.search & re.match: \n",
    "# re.search searches anywhere in the string, it only returns first match, works with new line\n",
    "# re.match only if the match is the beginning of the string, doesn't work with new line\n",
    "\n",
    "\n",
    "# group() method default value is zero  --> .group(0)\n",
    "# start()\n",
    "# end()\n",
    "# | OR\n",
    "\n",
    "# re.findall pulls out only the instances, no location provided"
   ]
  },
  {
   "cell_type": "code",
   "execution_count": 2,
   "id": "078ba646",
   "metadata": {},
   "outputs": [],
   "source": [
    "import re"
   ]
  },
  {
   "cell_type": "code",
   "execution_count": 3,
   "id": "9a97295a",
   "metadata": {},
   "outputs": [
    {
     "data": {
      "text/plain": [
       "<re.Match object; span=(2, 3), match='c'>"
      ]
     },
     "execution_count": 3,
     "metadata": {},
     "output_type": "execute_result"
    }
   ],
   "source": [
    "re.search('c', 'abcdef')"
   ]
  },
  {
   "cell_type": "code",
   "execution_count": 4,
   "id": "de010aea",
   "metadata": {},
   "outputs": [],
   "source": [
    "re.match('c', 'abcdef')  # 'c' isn't at the beginning of the string so no result"
   ]
  },
  {
   "cell_type": "code",
   "execution_count": 5,
   "id": "379028cd",
   "metadata": {},
   "outputs": [
    {
     "data": {
      "text/plain": [
       "<re.Match object; span=(0, 1), match='a'>"
      ]
     },
     "execution_count": 5,
     "metadata": {},
     "output_type": "execute_result"
    }
   ],
   "source": [
    "re.match('a', 'abcdef')  # 'a' is the beginning of the string, hence the result"
   ]
  },
  {
   "cell_type": "code",
   "execution_count": 6,
   "id": "adf6d905",
   "metadata": {},
   "outputs": [
    {
     "data": {
      "text/plain": [
       "False"
      ]
     },
     "execution_count": 6,
     "metadata": {},
     "output_type": "execute_result"
    }
   ],
   "source": [
    "bool(re.match('c', 'abcdef'))"
   ]
  },
  {
   "cell_type": "code",
   "execution_count": 7,
   "id": "a16629d0",
   "metadata": {},
   "outputs": [
    {
     "data": {
      "text/plain": [
       "True"
      ]
     },
     "execution_count": 7,
     "metadata": {},
     "output_type": "execute_result"
    }
   ],
   "source": [
    "bool(re.match('a', 'abcdef'))"
   ]
  },
  {
   "cell_type": "code",
   "execution_count": 8,
   "id": "108b5084",
   "metadata": {},
   "outputs": [
    {
     "data": {
      "text/plain": [
       "<re.Match object; span=(2, 3), match='c'>"
      ]
     },
     "execution_count": 8,
     "metadata": {},
     "output_type": "execute_result"
    }
   ],
   "source": [
    "# re.search returns only returns 1st instance\n",
    "\n",
    "re.search('c', 'abcabcabc')"
   ]
  },
  {
   "cell_type": "code",
   "execution_count": 9,
   "id": "6a63e2d1",
   "metadata": {},
   "outputs": [
    {
     "data": {
      "text/plain": [
       "<re.Match object; span=(5, 6), match='c'>"
      ]
     },
     "execution_count": 9,
     "metadata": {},
     "output_type": "execute_result"
    }
   ],
   "source": [
    "# re.search works with new line\n",
    "\n",
    "re.search('c', 'abdf\\nc')"
   ]
  },
  {
   "cell_type": "code",
   "execution_count": 10,
   "id": "75647f65",
   "metadata": {},
   "outputs": [],
   "source": [
    "# re.match doesn't work with new line\n",
    "\n",
    "re.match('c', 'abdf\\nc')"
   ]
  },
  {
   "cell_type": "markdown",
   "id": "bde92ff7",
   "metadata": {},
   "source": [
    "# group() method - printing out the results  "
   ]
  },
  {
   "cell_type": "code",
   "execution_count": 11,
   "id": "87ceaf0f",
   "metadata": {},
   "outputs": [
    {
     "data": {
      "text/plain": [
       "<re.Match object; span=(0, 1), match='a'>"
      ]
     },
     "execution_count": 11,
     "metadata": {},
     "output_type": "execute_result"
    }
   ],
   "source": [
    "re.match('a', 'abc')"
   ]
  },
  {
   "cell_type": "code",
   "execution_count": 12,
   "id": "04863211",
   "metadata": {},
   "outputs": [
    {
     "data": {
      "text/plain": [
       "'a'"
      ]
     },
     "execution_count": 12,
     "metadata": {},
     "output_type": "execute_result"
    }
   ],
   "source": [
    "re.match('a', 'abc').group()"
   ]
  },
  {
   "cell_type": "markdown",
   "id": "6b8bf652",
   "metadata": {},
   "source": [
    "# start()  &  end() - location of the match"
   ]
  },
  {
   "cell_type": "code",
   "execution_count": 13,
   "id": "2cca52fb",
   "metadata": {},
   "outputs": [
    {
     "data": {
      "text/plain": [
       "5"
      ]
     },
     "execution_count": 13,
     "metadata": {},
     "output_type": "execute_result"
    }
   ],
   "source": [
    "re.search('c', 'abdf\\nc').start()"
   ]
  },
  {
   "cell_type": "code",
   "execution_count": 14,
   "id": "1cf1642a",
   "metadata": {},
   "outputs": [
    {
     "data": {
      "text/plain": [
       "6"
      ]
     },
     "execution_count": 14,
     "metadata": {},
     "output_type": "execute_result"
    }
   ],
   "source": [
    "re.search('c', 'abdf\\nc').end()"
   ]
  },
  {
   "cell_type": "markdown",
   "id": "d5ed1918",
   "metadata": {},
   "source": [
    "# | OR - Literal matching"
   ]
  },
  {
   "cell_type": "code",
   "execution_count": 16,
   "id": "bc2f1bdc",
   "metadata": {},
   "outputs": [],
   "source": [
    "re.search('na', 'abcdefnc acb')   # no result"
   ]
  },
  {
   "cell_type": "code",
   "execution_count": 17,
   "id": "407da935",
   "metadata": {},
   "outputs": [
    {
     "data": {
      "text/plain": [
       "<re.Match object; span=(0, 1), match='a'>"
      ]
     },
     "execution_count": 17,
     "metadata": {},
     "output_type": "execute_result"
    }
   ],
   "source": [
    "re.search('n|a', 'abcdfght')"
   ]
  },
  {
   "cell_type": "code",
   "execution_count": 18,
   "id": "02799685",
   "metadata": {},
   "outputs": [
    {
     "data": {
      "text/plain": [
       "<re.Match object; span=(3, 4), match='f'>"
      ]
     },
     "execution_count": 18,
     "metadata": {},
     "output_type": "execute_result"
    }
   ],
   "source": [
    "re.search('c|f', 'abdfc')"
   ]
  },
  {
   "cell_type": "markdown",
   "id": "ba59f7b7",
   "metadata": {},
   "source": [
    "# re.findall"
   ]
  },
  {
   "cell_type": "code",
   "execution_count": 19,
   "id": "322541e9",
   "metadata": {},
   "outputs": [
    {
     "data": {
      "text/plain": [
       "['a', 'a', 'a']"
      ]
     },
     "execution_count": 19,
     "metadata": {},
     "output_type": "execute_result"
    }
   ],
   "source": [
    "re.findall('a', 'abcabcabc')"
   ]
  },
  {
   "cell_type": "code",
   "execution_count": 21,
   "id": "d0bfa264",
   "metadata": {},
   "outputs": [
    {
     "data": {
      "text/plain": [
       "'a'"
      ]
     },
     "execution_count": 21,
     "metadata": {},
     "output_type": "execute_result"
    }
   ],
   "source": [
    "re.search('a', 'abcabcabc').group()"
   ]
  },
  {
   "cell_type": "code",
   "execution_count": null,
   "id": "511ffe3e",
   "metadata": {},
   "outputs": [],
   "source": []
  }
 ],
 "metadata": {
  "kernelspec": {
   "display_name": "Python 3 (ipykernel)",
   "language": "python",
   "name": "python3"
  },
  "language_info": {
   "codemirror_mode": {
    "name": "ipython",
    "version": 3
   },
   "file_extension": ".py",
   "mimetype": "text/x-python",
   "name": "python",
   "nbconvert_exporter": "python",
   "pygments_lexer": "ipython3",
   "version": "3.9.12"
  }
 },
 "nbformat": 4,
 "nbformat_minor": 5
}
