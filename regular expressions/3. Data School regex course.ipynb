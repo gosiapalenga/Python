{
 "cells": [
  {
   "cell_type": "code",
   "execution_count": 1,
   "id": "186a9d5c",
   "metadata": {},
   "outputs": [],
   "source": [
    "import re\n",
    "import pandas as pd\n",
    "import numpy as np"
   ]
  },
  {
   "cell_type": "code",
   "execution_count": 2,
   "id": "cc691368",
   "metadata": {},
   "outputs": [],
   "source": [
    "s = 'My 1st string'"
   ]
  },
  {
   "cell_type": "code",
   "execution_count": 3,
   "id": "101d51a8",
   "metadata": {},
   "outputs": [],
   "source": [
    "# re.search picks up one occurence of what we are looking for. One match per line which uses a group() method \n",
    "# Good for finding missing values."
   ]
  },
  {
   "cell_type": "code",
   "execution_count": 4,
   "id": "dfbe37bf",
   "metadata": {},
   "outputs": [
    {
     "data": {
      "text/plain": [
       "'1st'"
      ]
     },
     "execution_count": 4,
     "metadata": {},
     "output_type": "execute_result"
    }
   ],
   "source": [
    "re.search(r'..t', s).group()  # r means raw string, group() method returns matches"
   ]
  },
  {
   "cell_type": "code",
   "execution_count": 5,
   "id": "b1efc0b8",
   "metadata": {},
   "outputs": [
    {
     "ename": "AttributeError",
     "evalue": "'NoneType' object has no attribute 'group'",
     "output_type": "error",
     "traceback": [
      "\u001b[1;31m---------------------------------------------------------------------------\u001b[0m",
      "\u001b[1;31mAttributeError\u001b[0m                            Traceback (most recent call last)",
      "Cell \u001b[1;32mIn[5], line 1\u001b[0m\n\u001b[1;32m----> 1\u001b[0m re\u001b[38;5;241m.\u001b[39msearch(\u001b[38;5;124mr\u001b[39m\u001b[38;5;124m'\u001b[39m\u001b[38;5;124msti\u001b[39m\u001b[38;5;124m'\u001b[39m, s)\u001b[38;5;241m.\u001b[39mgroup()\n",
      "\u001b[1;31mAttributeError\u001b[0m: 'NoneType' object has no attribute 'group'"
     ]
    }
   ],
   "source": [
    "re.search(r'sti', s).group() # when there is no match, we get an error"
   ]
  },
  {
   "cell_type": "code",
   "execution_count": 5,
   "id": "bbff9d2d",
   "metadata": {},
   "outputs": [
    {
     "name": "stdout",
     "output_type": "stream",
     "text": [
      "No match\n"
     ]
    }
   ],
   "source": [
    "match = re.search(r'sti', s)\n",
    "if match:\n",
    "    print(match.group())\n",
    "else:\n",
    "    print(\"No match\")"
   ]
  },
  {
   "cell_type": "code",
   "execution_count": 18,
   "id": "e4ddcfc7",
   "metadata": {},
   "outputs": [],
   "source": [
    "# read data into a list. Each line is a list element.\n",
    "with open('C:/Users/go27s/OneDrive/Documents/regex_course/regex-course/data/homicides.txt') as f:\n",
    "    data= [row for row in f]   # list comprehension, read every line into a list's elements"
   ]
  },
  {
   "cell_type": "code",
   "execution_count": 254,
   "id": "4f6a6769",
   "metadata": {},
   "outputs": [
    {
     "data": {
      "text/plain": [
       "1250"
      ]
     },
     "execution_count": 254,
     "metadata": {},
     "output_type": "execute_result"
    }
   ],
   "source": [
    "# check number of rows\n",
    "len(data)"
   ]
  },
  {
   "cell_type": "code",
   "execution_count": 19,
   "id": "ed57e6a1",
   "metadata": {},
   "outputs": [
    {
     "data": {
      "text/plain": [
       "list"
      ]
     },
     "execution_count": 19,
     "metadata": {},
     "output_type": "execute_result"
    }
   ],
   "source": [
    "type(data)"
   ]
  },
  {
   "cell_type": "code",
   "execution_count": 20,
   "id": "867d69dd",
   "metadata": {},
   "outputs": [
    {
     "data": {
      "text/plain": [
       "['39.311024, -76.674227, iconHomicideShooting, \\'p2\\', \\'<dl><dt>Leon Nelson</dt><dd class=\"address\">3400 Clifton Ave.<br />Baltimore, MD 21216</dd><dd>black male, 17 years old</dd><dd>Found on January 1, 2007</dd><dd>Victim died at Shock Trauma</dd><dd>Cause: shooting</dd></dl>\\'\\n',\n",
       " '39.312641, -76.698948, iconHomicideShooting, \\'p3\\', \\'<dl><dt>Eddie Golf</dt><dd class=\"address\">4900 Challedon Road<br />Baltimore, MD 21207</dd><dd>black male, 26 years old</dd><dd>Found on January 2, 2007</dd><dd>Victim died at scene</dd><dd>Cause: shooting</dd></dl>\\'\\n',\n",
       " '39.309781, -76.649882, iconHomicideBluntForce, \\'p4\\', \\'<dl><dt>Nelsene Burnette</dt><dd class=\"address\">2000 West North Ave<br />Baltimore, MD 21217</dd><dd>black female, 44 years old</dd><dd>Found on January 2, 2007</dd><dd>Victim died at scene</dd><dd>Cause: blunt force</dd></dl>\\'\\n',\n",
       " '39.363925, -76.598772, iconHomicideAsphyxiation, \\'p5\\', \\'<dl><dt>Thomas MacKenney</dt><dd class=\"address\">5900 Northwood Drive<br />Baltimore, MD 21212</dd><dd>black male, 21 years old</dd><dd>Found on January 3, 2007</dd><dd>Victim died at scene</dd><dd>Cause: asphyxiation</dd></dl>\\'\\n',\n",
       " '39.238928, -76.602718, iconHomicideBluntForce, \\'p6\\', \\'<dl><dt>Edward Canupp</dt><dd class=\"address\">500 Maude Ave.<br />Baltimore, MD 21225</dd><dd>white male, 61 years old</dd><dd>Found on January 5, 2007</dd><dd>Victim died at scene</dd><dd>Cause: blunt force</dd></dl>\\'\\n']"
      ]
     },
     "execution_count": 20,
     "metadata": {},
     "output_type": "execute_result"
    }
   ],
   "source": [
    "data[0:5]"
   ]
  },
  {
   "cell_type": "code",
   "execution_count": 9,
   "id": "eac4dd70",
   "metadata": {},
   "outputs": [],
   "source": [
    "age = []\n",
    "for row in data:\n",
    "    match = re.search(r'\\d+ years? old', row)\n",
    "    if match:\n",
    "        age.append(match.group())\n",
    "    else:\n",
    "        age.append('0 years old')"
   ]
  },
  {
   "cell_type": "code",
   "execution_count": 10,
   "id": "5540b744",
   "metadata": {},
   "outputs": [
    {
     "name": "stdout",
     "output_type": "stream",
     "text": [
      "['17 years old', '26 years old', '44 years old', '21 years old', '61 years old', '46 years old', '27 years old', '21 years old', '16 years old', '21 years old']\n"
     ]
    }
   ],
   "source": [
    "print(age[0:10])"
   ]
  },
  {
   "cell_type": "code",
   "execution_count": 11,
   "id": "360f6a2d",
   "metadata": {},
   "outputs": [],
   "source": [
    "age_numbers = []\n",
    "for element in age:\n",
    "    match = re.search(r'\\d+', element)\n",
    "    if match:\n",
    "        age_numbers.append(match.group())\n",
    "    else:\n",
    "        print('Missing data')"
   ]
  },
  {
   "cell_type": "code",
   "execution_count": 12,
   "id": "606c52ee",
   "metadata": {},
   "outputs": [
    {
     "name": "stdout",
     "output_type": "stream",
     "text": [
      "['17', '26', '44', '21', '61', '46', '27', '21', '16', '21', '34', '25', '23', '30', '26', '36', '21', '27', '30', '19']\n"
     ]
    }
   ],
   "source": [
    "print(age_numbers[0:20])"
   ]
  },
  {
   "cell_type": "code",
   "execution_count": 13,
   "id": "65b52733",
   "metadata": {},
   "outputs": [],
   "source": [
    "age_numbers.remove('0')"
   ]
  },
  {
   "cell_type": "code",
   "execution_count": 14,
   "id": "53f28e7d",
   "metadata": {},
   "outputs": [],
   "source": [
    "# convert string elements in a list to int\n",
    "ages = [eval(i) for i in age_numbers]"
   ]
  },
  {
   "cell_type": "code",
   "execution_count": 15,
   "id": "5da6faed",
   "metadata": {},
   "outputs": [
    {
     "data": {
      "text/plain": [
       "29.67974379503603"
      ]
     },
     "execution_count": 15,
     "metadata": {},
     "output_type": "execute_result"
    }
   ],
   "source": [
    "average = sum(ages) / len(ages)\n",
    "average"
   ]
  },
  {
   "cell_type": "markdown",
   "id": "08d6a0ec",
   "metadata": {},
   "source": [
    "# Parenthesis\n",
    "They create match groups"
   ]
  },
  {
   "cell_type": "code",
   "execution_count": 16,
   "id": "3e162b6a",
   "metadata": {},
   "outputs": [
    {
     "data": {
      "text/plain": [
       "'My 1st string'"
      ]
     },
     "execution_count": 16,
     "metadata": {},
     "output_type": "execute_result"
    }
   ],
   "source": [
    "s"
   ]
  },
  {
   "cell_type": "code",
   "execution_count": 18,
   "id": "402b5e99",
   "metadata": {},
   "outputs": [
    {
     "data": {
      "text/plain": [
       "'1st'"
      ]
     },
     "execution_count": 18,
     "metadata": {},
     "output_type": "execute_result"
    }
   ],
   "source": [
    "re.search(r'\\d..', s).group()"
   ]
  },
  {
   "cell_type": "code",
   "execution_count": 21,
   "id": "34adb746",
   "metadata": {},
   "outputs": [
    {
     "data": {
      "text/plain": [
       "'1st'"
      ]
     },
     "execution_count": 21,
     "metadata": {},
     "output_type": "execute_result"
    }
   ],
   "source": [
    "# create match groups using ()\n",
    "re.search(r'(\\d)(..)', s).group()"
   ]
  },
  {
   "cell_type": "code",
   "execution_count": 22,
   "id": "85fc8f38",
   "metadata": {},
   "outputs": [
    {
     "data": {
      "text/plain": [
       "'1'"
      ]
     },
     "execution_count": 22,
     "metadata": {},
     "output_type": "execute_result"
    }
   ],
   "source": [
    "# create match groups using () and access the first group\n",
    "re.search(r'(\\d)(..)', s).group(1)"
   ]
  },
  {
   "cell_type": "code",
   "execution_count": 26,
   "id": "c9391bf0",
   "metadata": {},
   "outputs": [],
   "source": [
    "age_nums = []\n",
    "for row in data:\n",
    "    match = re.search(r'(\\d+) years? old', row)\n",
    "    if match:\n",
    "        age_nums.append(int(match.group(1)))\n",
    "    else:\n",
    "        age_nums.append(0)"
   ]
  },
  {
   "cell_type": "code",
   "execution_count": 27,
   "id": "047da86b",
   "metadata": {},
   "outputs": [
    {
     "data": {
      "text/plain": [
       "[26, 44, 21, 61, 46, 27, 21, 16, 21]"
      ]
     },
     "execution_count": 27,
     "metadata": {},
     "output_type": "execute_result"
    }
   ],
   "source": [
    "age_nums[1:10]"
   ]
  },
  {
   "cell_type": "markdown",
   "id": "9612328a",
   "metadata": {},
   "source": [
    "# Character classes using []"
   ]
  },
  {
   "cell_type": "code",
   "execution_count": null,
   "id": "40120a4f",
   "metadata": {},
   "outputs": [],
   "source": [
    "# [bf-] means b or f or dash\n",
    "# if a period '.' is in the character class, it means 'period' NOT 'any character'!\n",
    "# to match period '.' outside character class --> escape it --> \\.  It's iused for any special characters"
   ]
  },
  {
   "cell_type": "code",
   "execution_count": null,
   "id": "99c04537",
   "metadata": {},
   "outputs": [],
   "source": [
    "# gosia-palenga@gmail.com --> [\\w.-]+@[\\w.-]+"
   ]
  },
  {
   "cell_type": "code",
   "execution_count": 28,
   "id": "91a7ca13",
   "metadata": {},
   "outputs": [],
   "source": [
    "# Cause: blunt force  --> [\\w\\s]+"
   ]
  },
  {
   "cell_type": "markdown",
   "id": "b892341c",
   "metadata": {},
   "source": [
    "# Find multiple matches"
   ]
  },
  {
   "cell_type": "code",
   "execution_count": 30,
   "id": "c8171833",
   "metadata": {},
   "outputs": [
    {
     "data": {
      "text/plain": [
       "94626"
      ]
     },
     "execution_count": 30,
     "metadata": {},
     "output_type": "execute_result"
    }
   ],
   "source": [
    "with open ('C:/Users/go27s/OneDrive/Documents/regex_course/regex-course/data/mailbox.txt') as f:\n",
    "    messages = f.read()   # read function reads the whole file as a single string\n",
    "    \n",
    "len(messages)  # number of characters in the string"
   ]
  },
  {
   "cell_type": "code",
   "execution_count": 32,
   "id": "ac6fd5ec",
   "metadata": {},
   "outputs": [
    {
     "data": {
      "text/plain": [
       "str"
      ]
     },
     "execution_count": 32,
     "metadata": {},
     "output_type": "execute_result"
    }
   ],
   "source": [
    "type(messages)"
   ]
  },
  {
   "cell_type": "code",
   "execution_count": 35,
   "id": "63ec337e",
   "metadata": {},
   "outputs": [
    {
     "name": "stdout",
     "output_type": "stream",
     "text": [
      "From stephen.marquard@uct.ac.za Sat Jan  5 09:14:16 2008\n",
      "Return-Path: <postmaster@collab.sakaiproject.org>\n",
      "Received: from murder (mail.umich.edu [141.211.14.90])\n",
      "\t by frankenstein.mail.umich.edu (Cyrus v2.3.8) with LMTPA;\n",
      "\t Sat, 05 Jan 2008 09:14:16 -0500\n",
      "X-Sieve: CMU Sieve 2.3\n",
      "Received: from murder ([unix socket])\n",
      "\t by mail.umich.edu (Cyrus v2.2.12) with LMTPA;\n",
      "\t Sat, 05 Jan 2008 09:14:16 -0500\n",
      "Received: from holes.mr.itd.umich.edu (holes.mr.itd.umich.edu [141.211.14.79])\n",
      "\tby flawless.mail.umic\n"
     ]
    }
   ],
   "source": [
    "print(messages[0:500])"
   ]
  },
  {
   "cell_type": "code",
   "execution_count": null,
   "id": "9fa407e8",
   "metadata": {},
   "outputs": [],
   "source": [
    "# find.all is good with strings. Read the file into a string (read() function) and use findall to get all the email addresses \n",
    "# from a string. There might be no email in each line or there can be two or more emails in one line.\n",
    "# findall returns a list of all matching strings"
   ]
  },
  {
   "cell_type": "code",
   "execution_count": 43,
   "id": "1222f9d9",
   "metadata": {},
   "outputs": [
    {
     "data": {
      "text/plain": [
       "['stephen.marquard@uct.ac.za',\n",
       " '<postmaster@collab.sakaiproject.org',\n",
       " '<200801051412.m05ECIaH010327@nakamura.uits.iupui.edu',\n",
       " '<source@collab.sakaiproject.org',\n",
       " '<source@collab.sakaiproject.org',\n",
       " '<source@collab.sakaiproject.org',\n",
       " 'source@collab.sakaiproject.org',\n",
       " 'stephen.marquard@uct.ac.za',\n",
       " 'source@collab.sakaiproject.org',\n",
       " 'stephen.marquard@uct.ac.za',\n",
       " 'stephen.marquard@uct.ac.za',\n",
       " 'louis@media.berkeley.edu',\n",
       " '<postmaster@collab.sakaiproject.org',\n",
       " '<200801042308.m04N8v6O008125@nakamura.uits.iupui.edu',\n",
       " '<source@collab.sakaiproject.org',\n",
       " '<source@collab.sakaiproject.org',\n",
       " '<source@collab.sakaiproject.org',\n",
       " 'source@collab.sakaiproject.org',\n",
       " 'louis@media.berkeley.edu',\n",
       " 'source@collab.sakaiproject.org',\n",
       " 'louis@media.berkeley.edu',\n",
       " 'louis@media.berkeley.edu',\n",
       " 'zqian@umich.edu',\n",
       " '<postmaster@collab.sakaiproject.org',\n",
       " '<200801042109.m04L92hb007923@nakamura.uits.iupui.edu',\n",
       " '<source@collab.sakaiproject.org',\n",
       " '<source@collab.sakaiproject.org',\n",
       " '<source@collab.sakaiproject.org',\n",
       " 'source@collab.sakaiproject.org',\n",
       " 'zqian@umich.edu',\n",
       " 'source@collab.sakaiproject.org',\n",
       " 'zqian@umich.edu',\n",
       " 'zqian@umich.edu',\n",
       " 'rjlowe@iupui.edu',\n",
       " '<postmaster@collab.sakaiproject.org',\n",
       " '<200801042044.m04Kiem3007881@nakamura.uits.iupui.edu',\n",
       " '<source@collab.sakaiproject.org',\n",
       " '<source@collab.sakaiproject.org',\n",
       " '<source@collab.sakaiproject.org',\n",
       " 'source@collab.sakaiproject.org',\n",
       " 'rjlowe@iupui.edu',\n",
       " 'source@collab.sakaiproject.org',\n",
       " 'rjlowe@iupui.edu',\n",
       " 'rjlowe@iupui.edu',\n",
       " 'zqian@umich.edu',\n",
       " '<postmaster@collab.sakaiproject.org',\n",
       " '<200801042001.m04K1cO0007738@nakamura.uits.iupui.edu',\n",
       " '<source@collab.sakaiproject.org',\n",
       " '<source@collab.sakaiproject.org',\n",
       " '<source@collab.sakaiproject.org',\n",
       " 'source@collab.sakaiproject.org',\n",
       " 'zqian@umich.edu',\n",
       " 'source@collab.sakaiproject.org',\n",
       " 'zqian@umich.edu',\n",
       " 'zqian@umich.edu',\n",
       " 'zqian@umich.edu',\n",
       " 'rjlowe@iupui.edu',\n",
       " '<postmaster@collab.sakaiproject.org',\n",
       " '<200801041948.m04JmdwO007705@nakamura.uits.iupui.edu',\n",
       " '<source@collab.sakaiproject.org',\n",
       " '<source@collab.sakaiproject.org',\n",
       " '<source@collab.sakaiproject.org',\n",
       " 'source@collab.sakaiproject.org',\n",
       " 'rjlowe@iupui.edu',\n",
       " 'source@collab.sakaiproject.org',\n",
       " 'rjlowe@iupui.edu',\n",
       " 'rjlowe@iupui.edu',\n",
       " 'cwen@iupui.edu',\n",
       " '<postmaster@collab.sakaiproject.org',\n",
       " '<200801041635.m04GZQGZ007313@nakamura.uits.iupui.edu',\n",
       " '<source@collab.sakaiproject.org',\n",
       " '<source@collab.sakaiproject.org',\n",
       " '<source@collab.sakaiproject.org',\n",
       " 'source@collab.sakaiproject.org',\n",
       " 'cwen@iupui.edu',\n",
       " 'source@collab.sakaiproject.org',\n",
       " 'cwen@iupui.edu',\n",
       " 'cwen@iupui.edu',\n",
       " 'hu2@iupui.edu',\n",
       " 'cwen@iupui.edu',\n",
       " '<postmaster@collab.sakaiproject.org',\n",
       " '<200801041633.m04GX6eG007292@nakamura.uits.iupui.edu',\n",
       " '<source@collab.sakaiproject.org',\n",
       " '<source@collab.sakaiproject.org',\n",
       " '<source@collab.sakaiproject.org',\n",
       " 'source@collab.sakaiproject.org',\n",
       " 'cwen@iupui.edu',\n",
       " 'source@collab.sakaiproject.org',\n",
       " 'cwen@iupui.edu',\n",
       " 'cwen@iupui.edu',\n",
       " 'hu2@iupui.edu',\n",
       " 'gsilver@umich.edu',\n",
       " '<postmaster@collab.sakaiproject.org',\n",
       " '<200801041611.m04GB1Lb007221@nakamura.uits.iupui.edu',\n",
       " '<source@collab.sakaiproject.org',\n",
       " '<source@collab.sakaiproject.org',\n",
       " '<source@collab.sakaiproject.org',\n",
       " 'source@collab.sakaiproject.org',\n",
       " 'gsilver@umich.edu',\n",
       " 'source@collab.sakaiproject.org',\n",
       " 'gsilver@umich.edu',\n",
       " 'gsilver@umich.edu',\n",
       " 'gsilver@umich.edu',\n",
       " '<postmaster@collab.sakaiproject.org',\n",
       " '<200801041610.m04GA5KP007209@nakamura.uits.iupui.edu',\n",
       " '<source@collab.sakaiproject.org',\n",
       " '<source@collab.sakaiproject.org',\n",
       " '<source@collab.sakaiproject.org',\n",
       " 'source@collab.sakaiproject.org',\n",
       " 'gsilver@umich.edu',\n",
       " 'source@collab.sakaiproject.org',\n",
       " 'gsilver@umich.edu',\n",
       " 'gsilver@umich.edu',\n",
       " 'zqian@umich.edu',\n",
       " '<postmaster@collab.sakaiproject.org',\n",
       " '<200801041609.m04G9EuX007197@nakamura.uits.iupui.edu',\n",
       " '<source@collab.sakaiproject.org',\n",
       " '<source@collab.sakaiproject.org',\n",
       " '<source@collab.sakaiproject.org',\n",
       " 'source@collab.sakaiproject.org',\n",
       " 'zqian@umich.edu',\n",
       " 'source@collab.sakaiproject.org',\n",
       " 'zqian@umich.edu',\n",
       " 'zqian@umich.edu',\n",
       " 'gsilver@umich.edu',\n",
       " '<postmaster@collab.sakaiproject.org',\n",
       " '<200801041608.m04G8d7w007184@nakamura.uits.iupui.edu',\n",
       " '<source@collab.sakaiproject.org',\n",
       " '<source@collab.sakaiproject.org',\n",
       " '<source@collab.sakaiproject.org',\n",
       " 'source@collab.sakaiproject.org',\n",
       " 'gsilver@umich.edu',\n",
       " 'source@collab.sakaiproject.org',\n",
       " 'gsilver@umich.edu',\n",
       " 'gsilver@umich.edu',\n",
       " 'wagnermr@iupui.edu',\n",
       " '<postmaster@collab.sakaiproject.org',\n",
       " '<200801041537.m04Fb6Ci007092@nakamura.uits.iupui.edu',\n",
       " '<source@collab.sakaiproject.org',\n",
       " '<source@collab.sakaiproject.org',\n",
       " '<source@collab.sakaiproject.org',\n",
       " 'source@collab.sakaiproject.org',\n",
       " 'wagnermr@iupui.edu',\n",
       " 'source@collab.sakaiproject.org',\n",
       " 'wagnermr@iupui.edu',\n",
       " 'wagnermr@iupui.edu',\n",
       " 'zqian@umich.edu',\n",
       " '<postmaster@collab.sakaiproject.org',\n",
       " '<200801041515.m04FFv42007050@nakamura.uits.iupui.edu',\n",
       " '<source@collab.sakaiproject.org',\n",
       " '<source@collab.sakaiproject.org',\n",
       " '<source@collab.sakaiproject.org',\n",
       " 'source@collab.sakaiproject.org',\n",
       " 'zqian@umich.edu',\n",
       " 'source@collab.sakaiproject.org',\n",
       " 'zqian@umich.edu',\n",
       " 'zqian@umich.edu',\n",
       " 'antranig@caret.cam.ac.uk',\n",
       " '<postmaster@collab.sakaiproject.org',\n",
       " '<200801041502.m04F21Jo007031@nakamura.uits.iupui.edu',\n",
       " '<source@collab.sakaiproject.org',\n",
       " '<source@collab.sakaiproject.org',\n",
       " '<source@collab.sakaiproject.org',\n",
       " 'source@collab.sakaiproject.org',\n",
       " 'antranig@caret.cam.ac.uk',\n",
       " 'source@collab.sakaiproject.org',\n",
       " 'antranig@caret.cam.ac.uk',\n",
       " 'antranig@caret.cam.ac.uk',\n",
       " 'gopal.ramasammycook@gmail.com',\n",
       " '<postmaster@collab.sakaiproject.org',\n",
       " '<200801041403.m04E3psW006926@nakamura.uits.iupui.edu',\n",
       " '<source@collab.sakaiproject.org',\n",
       " '<source@collab.sakaiproject.org',\n",
       " '<source@collab.sakaiproject.org',\n",
       " 'source@collab.sakaiproject.org',\n",
       " 'gopal.ramasammycook@gmail.com',\n",
       " 'source@collab.sakaiproject.org',\n",
       " 'gopal.ramasammycook@gmail.com',\n",
       " 'gopal.ramasammycook@gmail.com',\n",
       " 'david.horwitz@uct.ac.za',\n",
       " '<postmaster@collab.sakaiproject.org',\n",
       " '<200801041200.m04C0gfK006793@nakamura.uits.iupui.edu',\n",
       " '<source@collab.sakaiproject.org',\n",
       " '<source@collab.sakaiproject.org',\n",
       " '<source@collab.sakaiproject.org',\n",
       " 'source@collab.sakaiproject.org',\n",
       " 'david.horwitz@uct.ac.za',\n",
       " 'source@collab.sakaiproject.org',\n",
       " 'david.horwitz@uct.ac.za',\n",
       " 'david.horwitz@uct.ac.za',\n",
       " 'david.horwitz@uct.ac.za',\n",
       " 'david.horwitz@uct.ac.za',\n",
       " '<postmaster@collab.sakaiproject.org',\n",
       " '<200801041106.m04B6lK3006677@nakamura.uits.iupui.edu',\n",
       " '<source@collab.sakaiproject.org',\n",
       " '<source@collab.sakaiproject.org',\n",
       " '<source@collab.sakaiproject.org',\n",
       " 'source@collab.sakaiproject.org',\n",
       " 'david.horwitz@uct.ac.za',\n",
       " 'source@collab.sakaiproject.org',\n",
       " 'david.horwitz@uct.ac.za',\n",
       " 'david.horwitz@uct.ac.za',\n",
       " 'david.horwitz@uct.ac.za',\n",
       " '<postmaster@collab.sakaiproject.org',\n",
       " '<200801040947.m049lUxo006517@nakamura.uits.iupui.edu',\n",
       " '<source@collab.sakaiproject.org',\n",
       " '<source@collab.sakaiproject.org',\n",
       " '<source@collab.sakaiproject.org',\n",
       " 'source@collab.sakaiproject.org',\n",
       " 'david.horwitz@uct.ac.za',\n",
       " 'source@collab.sakaiproject.org',\n",
       " 'david.horwitz@uct.ac.za',\n",
       " 'david.horwitz@uct.ac.za',\n",
       " 'josrodri@iupui.edu',\n",
       " 'david.horwitz@uct.ac.za',\n",
       " '<postmaster@collab.sakaiproject.org',\n",
       " '<200801040932.m049W2i5006493@nakamura.uits.iupui.edu',\n",
       " '<source@collab.sakaiproject.org',\n",
       " '<source@collab.sakaiproject.org',\n",
       " '<source@collab.sakaiproject.org',\n",
       " 'source@collab.sakaiproject.org',\n",
       " 'david.horwitz@uct.ac.za',\n",
       " 'source@collab.sakaiproject.org',\n",
       " 'david.horwitz@uct.ac.za',\n",
       " 'david.horwitz@uct.ac.za',\n",
       " 'josrodri@iupui.edu',\n",
       " 'stephen.marquard@uct.ac.za',\n",
       " '<postmaster@collab.sakaiproject.org',\n",
       " '<200801040905.m0495rWB006420@nakamura.uits.iupui.edu',\n",
       " '<source@collab.sakaiproject.org',\n",
       " '<source@collab.sakaiproject.org',\n",
       " '<source@collab.sakaiproject.org',\n",
       " 'source@collab.sakaiproject.org',\n",
       " 'stephen.marquard@uct.ac.za',\n",
       " 'source@collab.sakaiproject.org',\n",
       " 'stephen.marquard@uct.ac.za',\n",
       " 'stephen.marquard@uct.ac.za',\n",
       " 'louis@media.berkeley.edu',\n",
       " '<postmaster@collab.sakaiproject.org',\n",
       " '<200801040023.m040NpCc005473@nakamura.uits.iupui.edu',\n",
       " '<source@collab.sakaiproject.org',\n",
       " '<source@collab.sakaiproject.org',\n",
       " '<source@collab.sakaiproject.org',\n",
       " 'source@collab.sakaiproject.org',\n",
       " 'louis@media.berkeley.edu',\n",
       " 'source@collab.sakaiproject.org',\n",
       " 'louis@media.berkeley.edu',\n",
       " 'louis@media.berkeley.edu',\n",
       " 'louis@media.berkeley.edu',\n",
       " '<postmaster@collab.sakaiproject.org',\n",
       " '<200801032216.m03MGhDa005292@nakamura.uits.iupui.edu',\n",
       " '<source@collab.sakaiproject.org',\n",
       " '<source@collab.sakaiproject.org',\n",
       " '<source@collab.sakaiproject.org',\n",
       " 'source@collab.sakaiproject.org',\n",
       " 'louis@media.berkeley.edu',\n",
       " 'source@collab.sakaiproject.org',\n",
       " 'louis@media.berkeley.edu',\n",
       " 'louis@media.berkeley.edu',\n",
       " 'ray@media.berkeley.edu',\n",
       " '<postmaster@collab.sakaiproject.org',\n",
       " '<200801032205.m03M5Ea7005273@nakamura.uits.iupui.edu',\n",
       " '<source@collab.sakaiproject.org',\n",
       " '<source@collab.sakaiproject.org',\n",
       " '<source@collab.sakaiproject.org',\n",
       " 'source@collab.sakaiproject.org',\n",
       " 'ray@media.berkeley.edu',\n",
       " 'source@collab.sakaiproject.org',\n",
       " 'ray@media.berkeley.edu',\n",
       " 'ray@media.berkeley.edu',\n",
       " 'cwen@iupui.edu',\n",
       " '<postmaster@collab.sakaiproject.org',\n",
       " '<200801032133.m03LX3gG005191@nakamura.uits.iupui.edu',\n",
       " '<source@collab.sakaiproject.org',\n",
       " '<source@collab.sakaiproject.org',\n",
       " '<source@collab.sakaiproject.org',\n",
       " 'source@collab.sakaiproject.org',\n",
       " 'cwen@iupui.edu',\n",
       " 'source@collab.sakaiproject.org',\n",
       " 'cwen@iupui.edu',\n",
       " 'cwen@iupui.edu',\n",
       " 'cwen@iupui.edu',\n",
       " '<postmaster@collab.sakaiproject.org',\n",
       " '<200801032127.m03LRUqH005177@nakamura.uits.iupui.edu',\n",
       " '<source@collab.sakaiproject.org',\n",
       " '<source@collab.sakaiproject.org',\n",
       " '<source@collab.sakaiproject.org',\n",
       " 'source@collab.sakaiproject.org',\n",
       " 'cwen@iupui.edu',\n",
       " 'source@collab.sakaiproject.org',\n",
       " 'cwen@iupui.edu',\n",
       " 'cwen@iupui.edu',\n",
       " 'wagnermr@iupui.edu',\n",
       " 'cwen@iupui.edu',\n",
       " '<postmaster@collab.sakaiproject.org',\n",
       " '<200801032122.m03LMFo4005148@nakamura.uits.iupui.edu',\n",
       " '<source@collab.sakaiproject.org',\n",
       " '<source@collab.sakaiproject.org',\n",
       " '<source@collab.sakaiproject.org',\n",
       " 'source@collab.sakaiproject.org',\n",
       " 'cwen@iupui.edu',\n",
       " 'source@collab.sakaiproject.org',\n",
       " 'cwen@iupui.edu',\n",
       " 'cwen@iupui.edu',\n",
       " 'wagnermr@iupui.edu']"
      ]
     },
     "execution_count": 43,
     "metadata": {},
     "output_type": "execute_result"
    }
   ],
   "source": [
    "emails = re.findall(r'[\\w.-_]+@[\\w.-_]+[\\.][\\w]+', messages)\n",
    "emails"
   ]
  },
  {
   "cell_type": "code",
   "execution_count": 44,
   "id": "e94b43da",
   "metadata": {},
   "outputs": [
    {
     "data": {
      "text/plain": [
       "list"
      ]
     },
     "execution_count": 44,
     "metadata": {},
     "output_type": "execute_result"
    }
   ],
   "source": [
    "type(emails)"
   ]
  },
  {
   "cell_type": "code",
   "execution_count": 47,
   "id": "8c23e26d",
   "metadata": {},
   "outputs": [],
   "source": [
    "emails = re.findall(r'([\\w.-_]+)@[\\w.-_]+[\\.][\\w]+', messages)"
   ]
  },
  {
   "cell_type": "code",
   "execution_count": 48,
   "id": "2c9246b1",
   "metadata": {},
   "outputs": [
    {
     "data": {
      "text/plain": [
       "['stephen.marquard',\n",
       " '<postmaster',\n",
       " '<200801051412.m05ECIaH010327',\n",
       " '<source',\n",
       " '<source',\n",
       " '<source',\n",
       " 'source',\n",
       " 'stephen.marquard',\n",
       " 'source',\n",
       " 'stephen.marquard']"
      ]
     },
     "execution_count": 48,
     "metadata": {},
     "output_type": "execute_result"
    }
   ],
   "source": [
    "emails[0:10]  # findall with one match group returns a list of strings"
   ]
  },
  {
   "cell_type": "code",
   "execution_count": 49,
   "id": "0f8d42e6",
   "metadata": {},
   "outputs": [],
   "source": [
    "emails = re.findall(r'([\\w.-_]+)@([\\w.-_]+)[\\.][\\w]+', messages)"
   ]
  },
  {
   "cell_type": "code",
   "execution_count": 51,
   "id": "df18a6a4",
   "metadata": {},
   "outputs": [
    {
     "data": {
      "text/plain": [
       "[('stephen.marquard', 'uct.ac'),\n",
       " ('<postmaster', 'collab.sakaiproject'),\n",
       " ('<200801051412.m05ECIaH010327', 'nakamura.uits.iupui'),\n",
       " ('<source', 'collab.sakaiproject'),\n",
       " ('<source', 'collab.sakaiproject')]"
      ]
     },
     "execution_count": 51,
     "metadata": {},
     "output_type": "execute_result"
    }
   ],
   "source": [
    "# findall with more match groups () returns a tuple\n",
    "# to convert a tuple to a DataFrame use list() --> pd.DataFrame(list(email))\n",
    "emails[0:5] "
   ]
  },
  {
   "cell_type": "markdown",
   "id": "5a85c855",
   "metadata": {},
   "source": [
    "# Homework 1 "
   ]
  },
  {
   "cell_type": "code",
   "execution_count": 235,
   "id": "97e979ad",
   "metadata": {},
   "outputs": [],
   "source": [
    "with open ('C:/Users/go27s/OneDrive/Documents/regex_course/regex-course/data/faa.txt') as f:\n",
    "    tower = f.read()"
   ]
  },
  {
   "cell_type": "code",
   "execution_count": 236,
   "id": "fc95c95a",
   "metadata": {},
   "outputs": [
    {
     "name": "stdout",
     "output_type": "stream",
     "text": [
      "FAA Contract Tower Closure List\n",
      "(149 FCTs)\n",
      "3-22-2013\n",
      "LOC\n",
      "ID Facility Name City State\n",
      "DHN DOTHAN RGNL DOTHAN AL\n",
      "TCL TUSCALOOSA RGNL TUSCALOOSA AL\n",
      "FYV DRAKE FIELD FAYETTEVILLE AR\n",
      "TXK TEXARKANA RGNL-WEBB FIELD TEX\n"
     ]
    }
   ],
   "source": [
    "print(tower[0:210])"
   ]
  },
  {
   "cell_type": "markdown",
   "id": "182078e6",
   "metadata": {},
   "source": [
    "Your assignment is to create a list of tuples containing the tower IDs and the states they are located in.\n",
    "\n",
    "Here is the expected output:\n",
    "\n",
    "faa = [('DHN', 'AL'), ('TCL', 'AL'), ..., ('PKB', 'WV')]"
   ]
  },
  {
   "cell_type": "code",
   "execution_count": 243,
   "id": "e161299f",
   "metadata": {},
   "outputs": [
    {
     "data": {
      "text/plain": [
       "[('DHN', 'AL'),\n",
       " ('TCL', 'AL'),\n",
       " ('FYV', 'AR'),\n",
       " ('TXK', 'AR'),\n",
       " ('GEU', 'AZ'),\n",
       " ('GYR', 'AZ'),\n",
       " ('IFP', 'AZ'),\n",
       " ('RYN', 'AZ'),\n",
       " ('FUL', 'CA'),\n",
       " ('MER', 'CA'),\n",
       " ('OXR', 'CA'),\n",
       " ('RAL', 'CA'),\n",
       " ('RNM', 'CA'),\n",
       " ('SAC', 'CA'),\n",
       " ('SDM', 'CA'),\n",
       " ('SNS', 'CA'),\n",
       " ('VCV', 'CA'),\n",
       " ('WHP', 'CA'),\n",
       " ('WJF', 'CA'),\n",
       " ('BDR', 'CT'),\n",
       " ('DXR', 'CT'),\n",
       " ('GON', 'CT'),\n",
       " ('HFD', 'CT'),\n",
       " ('HVN', 'CT'),\n",
       " ('OXC', 'CT'),\n",
       " ('APF', 'FL'),\n",
       " ('BCT', 'FL'),\n",
       " ('EVB', 'FL'),\n",
       " ('FMY', 'FL'),\n",
       " ('HWO', 'FL'),\n",
       " ('LAL', 'FL'),\n",
       " ('LEE', 'FL'),\n",
       " ('OCF', 'FL'),\n",
       " ('OMN', 'FL'),\n",
       " ('PGD', 'FL'),\n",
       " ('SGJ', 'FL'),\n",
       " ('SPG', 'FL'),\n",
       " ('SUA', 'FL'),\n",
       " ('TIX', 'FL'),\n",
       " ('ABY', 'GA'),\n",
       " ('AHN', 'GA'),\n",
       " ('LZU', 'GA'),\n",
       " ('MCN', 'GA'),\n",
       " ('RYY', 'GA'),\n",
       " ('DBQ', 'IA'),\n",
       " ('IDA', 'ID'),\n",
       " ('LWS', 'ID'),\n",
       " ('PIH', 'ID'),\n",
       " ('SUN', 'ID'),\n",
       " ('ALN', 'IL'),\n",
       " ('BMI', 'IL'),\n",
       " ('DEC', 'IL'),\n",
       " ('MDH', 'IL'),\n",
       " ('UGN', 'IL'),\n",
       " ('BAK', 'IN'),\n",
       " ('GYY', 'IN'),\n",
       " ('HUT', 'KS'),\n",
       " ('IXD', 'KS'),\n",
       " ('MHK', 'KS'),\n",
       " ('OJC', 'KS'),\n",
       " ('TOP', 'KS'),\n",
       " ('OWB', 'KY'),\n",
       " ('PAH', 'KY'),\n",
       " ('DTN', 'LA'),\n",
       " ('BVY', 'MA'),\n",
       " ('EWB', 'MA'),\n",
       " ('LWM', 'MA'),\n",
       " ('ORH', 'MA'),\n",
       " ('OWD', 'MA'),\n",
       " ('ESN', 'MD'),\n",
       " ('FDK', 'MD'),\n",
       " ('HGR', 'MD'),\n",
       " ('MTN', 'MD'),\n",
       " ('SBY', 'MD'),\n",
       " ('BTL', 'MI'),\n",
       " ('DET', 'MI'),\n",
       " ('SAW', 'MI'),\n",
       " ('ANE', 'MN'),\n",
       " ('STC', 'MN'),\n",
       " ('BBG', 'MO'),\n",
       " ('COU', 'MO'),\n",
       " ('GLH', 'MS'),\n",
       " ('HKS', 'MS'),\n",
       " ('HSA', 'MS'),\n",
       " ('OLV', 'MS'),\n",
       " ('TUP', 'MS'),\n",
       " ('GPI', 'MT'),\n",
       " ('EWN', 'NC'),\n",
       " ('HKY', 'NC'),\n",
       " ('INT', 'NC'),\n",
       " ('ISO', 'NC'),\n",
       " ('JQF', 'NC'),\n",
       " ('ASH', 'NH'),\n",
       " ('TTN', 'NJ'),\n",
       " ('AEG', 'NM'),\n",
       " ('SAF', 'NM'),\n",
       " ('ITH', 'NY'),\n",
       " ('RME', 'NY'),\n",
       " ('CGF', 'OH'),\n",
       " ('OSU', 'OH'),\n",
       " ('TZR', 'OH'),\n",
       " ('LAW', 'OK'),\n",
       " ('OUN', 'OK'),\n",
       " ('PWA', 'OK'),\n",
       " ('SWO', 'OK'),\n",
       " ('OTH', 'OR'),\n",
       " ('PDT', 'OR'),\n",
       " ('SLE', 'OR'),\n",
       " ('TTD', 'OR'),\n",
       " ('CXY', 'PA'),\n",
       " ('LBE', 'PA'),\n",
       " ('LNS', 'PA'),\n",
       " ('CRE', 'SC'),\n",
       " ('GYH', 'SC'),\n",
       " ('HXD', 'SC'),\n",
       " ('MKL', 'TN'),\n",
       " ('NQA', 'TN'),\n",
       " ('BAZ', 'TX'),\n",
       " ('BRO', 'TX'),\n",
       " ('CLL', 'TX'),\n",
       " ('CNW', 'TX'),\n",
       " ('CXO', 'TX'),\n",
       " ('GTU', 'TX'),\n",
       " ('HYI', 'TX'),\n",
       " ('RBD', 'TX'),\n",
       " ('SGR', 'TX'),\n",
       " ('SSF', 'TX'),\n",
       " ('TKI', 'TX'),\n",
       " ('TYR', 'TX'),\n",
       " ('VCT', 'TX'),\n",
       " ('OGD', 'UT'),\n",
       " ('PVU', 'UT'),\n",
       " ('LYH', 'VA'),\n",
       " ('OLM', 'WA'),\n",
       " ('RNT', 'WA'),\n",
       " ('SFF', 'WA'),\n",
       " ('TIW', 'WA'),\n",
       " ('YKM', 'WA'),\n",
       " ('CWA', 'WI'),\n",
       " ('EAU', 'WI'),\n",
       " ('ENW', 'WI'),\n",
       " ('JVL', 'WI'),\n",
       " ('LSE', 'WI'),\n",
       " ('MWC', 'WI'),\n",
       " ('OSH', 'WI'),\n",
       " ('UES', 'WI'),\n",
       " ('HLG', 'WV'),\n",
       " ('LWB', 'WV'),\n",
       " ('PKB', 'WV')]"
      ]
     },
     "execution_count": 243,
     "metadata": {},
     "output_type": "execute_result"
    }
   ],
   "source": [
    "# faa = re.findall(r'(\\b[A-Z][A-Z][A-Z]\\b)\\s[A-Z\\-]+\\s[A-Z\\-]+\\s[A-Z\\-]+(\\s\\b[A-Z][A-Z]\\b)', tower)\n",
    "# faa = re.findall(r'([A-Z][A-Z][A-Z]) .+ ([A-Z][A-Z])', tower)  \n",
    "\n",
    "# (.+) anything between two matche groups\n",
    "# a period (.) matches any character and won't jump to a new line\n",
    "# {2,3}  --> 2 or 3\n",
    "\n",
    "faa = re.findall(r'([A-Z]{3}) .+ ([A-Z]{2})', tower)\n",
    "faa"
   ]
  },
  {
   "cell_type": "code",
   "execution_count": 239,
   "id": "4b70da58",
   "metadata": {},
   "outputs": [
    {
     "data": {
      "text/plain": [
       "[('DHN', 'DOTHA'),\n",
       " ('TCL', 'TUSCA'),\n",
       " ('FYV', 'FAYET'),\n",
       " ('TXK', 'TEXAR'),\n",
       " ('GEU', 'GLEND')]"
      ]
     },
     "execution_count": 239,
     "metadata": {},
     "output_type": "execute_result"
    }
   ],
   "source": [
    "# .+  -->  .{1,}\n",
    "# up to 3  -->  {,3}\n",
    "\n",
    "# quantifier = re.findall(r'([A-Z]{3}) .{1,0} ([A-Z]{3,5})', tower)[0:10]\n",
    "quantifier = re.findall(r'([A-Z]{3}) .+ ([A-Z]{3,5})', tower)[0:5]\n",
    "quantifier\n",
    "# .+ is greedy \n",
    "# CITY is pulled as it's between 3 and 5 characters"
   ]
  },
  {
   "cell_type": "code",
   "execution_count": 244,
   "id": "80b067f9",
   "metadata": {},
   "outputs": [
    {
     "data": {
      "text/plain": [
       "149"
      ]
     },
     "execution_count": 244,
     "metadata": {},
     "output_type": "execute_result"
    }
   ],
   "source": [
    "num = int(re.search(r'([\\d]+)\\sFCTs', tower).group(1))\n",
    "num"
   ]
  },
  {
   "cell_type": "code",
   "execution_count": 246,
   "id": "0c554414",
   "metadata": {},
   "outputs": [],
   "source": [
    "# sanity check\n",
    "assert num > 148\n",
    "# assert(num == len(faa))"
   ]
  },
  {
   "cell_type": "markdown",
   "id": "9d74be3b",
   "metadata": {},
   "source": [
    "# Homework 2"
   ]
  },
  {
   "cell_type": "code",
   "execution_count": 5,
   "id": "bafa209c",
   "metadata": {},
   "outputs": [
    {
     "name": "stdout",
     "output_type": "stream",
     "text": [
      "otal votes: 36\n",
      " 2  12201376 (5)\n",
      "-- 2012-08-30 rep +5    = 6         \n",
      " 2  13822612 (10)\n",
      "-- 2012-12-11 rep +10   = 16        \n",
      " 2  13822612 (10)\n",
      "-- 2013-03-20 rep +10   = 26        \n",
      "-- 2013-12-05 rep 0     = 26        \n",
      "-- 2014-01-25 rep 0     = 26        \n",
      " 16  7141669 (2)\n",
      "-- 2014-03-19 rep +2    = 28        \n",
      " 1\n"
     ]
    }
   ],
   "source": [
    "with open ('C:/Users/go27s/OneDrive/Documents/regex_course/regex-course/data/reputation.txt') as f:\n",
    "    rep = f.read()\n",
    "    \n",
    "print(rep[1:310])"
   ]
  },
  {
   "cell_type": "markdown",
   "id": "921cb29f",
   "metadata": {},
   "source": [
    "Your assignment is to create a list of tuples containing only these dated entries, including the date, reputation change (regardless of whether it is positive/negative/zero), and running total.\n",
    "\n",
    "Here is the expected output:\n",
    "\n",
    "rep = [('2012-08-30', '+5', '6'), ('2012-12-11', '+10', '16'), ...,  ('2015-10-14', '-1', '317')]"
   ]
  },
  {
   "cell_type": "code",
   "execution_count": 252,
   "id": "a794d06b",
   "metadata": {},
   "outputs": [
    {
     "data": {
      "text/plain": [
       "[('2012-08-30', '+5', '6'),\n",
       " ('2012-12-11', '+10', '16'),\n",
       " ('2013-03-20', '+10', '26'),\n",
       " ('2013-12-05', '0', '26'),\n",
       " ('2014-01-25', '0', '26'),\n",
       " ('2014-03-19', '+2', '28'),\n",
       " ('2014-05-11', '+2', '30'),\n",
       " ('2014-05-12', '+12', '42'),\n",
       " ('2014-06-12', '+10', '52'),\n",
       " ('2014-06-26', '+10', '62')]"
      ]
     },
     "execution_count": 252,
     "metadata": {},
     "output_type": "execute_result"
    }
   ],
   "source": [
    "# space with + --> ' +' --> we want to capture 1 or more spaces\n",
    "reputation = re.findall(r'-- (\\d{4}\\-\\d{2}\\-\\d{2}) rep ([\\+\\-]?\\d+) +\\= (\\d+)', rep)[0:10]\n",
    "reputation"
   ]
  },
  {
   "cell_type": "code",
   "execution_count": 227,
   "id": "14b2f110",
   "metadata": {},
   "outputs": [
    {
     "data": {
      "text/html": [
       "<div>\n",
       "<style scoped>\n",
       "    .dataframe tbody tr th:only-of-type {\n",
       "        vertical-align: middle;\n",
       "    }\n",
       "\n",
       "    .dataframe tbody tr th {\n",
       "        vertical-align: top;\n",
       "    }\n",
       "\n",
       "    .dataframe thead th {\n",
       "        text-align: right;\n",
       "    }\n",
       "</style>\n",
       "<table border=\"1\" class=\"dataframe\">\n",
       "  <thead>\n",
       "    <tr style=\"text-align: right;\">\n",
       "      <th></th>\n",
       "      <th>date</th>\n",
       "      <th>reputation_change</th>\n",
       "      <th>running_total</th>\n",
       "    </tr>\n",
       "  </thead>\n",
       "  <tbody>\n",
       "    <tr>\n",
       "      <th>0</th>\n",
       "      <td>2012-08-30</td>\n",
       "      <td>+5</td>\n",
       "      <td>6</td>\n",
       "    </tr>\n",
       "    <tr>\n",
       "      <th>1</th>\n",
       "      <td>2012-12-11</td>\n",
       "      <td>+10</td>\n",
       "      <td>16</td>\n",
       "    </tr>\n",
       "    <tr>\n",
       "      <th>2</th>\n",
       "      <td>2013-03-20</td>\n",
       "      <td>+10</td>\n",
       "      <td>26</td>\n",
       "    </tr>\n",
       "    <tr>\n",
       "      <th>3</th>\n",
       "      <td>2013-12-05</td>\n",
       "      <td>0</td>\n",
       "      <td>26</td>\n",
       "    </tr>\n",
       "    <tr>\n",
       "      <th>4</th>\n",
       "      <td>2014-01-25</td>\n",
       "      <td>0</td>\n",
       "      <td>26</td>\n",
       "    </tr>\n",
       "    <tr>\n",
       "      <th>5</th>\n",
       "      <td>2014-03-19</td>\n",
       "      <td>+2</td>\n",
       "      <td>28</td>\n",
       "    </tr>\n",
       "    <tr>\n",
       "      <th>6</th>\n",
       "      <td>2014-05-11</td>\n",
       "      <td>+2</td>\n",
       "      <td>30</td>\n",
       "    </tr>\n",
       "    <tr>\n",
       "      <th>7</th>\n",
       "      <td>2014-05-12</td>\n",
       "      <td>+12</td>\n",
       "      <td>42</td>\n",
       "    </tr>\n",
       "    <tr>\n",
       "      <th>8</th>\n",
       "      <td>2014-06-12</td>\n",
       "      <td>+10</td>\n",
       "      <td>52</td>\n",
       "    </tr>\n",
       "    <tr>\n",
       "      <th>9</th>\n",
       "      <td>2014-06-26</td>\n",
       "      <td>+10</td>\n",
       "      <td>62</td>\n",
       "    </tr>\n",
       "    <tr>\n",
       "      <th>10</th>\n",
       "      <td>2014-07-05</td>\n",
       "      <td>0</td>\n",
       "      <td>62</td>\n",
       "    </tr>\n",
       "    <tr>\n",
       "      <th>11</th>\n",
       "      <td>2014-09-02</td>\n",
       "      <td>0</td>\n",
       "      <td>62</td>\n",
       "    </tr>\n",
       "    <tr>\n",
       "      <th>12</th>\n",
       "      <td>2014-09-03</td>\n",
       "      <td>+10</td>\n",
       "      <td>72</td>\n",
       "    </tr>\n",
       "    <tr>\n",
       "      <th>13</th>\n",
       "      <td>2014-10-28</td>\n",
       "      <td>0</td>\n",
       "      <td>72</td>\n",
       "    </tr>\n",
       "    <tr>\n",
       "      <th>14</th>\n",
       "      <td>2014-11-14</td>\n",
       "      <td>+10</td>\n",
       "      <td>82</td>\n",
       "    </tr>\n",
       "    <tr>\n",
       "      <th>15</th>\n",
       "      <td>2014-11-18</td>\n",
       "      <td>+2</td>\n",
       "      <td>84</td>\n",
       "    </tr>\n",
       "    <tr>\n",
       "      <th>16</th>\n",
       "      <td>2014-12-08</td>\n",
       "      <td>+2</td>\n",
       "      <td>86</td>\n",
       "    </tr>\n",
       "    <tr>\n",
       "      <th>17</th>\n",
       "      <td>2014-12-09</td>\n",
       "      <td>+10</td>\n",
       "      <td>96</td>\n",
       "    </tr>\n",
       "    <tr>\n",
       "      <th>18</th>\n",
       "      <td>2014-12-12</td>\n",
       "      <td>+2</td>\n",
       "      <td>98</td>\n",
       "    </tr>\n",
       "    <tr>\n",
       "      <th>19</th>\n",
       "      <td>2014-12-24</td>\n",
       "      <td>+10</td>\n",
       "      <td>108</td>\n",
       "    </tr>\n",
       "    <tr>\n",
       "      <th>20</th>\n",
       "      <td>2015-02-03</td>\n",
       "      <td>0</td>\n",
       "      <td>108</td>\n",
       "    </tr>\n",
       "    <tr>\n",
       "      <th>21</th>\n",
       "      <td>2015-02-20</td>\n",
       "      <td>+10</td>\n",
       "      <td>118</td>\n",
       "    </tr>\n",
       "    <tr>\n",
       "      <th>22</th>\n",
       "      <td>2015-03-28</td>\n",
       "      <td>+10</td>\n",
       "      <td>128</td>\n",
       "    </tr>\n",
       "    <tr>\n",
       "      <th>23</th>\n",
       "      <td>2015-04-26</td>\n",
       "      <td>+10</td>\n",
       "      <td>138</td>\n",
       "    </tr>\n",
       "    <tr>\n",
       "      <th>24</th>\n",
       "      <td>2015-05-05</td>\n",
       "      <td>+10</td>\n",
       "      <td>148</td>\n",
       "    </tr>\n",
       "    <tr>\n",
       "      <th>25</th>\n",
       "      <td>2015-05-26</td>\n",
       "      <td>+10</td>\n",
       "      <td>158</td>\n",
       "    </tr>\n",
       "    <tr>\n",
       "      <th>26</th>\n",
       "      <td>2015-05-27</td>\n",
       "      <td>+20</td>\n",
       "      <td>178</td>\n",
       "    </tr>\n",
       "    <tr>\n",
       "      <th>27</th>\n",
       "      <td>2015-06-09</td>\n",
       "      <td>0</td>\n",
       "      <td>178</td>\n",
       "    </tr>\n",
       "    <tr>\n",
       "      <th>28</th>\n",
       "      <td>2015-07-03</td>\n",
       "      <td>+10</td>\n",
       "      <td>188</td>\n",
       "    </tr>\n",
       "    <tr>\n",
       "      <th>29</th>\n",
       "      <td>2015-07-06</td>\n",
       "      <td>0</td>\n",
       "      <td>188</td>\n",
       "    </tr>\n",
       "    <tr>\n",
       "      <th>30</th>\n",
       "      <td>2015-07-22</td>\n",
       "      <td>+110</td>\n",
       "      <td>298</td>\n",
       "    </tr>\n",
       "    <tr>\n",
       "      <th>31</th>\n",
       "      <td>2015-08-21</td>\n",
       "      <td>+10</td>\n",
       "      <td>308</td>\n",
       "    </tr>\n",
       "    <tr>\n",
       "      <th>32</th>\n",
       "      <td>2015-09-07</td>\n",
       "      <td>+10</td>\n",
       "      <td>318</td>\n",
       "    </tr>\n",
       "    <tr>\n",
       "      <th>33</th>\n",
       "      <td>2015-10-14</td>\n",
       "      <td>-1</td>\n",
       "      <td>317</td>\n",
       "    </tr>\n",
       "  </tbody>\n",
       "</table>\n",
       "</div>"
      ],
      "text/plain": [
       "          date reputation_change running_total\n",
       "0   2012-08-30                +5             6\n",
       "1   2012-12-11               +10            16\n",
       "2   2013-03-20               +10            26\n",
       "3   2013-12-05                 0            26\n",
       "4   2014-01-25                 0            26\n",
       "5   2014-03-19                +2            28\n",
       "6   2014-05-11                +2            30\n",
       "7   2014-05-12               +12            42\n",
       "8   2014-06-12               +10            52\n",
       "9   2014-06-26               +10            62\n",
       "10  2014-07-05                 0            62\n",
       "11  2014-09-02                 0            62\n",
       "12  2014-09-03               +10            72\n",
       "13  2014-10-28                 0            72\n",
       "14  2014-11-14               +10            82\n",
       "15  2014-11-18                +2            84\n",
       "16  2014-12-08                +2            86\n",
       "17  2014-12-09               +10            96\n",
       "18  2014-12-12                +2            98\n",
       "19  2014-12-24               +10           108\n",
       "20  2015-02-03                 0           108\n",
       "21  2015-02-20               +10           118\n",
       "22  2015-03-28               +10           128\n",
       "23  2015-04-26               +10           138\n",
       "24  2015-05-05               +10           148\n",
       "25  2015-05-26               +10           158\n",
       "26  2015-05-27               +20           178\n",
       "27  2015-06-09                 0           178\n",
       "28  2015-07-03               +10           188\n",
       "29  2015-07-06                 0           188\n",
       "30  2015-07-22              +110           298\n",
       "31  2015-08-21               +10           308\n",
       "32  2015-09-07               +10           318\n",
       "33  2015-10-14                -1           317"
      ]
     },
     "execution_count": 227,
     "metadata": {},
     "output_type": "execute_result"
    }
   ],
   "source": [
    "pd.DataFrame(list(reputation), columns=['date', 'reputation_change', 'running_total'])"
   ]
  },
  {
   "cell_type": "markdown",
   "id": "7b40efe1",
   "metadata": {},
   "source": [
    "# Greedy / Lazy quantifiers"
   ]
  },
  {
   "cell_type": "code",
   "execution_count": null,
   "id": "4eee7542",
   "metadata": {},
   "outputs": [],
   "source": [
    "# To get Cause from '<dd>Cause: blunt force</dd></dl>'  --> Cause: (.+?)<  --> get word character or space, one or more"
   ]
  },
  {
   "cell_type": "code",
   "execution_count": 256,
   "id": "9ea5ae74",
   "metadata": {},
   "outputs": [],
   "source": [
    "with open('C:/Users/go27s/OneDrive/Documents/regex_course/regex-course/data/homicides.txt') as f:\n",
    "    hom_data = f.read()"
   ]
  },
  {
   "cell_type": "code",
   "execution_count": 257,
   "id": "8da83af0",
   "metadata": {},
   "outputs": [
    {
     "data": {
      "text/plain": [
       "['shooting',\n",
       " 'blunt force',\n",
       " 'asphyxiation',\n",
       " 'blunt force',\n",
       " 'shooting',\n",
       " 'shooting',\n",
       " 'shooting',\n",
       " 'shooting',\n",
       " 'shooting']"
      ]
     },
     "execution_count": 257,
     "metadata": {},
     "output_type": "execute_result"
    }
   ],
   "source": [
    "hom = re.findall(r'Cause: (.+?)<', hom_data)[1:10]\n",
    "hom"
   ]
  },
  {
   "cell_type": "markdown",
   "id": "56db20a4",
   "metadata": {},
   "source": [
    "# Alternatives"
   ]
  },
  {
   "cell_type": "code",
   "execution_count": 258,
   "id": "71ddc754",
   "metadata": {},
   "outputs": [],
   "source": [
    "# \\d+ .+ (Ave|St|Dr|Hwy)"
   ]
  },
  {
   "cell_type": "code",
   "execution_count": 261,
   "id": "43c8bdcb",
   "metadata": {},
   "outputs": [],
   "source": [
    "with open('C:/Users/go27s/OneDrive/Documents/regex_course/regex-course/data/yelp.csv') as f:\n",
    "    reviews = f.read()"
   ]
  },
  {
   "cell_type": "code",
   "execution_count": 271,
   "id": "26a5f62a",
   "metadata": {},
   "outputs": [
    {
     "name": "stdout",
     "output_type": "stream",
     "text": [
      "business_id,date,review_id,stars,text,type,user_id,cool,useful,funny\n",
      "9yKzy9PApeiPPOUJEtnvkg,2011-01-26,fWKvX83p0-ka4JS3dc6E5A,5,\"My wife took me here on my birthday for breakfast and it was excellent.  The weather was perfect which made sitting outside overlooking their grounds an absolute pleasure.  Our waitress was excellent and our food arrived quickly on the semi-busy Saturday morning.  It looked like the place fills up pretty quickly so the earlier you get here the better.\n",
      "\n",
      "Do yourself a favor and get their Bloody Mary.  It was phenomenal and simply the best I've ever had.  I'm pretty sure they only use ingredients from their garden and blend them fresh when you order it.  It was amazing.\n",
      "\n",
      "While EVERYTHING on the menu looks excellent, I had the white truffle scrambled eggs vegetable skillet and it was tasty and delicious.  It came with 2 pieces of their griddled bread with was amazing and it absolutely made the meal complete.  It was the best \"\"toast\"\" I've ever had.\n",
      "\n",
      "Anyway, I ca\n"
     ]
    }
   ],
   "source": [
    "print(reviews[0:1000])"
   ]
  },
  {
   "cell_type": "code",
   "execution_count": 273,
   "id": "bf96c2ed",
   "metadata": {},
   "outputs": [
    {
     "data": {
      "text/plain": [
       "[('Mr.', 'Mustachio'),\n",
       " ('miss', 'food'),\n",
       " ('miss', 'with'),\n",
       " ('miss', 'the'),\n",
       " ('miss', 'the'),\n",
       " ('miss', 'if'),\n",
       " ('miss', 'the'),\n",
       " ('miss', 'the'),\n",
       " ('miss', 'the')]"
      ]
     },
     "execution_count": 273,
     "metadata": {},
     "output_type": "execute_result"
    }
   ],
   "source": [
    "re.findall(r'(Mr\\.|Mr|Mister|Mrs|Miss) (\\w+)', reviews, flags=re.IGNORECASE)[1:10]  # created 2 match groups"
   ]
  },
  {
   "cell_type": "markdown",
   "id": "82ca4d47",
   "metadata": {},
   "source": [
    "# Flags"
   ]
  },
  {
   "cell_type": "markdown",
   "id": "f9d0fd64",
   "metadata": {},
   "source": [
    "flags = re.IGNORECASE"
   ]
  },
  {
   "cell_type": "markdown",
   "id": "054ba4a2",
   "metadata": {},
   "source": [
    "# Substitution"
   ]
  },
  {
   "cell_type": "code",
   "execution_count": 276,
   "id": "e3abd6a6",
   "metadata": {},
   "outputs": [
    {
     "data": {
      "text/plain": [
       "'business_i'"
      ]
     },
     "execution_count": 276,
     "metadata": {},
     "output_type": "execute_result"
    }
   ],
   "source": [
    "# find a pattern and replace it with a string\n",
    "re.sub(r'', r'', reviews) [0:10]"
   ]
  },
  {
   "cell_type": "code",
   "execution_count": 277,
   "id": "91fe7f2f",
   "metadata": {},
   "outputs": [
    {
     "data": {
      "text/plain": [
       "'I told Mr. Pebble that I like Mr. Pipp'"
      ]
     },
     "execution_count": 277,
     "metadata": {},
     "output_type": "execute_result"
    }
   ],
   "source": [
    "s = 'I told Mister Pebble that I like Mister Pipp'\n",
    "\n",
    "re.sub(r'Mister', r'Mr.', s)"
   ]
  },
  {
   "cell_type": "code",
   "execution_count": 2,
   "id": "7874efaa",
   "metadata": {},
   "outputs": [],
   "source": [
    "s = 'my twitter is @jimmy, my emails are john@hotmail.com and jim@yahoo.com'"
   ]
  },
  {
   "cell_type": "code",
   "execution_count": 291,
   "id": "b1fcca29",
   "metadata": {},
   "outputs": [
    {
     "data": {
      "text/plain": [
       "['hotmail.com', 'yahoo.com']"
      ]
     },
     "execution_count": 291,
     "metadata": {},
     "output_type": "execute_result"
    }
   ],
   "source": [
    "re.findall(r'@(\\w+\\.\\w+)', s)"
   ]
  },
  {
   "cell_type": "code",
   "execution_count": 292,
   "id": "61344d49",
   "metadata": {},
   "outputs": [
    {
     "data": {
      "text/plain": [
       "'my twitter is @jimmy, my emails are john@gmail.com and jim@gmail.com'"
      ]
     },
     "execution_count": 292,
     "metadata": {},
     "output_type": "execute_result"
    }
   ],
   "source": [
    "re.sub(r'@(\\w+\\.\\w+)', r'@gmail.com', s)"
   ]
  },
  {
   "cell_type": "code",
   "execution_count": 290,
   "id": "2ef33bed",
   "metadata": {},
   "outputs": [
    {
     "data": {
      "text/plain": [
       "['john@hotmail.com', 'jim@yahoo.com']"
      ]
     },
     "execution_count": 290,
     "metadata": {},
     "output_type": "execute_result"
    }
   ],
   "source": [
    "re.findall(r'\\w+@[\\w\\.]+', s)"
   ]
  },
  {
   "cell_type": "code",
   "execution_count": 293,
   "id": "f63fc939",
   "metadata": {},
   "outputs": [
    {
     "data": {
      "text/plain": [
       "'my twitter is @jimmy, my emails are john@gmail.com and jim@gmail.com'"
      ]
     },
     "execution_count": 293,
     "metadata": {},
     "output_type": "execute_result"
    }
   ],
   "source": [
    "re.sub(r'(\\w+)@[\\w.]+', r'\\1@gmail.com', s)    #\\1 refers to 1st matching group, which is (\\w+)"
   ]
  },
  {
   "cell_type": "markdown",
   "id": "f3168704",
   "metadata": {},
   "source": [
    "# Anchors ^$\n",
    "They enforce the patter, If it's not there at the start/end of the string, it'll return error"
   ]
  },
  {
   "cell_type": "code",
   "execution_count": 4,
   "id": "78811498",
   "metadata": {},
   "outputs": [
    {
     "ename": "AttributeError",
     "evalue": "'NoneType' object has no attribute 'group'",
     "output_type": "error",
     "traceback": [
      "\u001b[1;31m---------------------------------------------------------------------------\u001b[0m",
      "\u001b[1;31mAttributeError\u001b[0m                            Traceback (most recent call last)",
      "Input \u001b[1;32mIn [4]\u001b[0m, in \u001b[0;36m<cell line: 1>\u001b[1;34m()\u001b[0m\n\u001b[1;32m----> 1\u001b[0m \u001b[43mre\u001b[49m\u001b[38;5;241;43m.\u001b[39;49m\u001b[43msearch\u001b[49m\u001b[43m(\u001b[49m\u001b[38;5;124;43mr\u001b[39;49m\u001b[38;5;124;43m'\u001b[39;49m\u001b[38;5;124;43m^@\u001b[39;49m\u001b[38;5;124;43m\\\u001b[39;49m\u001b[38;5;124;43mw+\u001b[39;49m\u001b[38;5;124;43m'\u001b[39;49m\u001b[43m,\u001b[49m\u001b[43m \u001b[49m\u001b[43ms\u001b[49m\u001b[43m)\u001b[49m\u001b[38;5;241;43m.\u001b[39;49m\u001b[43mgroup\u001b[49m()\n",
      "\u001b[1;31mAttributeError\u001b[0m: 'NoneType' object has no attribute 'group'"
     ]
    }
   ],
   "source": [
    "re.search(r'^@\\w+', s).group()"
   ]
  },
  {
   "cell_type": "markdown",
   "id": "9b597a8d",
   "metadata": {},
   "source": [
    "# Multiline"
   ]
  },
  {
   "cell_type": "code",
   "execution_count": 19,
   "id": "6c6929b3",
   "metadata": {},
   "outputs": [
    {
     "name": "stdout",
     "output_type": "stream",
     "text": [
      "FAA Contract Tower Closure List\n",
      "(149 FCTs)\n",
      "3-22-2013\n",
      "LOC\n",
      "ID Facility Name City State\n",
      "DHN DOTHAN RGNL DOTHAN AL\n",
      "TCL TUSCALOOSA RGNL TUSCALOOSA AL\n",
      "FYV DRAKE FIELD FAYETTEVILLE AR\n",
      "TXK TEXARKANA RGNL-WEBB\n"
     ]
    }
   ],
   "source": [
    "with open ('C:/Users/go27s/OneDrive/Documents/regex_course/regex-course/data/faa.txt') as f:\n",
    "    tower = f.read()\n",
    "    \n",
    "print(tower[0:200])"
   ]
  },
  {
   "cell_type": "code",
   "execution_count": 20,
   "id": "01cba3f2",
   "metadata": {},
   "outputs": [
    {
     "name": "stdout",
     "output_type": "stream",
     "text": [
      "FAA Contract Tower Closure List\n",
      "(149 FCTs)\n",
      "3-22-2013\n",
      "LOC\n",
      "ID Facility Name City State\n",
      "DHN DOTHAN RGNL DOTHAN ALABAMA\n",
      "TCL TUSCALOOSA RGNL TUSCALOOSA ALABAMA\n",
      "FYV DRAKE FIELD FAYETTEVILLE AR\n",
      "TXK TEXARKANA RGNL-WEBB FIELD TEXARKANA AR\n",
      "GEU GLENDALE MUNI GLENDALE AZ\n",
      "GYR PHOENIX GOODYEAR GOODYEAR AZ\n",
      "IFP LAUGHLIN/BULLHEAD INTL BULLHEAD CITY AZ\n",
      "RYN RYAN FIELD TUCSON AZ\n",
      "FUL FULLERTON MUNI FULLERTON CA\n",
      "MER CASTLE ATWATER CA\n",
      "OXR OXNARD OXNARD CA\n",
      "RAL RIVERSIDE MUNI RIVERSIDE CA\n",
      "RNM RAMONA RAMONA CA\n",
      "SAC SACRAMENTO EXECUTIVE SACRAMENTO CA\n",
      "SDM BROWN FIELD MUNI SAN DIEGO CA\n",
      "SNS SALINAS MUNI SALINAS CA\n",
      "VCV SOUTHERN CALIFORNIA LOGISTICS VICTORVILLE CA\n",
      "WHP WHITEMAN LOS ANGELES CA\n",
      "WJF GENERAL WM J FOX AIRFIELD LANCASTER CA\n",
      "BDR IGOR I SIKORSKY MEMORIAL BRIDGEPORT CT\n",
      "DXR DANBURY MUNI DANBURY CT\n",
      "GON GROTON-NEW LONDON GROTON (NEW LONDON) CT\n",
      "HFD HARTFORD-BRAINARD HARTFORD CT\n",
      "HVN TWEED-NEW HAVEN NEW HAVEN CT\n",
      "OXC WATERBURY-OXFORD OXFORD CT\n",
      "APF NAPLES MUNI NAPLES FL\n",
      "BCT BOCA RATON BOCA RATON FL\n",
      "EVB NEW SMYRNA BEACH MUNI NEW SMYRNA BEACH FL\n",
      "FMY PAGE FIELD FORT MYERS FL\n",
      "HWO NORTH PERRY HOLLYWOOD FL\n",
      "LAL LAKELAND LINDER RGNL LAKELAND FL\n",
      "LEE LEESBURG INTL LEESBURG FL\n",
      "OCF OCALA INTL-JIM TAYLOR FIELD OCALA FL\n",
      "OMN ORMOND BEACH MUNI ORMOND BEACH FL\n",
      "PGD PUNTA GORDA PUNTA GORDA FL\n",
      "SGJ NORTHEAST FLORIDA RGNL ST AUGUSTINE FL\n",
      "SPG ALBERT WHITTED ST PETERSBURG FL\n",
      "SUA WITHAM FIELD STUART FL\n",
      "TIX SPACE COAST RGNL TITUSVILLE FL\n",
      "ABY SOUTHWEST GEORGIA RGNL ALBANY GA\n",
      "AHN ATHENS/BEN EPPS ATHENS GA\n",
      "LZU GWINNETT COUNTY - BRISCOE FIELD LAWRENCEVILLE GA\n",
      "MCN MIDDLE GEORGIA RGNL MACON GA\n",
      "RYY COBB COUNTY- MCCOLLUM FIELD ATLANTA GA\n",
      "DBQ DUBUQUE RGNL DUBUQUE IA\n",
      "IDA IDAHO FALLS RGNL IDAHO FALLS ID\n",
      "LWS LEWISTON-NEZ PERCE COUNTY LEWISTON ID\n",
      "Page 1 of 4\n",
      "FAA Contract Tower Closure List\n",
      "(149 FCTs)\n",
      "3-22-2013\n",
      "LOC\n",
      "ID Facility Name City State\n",
      "PIH POCATELLO RGNL POCATELLO ID\n",
      "SUN FRIEDMAN MEMORIAL HAILEY ID\n",
      "ALN ST LOUIS RGNL ALTON/ST LOUIS IL\n",
      "BMI CENTRAL IL RGNL ARPT AT BLOOMINGTON- NORMAL BLOOMINGTON/ NORMAL IL\n",
      "DEC DECATUR DECATUR IL\n",
      "MDH SOUTHERN ILLINOIS CARBONDALE/ MURPHYSBORO IL\n",
      "UGN WAUKEGAN RGNL CHICAGO/ WAUKEGAN IL\n",
      "BAK COLUMBUS MUNI COLUMBUS IN\n",
      "GYY GARY/CHICAGO INTL GARY IN\n",
      "HUT HUTCHINSON MUNI HUTCHINSON KS\n",
      "IXD NEW CENTURY AIRCENTER OLATHE KS\n",
      "MHK MANHATTAN RGNL MANHATTAN KS\n",
      "OJC JOHNSON COUNTY EXECUTIVE OLATHE KS\n",
      "TOP PHILIP BILLARD MUNI TOPEKA KS\n",
      "OWB OWENSBORO-DAVIESS COUNTY OWENSBORO KY\n",
      "PAH BARKLEY RGNL PADUCAH KY\n",
      "DTN SHREVEPORT DOWNTOWN SHREVEPORT LA\n",
      "BVY BEVERLY MUNI BEVERLY MA\n",
      "EWB NEW BEDFORD RGNL NEW BEDFORD MA\n",
      "LWM LAWRENCE MUNI LAWRENCE MA\n",
      "ORH WORCESTER RGNL WORCESTER MA\n",
      "OWD NORWOOD MEMORIAL NORWOOD MA\n",
      "ESN EASTON/NEWNAM FIELD EASTON MD\n",
      "FDK FREDERICK MUNI FREDERICK MD\n",
      "HGR HAGERSTOWN RGNL- RICHARD A HENSON FLD HAGERSTOWN MD\n",
      "MTN MARTIN STATE BALTIMORE MD\n",
      "SBY SALISBURY-OCEAN CITY WICOMICO RGNL SALISBURY MD\n",
      "BTL W K KELLOGG BATTLE CREEK MI\n",
      "DET COLEMAN A. YOUNG MUNI DETROIT MI\n",
      "SAW SAWYER INTL MARQUETTE MI\n",
      "ANE ANOKA COUNTY-BLAINE ARPT(JANES FIELD) MINNEAPOLIS MN\n",
      "STC ST CLOUD RGNL ST CLOUD MN\n",
      "BBG BRANSON BRANSON MO\n",
      "COU COLUMBIA RGNL COLUMBIA MO\n",
      "GLH MID DELTA RGNL GREENVILLE MS\n",
      "HKS HAWKINS FIELD JACKSON MS\n",
      "HSA STENNIS INTL (HSA) BAY ST LOUIS MS\n",
      "OLV OLIVE BRANCH OLIVE BRANCH MS\n",
      "TUP TUPELO RGNL TUPELO MS\n",
      "GPI GLACIER PARK INTL KALISPELL MT\n",
      "EWN COASTAL CAROLINA REGIONAL NEW BERN NC\n",
      "HKY HICKORY RGNL HICKORY NC\n",
      "INT SMITH REYNOLDS WINSTON SALEM NC\n",
      "ISO KINSTON RGNL JETPORT AT STALLINGS FLD KINSTON NC\n",
      "JQF CONCORD RGNL CONCORD NC\n",
      "ASH BOIRE FIELD NASHUA NH\n",
      "TTN TRENTON MERCER TRENTON NJ\n",
      "Page 2 of 4\n",
      "FAA Contract Tower Closure List\n",
      "(149 FCTs)\n",
      "3-22-2013\n",
      "LOC\n",
      "ID Facility Name City State\n",
      "AEG DOUBLE EAGLE II ALBUQUERQUE NM\n",
      "SAF SANTA FE MUNI SANTA FE NM\n",
      "ITH ITHACA TOMPKINS RGNL ITHACA NY\n",
      "RME GRIFFISS INTL ROME NY\n",
      "CGF CUYAHOGA COUNTY CLEVELAND OH\n",
      "OSU OHIO STATE UNIVERSITY COLUMBUS OH\n",
      "TZR BOLTON FIELD COLUMBUS OH\n",
      "LAW LAWTON-FORT SILL RGNL LAWTON OK\n",
      "OUN UNIVERSITY OF OKLAHOMA WESTHEIMER NORMAN OK\n",
      "PWA WILEY POST OKLAHOMA CITY OK\n",
      "SWO STILLWATER RGNL STILLWATER OK\n",
      "OTH SOUTHWEST OREGON RGNL NORTH BEND OR\n",
      "PDT EASTERN OREGON RGNL AT PENDLETON PENDLETON OR\n",
      "SLE MCNARY FLD SALEM OR\n",
      "TTD PORTLAND-TROUTDALE PORTLAND OR\n",
      "CXY CAPITAL CITY HARRISBURG PA\n",
      "LBE ARNOLD PALMER RGNL LATROBE PA\n",
      "LNS LANCASTER LANCASTER PA\n",
      "CRE GRAND STRAND NORTH MYRTLE BEACH SC\n",
      "GYH DONALDSON CENTER GREENVILLE SC\n",
      "HXD HILTON HEAD HILTON HEAD ISLAND SC\n",
      "MKL MC KELLAR-SIPES RGNL JACKSON TN\n",
      "NQA MILLINGTON RGNL JETPORT MILLINGTON TN\n",
      "BAZ NEW BRAUNFELS MUNI NEW BRAUNFELS TX\n",
      "BRO BROWNSVILLE/ SOUTH PADRE ISLAND INTL BROWNSVILLE TX\n",
      "CLL EASTERWOOD FIELD COLLEGE STATION TX\n",
      "CNW TSTC WACO WACO TX\n",
      "CXO LONE STAR EXECUTIVE HOUSTON TX\n",
      "GTU GEORGETOWN MUNI GEORGETOWN TX\n",
      "HYI SAN MARCOS MUNI SAN MARCOS TX\n",
      "RBD DALLAS EXECUTIVE DALLAS TX\n",
      "SGR SUGAR LAND RGNL HOUSTON TX\n",
      "SSF STINSON MUNI SAN ANTONIO TX\n",
      "TKI COLLIN COUNTY RGNL AT MC KINNEY DALLAS TX\n",
      "TYR TYLER POUNDS RGNL TYLER TX\n",
      "VCT VICTORIA RGNL VICTORIA TX\n",
      "OGD OGDEN-HINCKLEY OGDEN UT\n",
      "PVU PROVO MUNI PROVO UT\n",
      "LYH LYNCHBURG RGNL/ PRESTON GLENN FLD LYNCHBURG VA\n",
      "OLM OLYMPIA RGNL OLYMPIA WA\n",
      "RNT RENTON MUNI RENTON WA\n",
      "SFF FELTS FIELD SPOKANE WA\n",
      "TIW TACOMA NARROWS TACOMA WA\n",
      "YKM YAKIMA AIR TERMINAL/ MCALLISTER FIELD YAKIMA WA\n",
      "CWA CENTRAL WISCONSIN MOSINEE WI\n",
      "EAU CHIPPEWA VALLEY RGNL EAU CLAIRE WI\n",
      "ENW KENOSHA RGNL KENOSHA WI\n",
      "Page 3 of 4\n",
      "FAA Contract Tower Closure List\n",
      "(149 FCTs)\n",
      "3-22-2013\n",
      "LOC\n",
      "ID Facility Name City State\n",
      "JVL SOUTHERN WISCONSIN RGNL JANESVILLE WI\n",
      "LSE LA CROSSE MUNI LA CROSSE WI\n",
      "MWC LAWRENCE J TIMMERMAN MILWAUKEE WI\n",
      "OSH WITTMAN RGNL OSHKOSH WI\n",
      "UES WAUKESHA COUNTY WAUKESHA WI\n",
      "HLG WHEELING OHIO CO WHEELING WV\n",
      "LWB GREENBRIER VALLEY LEWISBURG WV\n",
      "PKB MID-OHIO VALLEY RGNL PARKERSBURG WV\n",
      "Page 4 of 4\n",
      "\n"
     ]
    }
   ],
   "source": [
    "print(re.sub(r'AL$', r'ALABAMA', tower, flags=re.MULTILINE))"
   ]
  },
  {
   "cell_type": "markdown",
   "id": "5199da10",
   "metadata": {},
   "source": [
    "# Intermedite Regualar Expressions Exercise 1"
   ]
  },
  {
   "cell_type": "code",
   "execution_count": 1,
   "id": "a89f8cb5",
   "metadata": {},
   "outputs": [],
   "source": [
    "# with open ('C:/Users/go27s/OneDrive/Documents/regex_course/regex-course/data/imdb_100.csv') as f:\n",
    "#     imdb = f.read()"
   ]
  },
  {
   "cell_type": "code",
   "execution_count": 7,
   "id": "05d18f78",
   "metadata": {},
   "outputs": [
    {
     "data": {
      "text/html": [
       "<div>\n",
       "<style scoped>\n",
       "    .dataframe tbody tr th:only-of-type {\n",
       "        vertical-align: middle;\n",
       "    }\n",
       "\n",
       "    .dataframe tbody tr th {\n",
       "        vertical-align: top;\n",
       "    }\n",
       "\n",
       "    .dataframe thead th {\n",
       "        text-align: right;\n",
       "    }\n",
       "</style>\n",
       "<table border=\"1\" class=\"dataframe\">\n",
       "  <thead>\n",
       "    <tr style=\"text-align: right;\">\n",
       "      <th></th>\n",
       "      <th>star_rating</th>\n",
       "      <th>title</th>\n",
       "      <th>content_rating</th>\n",
       "      <th>genre</th>\n",
       "      <th>duration</th>\n",
       "      <th>actors_list</th>\n",
       "    </tr>\n",
       "  </thead>\n",
       "  <tbody>\n",
       "    <tr>\n",
       "      <th>0</th>\n",
       "      <td>9.3</td>\n",
       "      <td>The Shawshank Redemption</td>\n",
       "      <td>R</td>\n",
       "      <td>Crime</td>\n",
       "      <td>142</td>\n",
       "      <td>[u'Tim Robbins', u'Morgan Freeman', u'Bob Gunt...</td>\n",
       "    </tr>\n",
       "    <tr>\n",
       "      <th>1</th>\n",
       "      <td>9.2</td>\n",
       "      <td>The Godfather</td>\n",
       "      <td>R</td>\n",
       "      <td>Crime</td>\n",
       "      <td>175</td>\n",
       "      <td>[u'Marlon Brando', u'Al Pacino', u'James Caan']</td>\n",
       "    </tr>\n",
       "    <tr>\n",
       "      <th>2</th>\n",
       "      <td>9.1</td>\n",
       "      <td>The Godfather: Part II</td>\n",
       "      <td>R</td>\n",
       "      <td>Crime</td>\n",
       "      <td>200</td>\n",
       "      <td>[u'Al Pacino', u'Robert De Niro', u'Robert Duv...</td>\n",
       "    </tr>\n",
       "    <tr>\n",
       "      <th>3</th>\n",
       "      <td>9.0</td>\n",
       "      <td>The Dark Knight</td>\n",
       "      <td>PG-13</td>\n",
       "      <td>Action</td>\n",
       "      <td>152</td>\n",
       "      <td>[u'Christian Bale', u'Heath Ledger', u'Aaron E...</td>\n",
       "    </tr>\n",
       "    <tr>\n",
       "      <th>4</th>\n",
       "      <td>8.9</td>\n",
       "      <td>Pulp Fiction</td>\n",
       "      <td>R</td>\n",
       "      <td>Crime</td>\n",
       "      <td>154</td>\n",
       "      <td>[u'John Travolta', u'Uma Thurman', u'Samuel L....</td>\n",
       "    </tr>\n",
       "  </tbody>\n",
       "</table>\n",
       "</div>"
      ],
      "text/plain": [
       "   star_rating                     title content_rating   genre  duration  \\\n",
       "0          9.3  The Shawshank Redemption              R   Crime       142   \n",
       "1          9.2             The Godfather              R   Crime       175   \n",
       "2          9.1    The Godfather: Part II              R   Crime       200   \n",
       "3          9.0           The Dark Knight          PG-13  Action       152   \n",
       "4          8.9              Pulp Fiction              R   Crime       154   \n",
       "\n",
       "                                         actors_list  \n",
       "0  [u'Tim Robbins', u'Morgan Freeman', u'Bob Gunt...  \n",
       "1    [u'Marlon Brando', u'Al Pacino', u'James Caan']  \n",
       "2  [u'Al Pacino', u'Robert De Niro', u'Robert Duv...  \n",
       "3  [u'Christian Bale', u'Heath Ledger', u'Aaron E...  \n",
       "4  [u'John Travolta', u'Uma Thurman', u'Samuel L....  "
      ]
     },
     "execution_count": 7,
     "metadata": {},
     "output_type": "execute_result"
    }
   ],
   "source": [
    "imdb = pd.read_csv('C:/Users/go27s/OneDrive/Documents/regex_course/regex-course/data/imdb_100.csv')\n",
    "imdb.head()"
   ]
  },
  {
   "cell_type": "code",
   "execution_count": 15,
   "id": "7306bdb0",
   "metadata": {},
   "outputs": [
    {
     "data": {
      "text/plain": [
       "list"
      ]
     },
     "execution_count": 15,
     "metadata": {},
     "output_type": "execute_result"
    }
   ],
   "source": [
    "# convert title Series to a list\n",
    "titles = imdb['title'].to_list()\n",
    "type(titles)"
   ]
  },
  {
   "cell_type": "code",
   "execution_count": 39,
   "id": "6e546298",
   "metadata": {},
   "outputs": [
    {
     "name": "stdout",
     "output_type": "stream",
     "text": [
      "['The Shawshank Redemption', 'The Godfather', 'The Godfather: Part II', 'The Dark Knight', 'Pulp Fiction', '12 Angry Men', 'The Good, the Bad and the Ugly', 'The Lord of the Rings: The Return of the King', \"Schindler's List\", 'Fight Club', 'The Lord of the Rings: The Fellowship of the Ring', 'Inception', 'Star Wars: Episode V - The Empire Strikes Back', 'Forrest Gump', 'The Lord of the Rings: The Two Towers', 'Interstellar', \"One Flew Over the Cuckoo's Nest\", 'Seven Samurai', 'Goodfellas', 'Star Wars', 'The Matrix', 'City of God', \"It's a Wonderful Life\", 'The Usual Suspects', 'Se7en', 'Life Is Beautiful', 'Once Upon a Time in the West', 'The Silence of the Lambs', 'Leon: The Professional', 'City Lights', 'Spirited Away', 'The Intouchables', 'Casablanca', 'Whiplash', 'American History X', 'Modern Times', 'Saving Private Ryan', 'Raiders of the Lost Ark', 'Rear Window', 'Psycho', 'The Green Mile', 'Sunset Blvd.', 'The Pianist', 'The Dark Knight Rises', 'Gladiator', 'Terminator 2: Judgment Day', 'Memento', 'Taare Zameen Par', 'Dr. Strangelove or: How I Learned to Stop Worrying and Love the Bomb', 'The Departed', 'Cinema Paradiso', 'Apocalypse Now', 'The Great Dictator', 'The Prestige', 'Back to the Future', 'The Lion King', 'The Lives of Others', 'Alien', 'Paths of Glory', 'Django Unchained', '3 Idiots', 'Grave of the Fireflies', 'The Shining', 'M', 'WALL-E', 'Witness for the Prosecution', 'Munna Bhai M.B.B.S.', 'American Beauty', 'Das Boot', 'Princess Mononoke', 'Amelie', 'North by Northwest', 'Rang De Basanti', 'Jodaeiye Nader az Simin', 'Citizen Kane', 'Aliens', 'Vertigo', 'Oldeuboi', 'Once Upon a Time in America', 'Double Indemnity', 'Star Wars: Episode VI - Return of the Jedi', 'Toy Story 3', 'Braveheart', 'To Kill a Mockingbird', 'Requiem for a Dream', 'Lawrence of Arabia', 'A Clockwork Orange', 'Bicycle Thieves', 'The Kid', 'Swades', 'Reservoir Dogs', 'Eternal Sunshine of the Spotless Mind', 'Taxi Driver', 'Dilwale Dulhania Le Jayenge', \"Singin' in the Rain\", 'All About Eve', 'Yojimbo', 'The Sting', 'Rashomon', 'Amadeus']\n"
     ]
    }
   ],
   "source": [
    "print(titles)"
   ]
  },
  {
   "cell_type": "code",
   "execution_count": 78,
   "id": "fd66719f",
   "metadata": {},
   "outputs": [
    {
     "data": {
      "text/plain": [
       "[['The '],\n",
       " ['The '],\n",
       " ['The '],\n",
       " ['The '],\n",
       " 'Pulp Fiction',\n",
       " '12 Angry Men',\n",
       " ['The '],\n",
       " ['The '],\n",
       " \"Schindler's List\",\n",
       " 'Fight Club']"
      ]
     },
     "execution_count": 78,
     "metadata": {},
     "output_type": "execute_result"
    }
   ],
   "source": [
    "title = []\n",
    "for row in titles:\n",
    "    match = re.findall(r'^The |^A |^An ', row)\n",
    "    if match:\n",
    "        title.append(match)\n",
    "    else:\n",
    "        title.append(row)\n",
    "        \n",
    "title[0:10]"
   ]
  },
  {
   "cell_type": "code",
   "execution_count": 76,
   "id": "a9b1dc5e",
   "metadata": {},
   "outputs": [
    {
     "data": {
      "text/plain": [
       "['Shawshank Redemption',\n",
       " 'Godfather',\n",
       " 'Godfather: Part II',\n",
       " 'Dark Knight',\n",
       " 'Pulp Fiction',\n",
       " '12 Angry Men',\n",
       " 'Good, the Bad and the Ugly',\n",
       " 'Lord of the Rings: The Return of the King',\n",
       " \"Schindler's List\",\n",
       " 'Fight Club']"
      ]
     },
     "execution_count": 76,
     "metadata": {},
     "output_type": "execute_result"
    }
   ],
   "source": [
    "# title = []\n",
    "# for row in titles:\n",
    "#     match = re.sub(r'^The |^A |^An ', r'',  row)\n",
    "#     if match:\n",
    "#         title.append(match)\n",
    "#     else:\n",
    "#         title.append(row)\n",
    "        \n",
    "# title\n",
    "\n",
    "\n",
    "title = [re.sub(r'^The |^A |^An ', r'', title) for title in titles]\n",
    "title[0:10]\n"
   ]
  },
  {
   "cell_type": "code",
   "execution_count": 77,
   "id": "41c08716",
   "metadata": {},
   "outputs": [
    {
     "data": {
      "text/plain": [
       "['Shawshank Redemption, The ',\n",
       " 'Godfather, The ',\n",
       " 'Godfather: Part II, The ',\n",
       " 'Dark Knight, The ',\n",
       " 'Pulp Fiction',\n",
       " '12 Angry Men',\n",
       " 'Good, the Bad and the Ugly, The ',\n",
       " 'Lord of the Rings: The Return of the King, The ',\n",
       " \"Schindler's List\",\n",
       " 'Fight Club']"
      ]
     },
     "execution_count": 77,
     "metadata": {},
     "output_type": "execute_result"
    }
   ],
   "source": [
    "# Divide the title into 2 match groups. One with the article and one with the title. Article is group 1 and title group 2\n",
    "title = [re.sub(r'^(The |A |An )(.+)', r'\\2, \\1', title) for title in titles]\n",
    "title[0:10]"
   ]
  },
  {
   "cell_type": "markdown",
   "id": "324cb95a",
   "metadata": {},
   "source": [
    "# Verbose"
   ]
  },
  {
   "cell_type": "code",
   "execution_count": 79,
   "id": "01d4a350",
   "metadata": {},
   "outputs": [],
   "source": [
    "with open ('C:/Users/go27s/OneDrive/Documents/regex_course/regex-course/data/reputation.txt') as f:\n",
    "    rep = f.read()"
   ]
  },
  {
   "cell_type": "code",
   "execution_count": 81,
   "id": "1296dfc4",
   "metadata": {},
   "outputs": [
    {
     "name": "stdout",
     "output_type": "stream",
     "text": [
      "total votes: 36\n",
      " 2  12201376 (5)\n",
      "-- 2012-08-30 rep +5    = 6         \n",
      " 2  13822612 (10)\n",
      "-- 2012-12-11 rep +10   = 16        \n",
      " 2  13822612 (10)\n",
      "-- 2013-03-20 rep +10   = 26        \n",
      "-- 2013-12-05 rep 0 \n"
     ]
    }
   ],
   "source": [
    "print(rep[0:200])"
   ]
  },
  {
   "cell_type": "code",
   "execution_count": 84,
   "id": "c91fad4d",
   "metadata": {},
   "outputs": [
    {
     "name": "stdout",
     "output_type": "stream",
     "text": [
      "[('2012-08-30', '+5', '6'), ('2012-12-11', '+10', '16'), ('2013-03-20', '+10', '26'), ('2013-12-05', '0', '26'), ('2014-01-25', '0', '26'), ('2014-03-19', '+2', '28'), ('2014-05-11', '+2', '30'), ('2014-05-12', '+12', '42'), ('2014-06-12', '+10', '52'), ('2014-06-26', '+10', '62'), ('2014-07-05', '0', '62'), ('2014-09-02', '0', '62'), ('2014-09-03', '+10', '72'), ('2014-10-28', '0', '72'), ('2014-11-14', '+10', '82'), ('2014-11-18', '+2', '84'), ('2014-12-08', '+2', '86'), ('2014-12-09', '+10', '96'), ('2014-12-12', '+2', '98'), ('2014-12-24', '+10', '108'), ('2015-02-03', '0', '108'), ('2015-02-20', '+10', '118'), ('2015-03-28', '+10', '128'), ('2015-04-26', '+10', '138'), ('2015-05-05', '+10', '148'), ('2015-05-26', '+10', '158'), ('2015-05-27', '+20', '178'), ('2015-06-09', '0', '178'), ('2015-07-03', '+10', '188'), ('2015-07-06', '0', '188'), ('2015-07-22', '+110', '298'), ('2015-08-21', '+10', '308'), ('2015-09-07', '+10', '318'), ('2015-10-14', '-1', '317')]\n"
     ]
    }
   ],
   "source": [
    "# re.VERBOSE --> Escape spaces \\\n",
    "\n",
    "print(re.findall(r'''\n",
    "                 --\\                            # two dashes and a space      \n",
    "                 (\\d{4}\\-\\d{2}\\-\\d{2})\\         # match group 1 is a date, then a space\n",
    "                 rep\\                           # rep, then a space\n",
    "                 ([\\+\\-]?\\d+)\\ +                # match group 2 is rep change with optional sign, then multiple spaces\n",
    "                 \\=\\                            # equal sign, then a space\n",
    "                 (\\d+)                          # match group 3 is running total\n",
    "                 ''', rep, flags=re.VERBOSE))"
   ]
  },
  {
   "cell_type": "markdown",
   "id": "e3e168c6",
   "metadata": {},
   "source": [
    "# Intermediate Regex Exercise 2"
   ]
  },
  {
   "cell_type": "code",
   "execution_count": 2,
   "id": "54a7dacd",
   "metadata": {},
   "outputs": [
    {
     "name": "stdout",
     "output_type": "stream",
     "text": [
      "FAA Contract Tower Closure List\n",
      "(149 FCTs)\n",
      "3-22-2013\n",
      "LOC\n",
      "ID Facility Name City State\n",
      "DHN DOTHAN RGNL DOTHAN AL\n",
      "TCL TUSCALOOSA RGNL TUSCALOOSA AL\n",
      "FYV DRAKE FIELD FAYETTEVILLE AR\n",
      "TXK TEXARKANA RGNL-WEBB\n"
     ]
    }
   ],
   "source": [
    "with open ('C:/Users/go27s/OneDrive/Documents/regex_course/regex-course/data/faa.txt') as f:\n",
    "    tower = f.read()\n",
    "    \n",
    "print(tower[0:200])"
   ]
  },
  {
   "cell_type": "code",
   "execution_count": 3,
   "id": "5a60d18d",
   "metadata": {},
   "outputs": [
    {
     "data": {
      "text/plain": [
       "[('DHN', 'AL'),\n",
       " ('TCL', 'AL'),\n",
       " ('FYV', 'AR'),\n",
       " ('TXK', 'AR'),\n",
       " ('GEU', 'AZ'),\n",
       " ('GYR', 'AZ'),\n",
       " ('IFP', 'AZ'),\n",
       " ('RYN', 'AZ'),\n",
       " ('FUL', 'CA'),\n",
       " ('MER', 'CA')]"
      ]
     },
     "execution_count": 3,
     "metadata": {},
     "output_type": "execute_result"
    }
   ],
   "source": [
    "faa = re.findall(r'''\n",
    "                ([A-Z]{3})\\      # match group 1 is 3 character ID, then a space\n",
    "                .+\\              # multiple characters incl spaces, then a space\n",
    "                ([A-Z]{2})       # match group 2 is the 2 character State\n",
    "                '''     \n",
    "                 , tower\n",
    "                 , flags=re.VERBOSE)\n",
    "faa[0:10]"
   ]
  },
  {
   "cell_type": "code",
   "execution_count": 6,
   "id": "9232a535",
   "metadata": {},
   "outputs": [
    {
     "name": "stdout",
     "output_type": "stream",
     "text": [
      "total votes: 36\n",
      " 2  12201376 (5)\n",
      "-- 2012-08-30 rep +5    = 6         \n",
      " 2  13822612 (10)\n",
      "-- 2012-12-1\n"
     ]
    }
   ],
   "source": [
    "print(rep[0:100])"
   ]
  },
  {
   "cell_type": "code",
   "execution_count": 7,
   "id": "e42582e6",
   "metadata": {},
   "outputs": [],
   "source": [
    "s = '-- 2012-08-30 rep +5    = 6'"
   ]
  },
  {
   "cell_type": "code",
   "execution_count": 8,
   "id": "90794858",
   "metadata": {},
   "outputs": [
    {
     "data": {
      "text/plain": [
       "'2012-08-30'"
      ]
     },
     "execution_count": 8,
     "metadata": {},
     "output_type": "execute_result"
    }
   ],
   "source": [
    "re.search(r'\\d{4}-\\d{2}-\\d{2}', s).group()"
   ]
  },
  {
   "cell_type": "code",
   "execution_count": 9,
   "id": "94d12036",
   "metadata": {},
   "outputs": [],
   "source": [
    "date = re.compile(r'\\d{4}-\\d{2}-\\d{2}')"
   ]
  },
  {
   "cell_type": "code",
   "execution_count": 10,
   "id": "a1270965",
   "metadata": {},
   "outputs": [
    {
     "data": {
      "text/plain": [
       "'2012-08-30'"
      ]
     },
     "execution_count": 10,
     "metadata": {},
     "output_type": "execute_result"
    }
   ],
   "source": [
    "re.search(date, rep).group()"
   ]
  },
  {
   "cell_type": "code",
   "execution_count": 11,
   "id": "d642f78d",
   "metadata": {},
   "outputs": [
    {
     "name": "stdout",
     "output_type": "stream",
     "text": [
      "['2012-08-30', '2012-12-11', '2013-03-20', '2013-12-05', '2014-01-25', '2014-03-19', '2014-05-11', '2014-05-12', '2014-06-12', '2014-06-26', '2014-07-05', '2014-09-02', '2014-09-03', '2014-10-28', '2014-11-14', '2014-11-18', '2014-12-08', '2014-12-09', '2014-12-12', '2014-12-24', '2015-02-03', '2015-02-20', '2015-03-28', '2015-04-26', '2015-05-05', '2015-05-26', '2015-05-27', '2015-06-09', '2015-07-03', '2015-07-06', '2015-07-22', '2015-08-21', '2015-09-07', '2015-10-14', '2015-11-08', '2015-11-14', '2015-11-01', '2015-11-30', '2015-10-01', '2015-12-31', '2015-01-01', '2015-12-31']\n"
     ]
    }
   ],
   "source": [
    "print(re.findall(date, rep))"
   ]
  },
  {
   "cell_type": "markdown",
   "id": "006eac3a",
   "metadata": {},
   "source": [
    "# span() method\n",
    "finds the position of the pattern"
   ]
  },
  {
   "cell_type": "code",
   "execution_count": 14,
   "id": "3e6de32b",
   "metadata": {},
   "outputs": [
    {
     "data": {
      "text/plain": [
       "(3, 13)"
      ]
     },
     "execution_count": 14,
     "metadata": {},
     "output_type": "execute_result"
    }
   ],
   "source": [
    "re.search(date, s).span()"
   ]
  },
  {
   "cell_type": "markdown",
   "id": "0d1a27cc",
   "metadata": {},
   "source": [
    "# split() method\n",
    "splits the string based space, character, ets. For example s.split(' ').\n",
    "if we split by a character, this character gets removed from the pattern!!!!!!!!!!!!!!!!!!!!!!!!!!!!!!!"
   ]
  },
  {
   "cell_type": "code",
   "execution_count": 17,
   "id": "441852da",
   "metadata": {},
   "outputs": [
    {
     "data": {
      "text/plain": [
       "['hello', 'there']"
      ]
     },
     "execution_count": 17,
     "metadata": {},
     "output_type": "execute_result"
    }
   ],
   "source": [
    "'hello there'.split(' ')"
   ]
  },
  {
   "cell_type": "markdown",
   "id": "491c2f78",
   "metadata": {},
   "source": [
    "# re.split()\n",
    "we can split a string based on a regular expression pattern"
   ]
  },
  {
   "cell_type": "code",
   "execution_count": 19,
   "id": "be9f8a90",
   "metadata": {},
   "outputs": [
    {
     "data": {
      "text/plain": [
       "['-- ', ' rep +5    = 6']"
      ]
     },
     "execution_count": 19,
     "metadata": {},
     "output_type": "execute_result"
    }
   ],
   "source": [
    "re.split(date, s)"
   ]
  },
  {
   "cell_type": "markdown",
   "id": "55c90cf0",
   "metadata": {},
   "source": [
    "# Lookarounds"
   ]
  },
  {
   "cell_type": "markdown",
   "id": "f8d9eb28",
   "metadata": {},
   "source": [
    "Lookahead --> (?=)"
   ]
  },
  {
   "cell_type": "code",
   "execution_count": 52,
   "id": "f2505b7c",
   "metadata": {},
   "outputs": [],
   "source": [
    "s = 'Quicksand is a word that makes it sounds like sand is quick. However , to say sandquick or even quick-sand would just be wrong.'"
   ]
  },
  {
   "cell_type": "code",
   "execution_count": 56,
   "id": "ce3d948e",
   "metadata": {},
   "outputs": [
    {
     "data": {
      "text/plain": [
       "['sand']"
      ]
     },
     "execution_count": 56,
     "metadata": {},
     "output_type": "execute_result"
    }
   ],
   "source": [
    "re.findall(r'''\n",
    "           \\bsand(?=\\w+)   # we're looking for a word that starts with sand which is followed by any word characters\n",
    "           '''\n",
    "           , s\n",
    "          ,flags=re.VERBOSE)"
   ]
  },
  {
   "cell_type": "markdown",
   "id": "551dcaa5",
   "metadata": {},
   "source": [
    "# Intermediate Homework"
   ]
  },
  {
   "cell_type": "code",
   "execution_count": 2,
   "id": "b84cea62",
   "metadata": {},
   "outputs": [
    {
     "data": {
      "text/html": [
       "<div>\n",
       "<style scoped>\n",
       "    .dataframe tbody tr th:only-of-type {\n",
       "        vertical-align: middle;\n",
       "    }\n",
       "\n",
       "    .dataframe tbody tr th {\n",
       "        vertical-align: top;\n",
       "    }\n",
       "\n",
       "    .dataframe thead th {\n",
       "        text-align: right;\n",
       "    }\n",
       "</style>\n",
       "<table border=\"1\" class=\"dataframe\">\n",
       "  <thead>\n",
       "    <tr style=\"text-align: right;\">\n",
       "      <th></th>\n",
       "      <th>0</th>\n",
       "      <th>1</th>\n",
       "      <th>2</th>\n",
       "      <th>3</th>\n",
       "      <th>4</th>\n",
       "      <th>5</th>\n",
       "      <th>6</th>\n",
       "      <th>7</th>\n",
       "      <th>8</th>\n",
       "      <th>9</th>\n",
       "      <th>10</th>\n",
       "    </tr>\n",
       "  </thead>\n",
       "  <tbody>\n",
       "    <tr>\n",
       "      <th>0</th>\n",
       "      <td>10/10/1949 20:30</td>\n",
       "      <td>san marcos</td>\n",
       "      <td>tx</td>\n",
       "      <td>us</td>\n",
       "      <td>cylinder</td>\n",
       "      <td>2700</td>\n",
       "      <td>45 minutes</td>\n",
       "      <td>This event took place in early fall around 194...</td>\n",
       "      <td>4/27/2004</td>\n",
       "      <td>29.883056</td>\n",
       "      <td>-97.941111</td>\n",
       "    </tr>\n",
       "    <tr>\n",
       "      <th>1</th>\n",
       "      <td>10/10/1949 21:00</td>\n",
       "      <td>lackland afb</td>\n",
       "      <td>tx</td>\n",
       "      <td>NaN</td>\n",
       "      <td>light</td>\n",
       "      <td>7200</td>\n",
       "      <td>1-2 hrs</td>\n",
       "      <td>1949 Lackland AFB&amp;#44 TX.  Lights racing acros...</td>\n",
       "      <td>12/16/2005</td>\n",
       "      <td>29.384210</td>\n",
       "      <td>-98.581082</td>\n",
       "    </tr>\n",
       "    <tr>\n",
       "      <th>2</th>\n",
       "      <td>10/10/1955 17:00</td>\n",
       "      <td>chester (uk/england)</td>\n",
       "      <td>NaN</td>\n",
       "      <td>gb</td>\n",
       "      <td>circle</td>\n",
       "      <td>20</td>\n",
       "      <td>20 seconds</td>\n",
       "      <td>Green/Orange circular disc over Chester&amp;#44 En...</td>\n",
       "      <td>1/21/2008</td>\n",
       "      <td>53.200000</td>\n",
       "      <td>-2.916667</td>\n",
       "    </tr>\n",
       "    <tr>\n",
       "      <th>3</th>\n",
       "      <td>10/10/1956 21:00</td>\n",
       "      <td>edna</td>\n",
       "      <td>tx</td>\n",
       "      <td>us</td>\n",
       "      <td>circle</td>\n",
       "      <td>20</td>\n",
       "      <td>1/2 hour</td>\n",
       "      <td>My older brother and twin sister were leaving ...</td>\n",
       "      <td>1/17/2004</td>\n",
       "      <td>28.978333</td>\n",
       "      <td>-96.645833</td>\n",
       "    </tr>\n",
       "    <tr>\n",
       "      <th>4</th>\n",
       "      <td>10/10/1960 20:00</td>\n",
       "      <td>kaneohe</td>\n",
       "      <td>hi</td>\n",
       "      <td>us</td>\n",
       "      <td>light</td>\n",
       "      <td>900</td>\n",
       "      <td>15 minutes</td>\n",
       "      <td>AS a Marine 1st Lt. flying an FJ4B fighter/att...</td>\n",
       "      <td>1/22/2004</td>\n",
       "      <td>21.418056</td>\n",
       "      <td>-157.803611</td>\n",
       "    </tr>\n",
       "  </tbody>\n",
       "</table>\n",
       "</div>"
      ],
      "text/plain": [
       "                 0                     1    2    3         4     5   \\\n",
       "0  10/10/1949 20:30            san marcos   tx   us  cylinder  2700   \n",
       "1  10/10/1949 21:00          lackland afb   tx  NaN     light  7200   \n",
       "2  10/10/1955 17:00  chester (uk/england)  NaN   gb    circle    20   \n",
       "3  10/10/1956 21:00                  edna   tx   us    circle    20   \n",
       "4  10/10/1960 20:00               kaneohe   hi   us     light   900   \n",
       "\n",
       "           6                                                  7           8   \\\n",
       "0  45 minutes  This event took place in early fall around 194...   4/27/2004   \n",
       "1     1-2 hrs  1949 Lackland AFB&#44 TX.  Lights racing acros...  12/16/2005   \n",
       "2  20 seconds  Green/Orange circular disc over Chester&#44 En...   1/21/2008   \n",
       "3    1/2 hour  My older brother and twin sister were leaving ...   1/17/2004   \n",
       "4  15 minutes  AS a Marine 1st Lt. flying an FJ4B fighter/att...   1/22/2004   \n",
       "\n",
       "          9           10  \n",
       "0  29.883056  -97.941111  \n",
       "1  29.384210  -98.581082  \n",
       "2  53.200000   -2.916667  \n",
       "3  28.978333  -96.645833  \n",
       "4  21.418056 -157.803611  "
      ]
     },
     "execution_count": 2,
     "metadata": {},
     "output_type": "execute_result"
    }
   ],
   "source": [
    "ufo = pd.read_csv('https://raw.githubusercontent.com/planetsig/ufo-reports/master/csv-data/ufo-scrubbed-geocoded-time-standardized.csv'\n",
    "                  , header=None, nrows=100)\n",
    "\n",
    "ufo.head()"
   ]
  },
  {
   "cell_type": "code",
   "execution_count": 3,
   "id": "72c09517",
   "metadata": {},
   "outputs": [
    {
     "data": {
      "text/plain": [
       "['45 minutes',\n",
       " '1-2 hrs',\n",
       " '20 seconds',\n",
       " '1/2 hour',\n",
       " '15 minutes',\n",
       " '5 minutes',\n",
       " 'about 3 mins',\n",
       " '20 minutes',\n",
       " '3  minutes',\n",
       " 'several minutes']"
      ]
     },
     "execution_count": 3,
     "metadata": {},
     "output_type": "execute_result"
    }
   ],
   "source": [
    "time = ufo[6].to_list()\n",
    "time[0:10]"
   ]
  },
  {
   "cell_type": "markdown",
   "id": "e0056f86",
   "metadata": {},
   "source": [
    "clean_durations = [('45 minutes', '45', 'min'), ('1-2 hrs', '1', 'hr'), ('20 seconds', '20', 'sec'), ...]"
   ]
  },
  {
   "cell_type": "code",
   "execution_count": 42,
   "id": "8a5a1d15",
   "metadata": {},
   "outputs": [
    {
     "data": {
      "text/plain": [
       "[['45'],\n",
       " ['1', '2'],\n",
       " ['20'],\n",
       " ['1', '2'],\n",
       " ['15'],\n",
       " ['5'],\n",
       " ['3'],\n",
       " ['20'],\n",
       " ['3'],\n",
       " [],\n",
       " ['5'],\n",
       " ['3'],\n",
       " ['30'],\n",
       " ['3'],\n",
       " ['30'],\n",
       " ['20'],\n",
       " ['2'],\n",
       " ['20', '30'],\n",
       " ['20'],\n",
       " ['45'],\n",
       " ['20'],\n",
       " [],\n",
       " ['5', '6'],\n",
       " ['1'],\n",
       " ['3'],\n",
       " ['30'],\n",
       " ['30'],\n",
       " ['5'],\n",
       " ['15'],\n",
       " ['4', '5'],\n",
       " ['3'],\n",
       " ['30'],\n",
       " ['3'],\n",
       " ['5'],\n",
       " ['3', '5'],\n",
       " ['2'],\n",
       " ['1'],\n",
       " [],\n",
       " ['15', '20'],\n",
       " ['10'],\n",
       " ['3'],\n",
       " ['10'],\n",
       " [],\n",
       " ['1'],\n",
       " ['2'],\n",
       " ['5'],\n",
       " ['1'],\n",
       " ['3'],\n",
       " ['2'],\n",
       " ['30'],\n",
       " ['10'],\n",
       " ['1'],\n",
       " ['10'],\n",
       " ['1', '39'],\n",
       " ['30'],\n",
       " ['20'],\n",
       " ['8'],\n",
       " ['1'],\n",
       " ['1'],\n",
       " ['2'],\n",
       " ['5'],\n",
       " ['1'],\n",
       " ['2'],\n",
       " ['1'],\n",
       " ['3'],\n",
       " ['5'],\n",
       " ['5'],\n",
       " ['1'],\n",
       " ['4'],\n",
       " ['30'],\n",
       " ['5'],\n",
       " ['1'],\n",
       " ['5'],\n",
       " ['10', '15'],\n",
       " ['30'],\n",
       " ['10'],\n",
       " ['45'],\n",
       " ['1'],\n",
       " ['10'],\n",
       " ['2'],\n",
       " ['2'],\n",
       " ['15'],\n",
       " ['1'],\n",
       " ['5', '10'],\n",
       " ['10'],\n",
       " ['1'],\n",
       " ['45'],\n",
       " ['60', '90'],\n",
       " ['3'],\n",
       " ['5'],\n",
       " [],\n",
       " ['4'],\n",
       " ['45'],\n",
       " ['3'],\n",
       " ['10'],\n",
       " ['30'],\n",
       " ['45'],\n",
       " ['15'],\n",
       " ['30'],\n",
       " ['4', '5']]"
      ]
     },
     "execution_count": 42,
     "metadata": {},
     "output_type": "execute_result"
    }
   ],
   "source": [
    "# title = [re.sub(r'^(The |A |An )(.+)', r'\\2, \\1', title) for title in titles]\n",
    "# title[0:10]\n",
    "\n",
    "\n",
    "match= [re.findall(r'\\d+', t) for t in time]\n",
    "match[0:100]"
   ]
  }
 ],
 "metadata": {
  "kernelspec": {
   "display_name": "Python 3 (ipykernel)",
   "language": "python",
   "name": "python3"
  },
  "language_info": {
   "codemirror_mode": {
    "name": "ipython",
    "version": 3
   },
   "file_extension": ".py",
   "mimetype": "text/x-python",
   "name": "python",
   "nbconvert_exporter": "python",
   "pygments_lexer": "ipython3",
   "version": "3.11.5"
  }
 },
 "nbformat": 4,
 "nbformat_minor": 5
}
