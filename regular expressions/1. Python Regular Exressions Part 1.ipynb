{
 "cells": [
  {
   "cell_type": "code",
   "execution_count": 1,
   "id": "e035b522",
   "metadata": {},
   "outputs": [],
   "source": [
    "#https://www.youtube.com/watch?v=VU60rEXaOXk&list=PLGKQkV4guDKH1TpfM-FvPGLUyjsPGdXOg&ab_channel=PyMoondra"
   ]
  },
  {
   "cell_type": "code",
   "execution_count": null,
   "id": "ccdffc01",
   "metadata": {},
   "outputs": [],
   "source": [
    "'\\n'  --> new line in python, one-character element\n",
    "'\\t'  --> a tab in python\n",
    "\n",
    "# If we add r'\\n'  then \\n is a two-character element\n",
    "\n",
    "# r --> raw string\n",
    "# r doesn't affect the pattern/regualr expression eg \\n, but it affects the string eg backslash will loose its meaning"
   ]
  },
  {
   "cell_type": "code",
   "execution_count": 2,
   "id": "d7fa2f48",
   "metadata": {},
   "outputs": [],
   "source": [
    "import re"
   ]
  },
  {
   "cell_type": "code",
   "execution_count": 6,
   "id": "b890e179",
   "metadata": {},
   "outputs": [],
   "source": [
    "# First item is a pattern and the second is a string\n",
    "# No result because \\n is a new line\n",
    "\n",
    "re.search('n', '\\n')"
   ]
  },
  {
   "cell_type": "code",
   "execution_count": 7,
   "id": "5f83e10f",
   "metadata": {},
   "outputs": [
    {
     "data": {
      "text/plain": [
       "<re.Match object; span=(1, 2), match='n'>"
      ]
     },
     "execution_count": 7,
     "metadata": {},
     "output_type": "execute_result"
    }
   ],
   "source": [
    "# if we use 2 \\\\, we get a amatch\n",
    "\n",
    "re.search('n', '\\\\n')    # we are getting rid of Python backslash special meaning"
   ]
  },
  {
   "cell_type": "code",
   "execution_count": 9,
   "id": "7795dbf4",
   "metadata": {},
   "outputs": [
    {
     "data": {
      "text/plain": [
       "<re.Match object; span=(1, 2), match='n'>"
      ]
     },
     "execution_count": 9,
     "metadata": {},
     "output_type": "execute_result"
    }
   ],
   "source": [
    "# We can use r instead of two \\\\\n",
    "# When aplied to a string:\n",
    "# '\\n'   --> this is a new line\n",
    "# r'\\n'  --> this is not a new line\n",
    "\n",
    "re.search('n', r'\\n')   # not a new line, so it works"
   ]
  },
  {
   "cell_type": "code",
   "execution_count": 10,
   "id": "f728a42e",
   "metadata": {},
   "outputs": [
    {
     "data": {
      "text/plain": [
       "<re.Match object; span=(0, 1), match='\\n'>"
      ]
     },
     "execution_count": 10,
     "metadata": {},
     "output_type": "execute_result"
    }
   ],
   "source": [
    "re.search(r'\\n', '\\n')     # pattern doesn't get affected by r"
   ]
  },
  {
   "cell_type": "code",
   "execution_count": 11,
   "id": "6c83af7c",
   "metadata": {},
   "outputs": [],
   "source": [
    "re.search(r'\\n', r'\\n')   # the string gets affected by r. No result"
   ]
  },
  {
   "cell_type": "code",
   "execution_count": null,
   "id": "6559c7b3",
   "metadata": {},
   "outputs": [],
   "source": []
  }
 ],
 "metadata": {
  "kernelspec": {
   "display_name": "Python 3 (ipykernel)",
   "language": "python",
   "name": "python3"
  },
  "language_info": {
   "codemirror_mode": {
    "name": "ipython",
    "version": 3
   },
   "file_extension": ".py",
   "mimetype": "text/x-python",
   "name": "python",
   "nbconvert_exporter": "python",
   "pygments_lexer": "ipython3",
   "version": "3.9.12"
  }
 },
 "nbformat": 4,
 "nbformat_minor": 5
}
