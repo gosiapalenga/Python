{
 "cells": [
  {
   "cell_type": "code",
   "execution_count": null,
   "id": "992b5ecf",
   "metadata": {},
   "outputs": [],
   "source": [
    "# Change column type to date\n",
    "# google['Date'] = pd.to_datetime(google['Date'])\n",
    "\n",
    "\n",
    "# Add Month and Year\n",
    "# google['Month']= google['Date'].dt.month\n",
    "# google['Year']= google['Date'].dt.year\n",
    "\n",
    "\n",
    "# Group closing price by month\n",
    "# google.groupby(by='Month')['Close'].mean()\n",
    "\n",
    "\n",
    "# Get lowest value of Closing price\n",
    "# google.sort_values(by='Close').head(1)\n",
    "# OR\n",
    "# idx_min = google['Close'].argmin()\n",
    "# google.iloc[[idx_min]]                                  # two sets of [[]] for 2 dimensional output\n",
    "\n",
    "\n",
    "# Change index to first column (after the index)\n",
    "# google = pd.read_csv(\"google.csv\", index_col=0)        # 'Date' column becomes an index\n",
    "\n",
    "\n",
    "# Drop columns\n",
    "# google = google.drop(columns=['Month', 'Year'])\n",
    "\n",
    "\n",
    "# rename columns\n",
    "# google.rename(columns={'Open': 'O', 'High': 'H', 'Low': 'L', 'Close': 'C', 'Volume': 'V'}, inplace=True)"
   ]
  },
  {
   "cell_type": "code",
   "execution_count": 1,
   "id": "b1d77ed8",
   "metadata": {},
   "outputs": [],
   "source": [
    "import pandas as pd"
   ]
  },
  {
   "cell_type": "code",
   "execution_count": 29,
   "id": "8eab312a",
   "metadata": {},
   "outputs": [
    {
     "data": {
      "text/html": [
       "<div>\n",
       "<style scoped>\n",
       "    .dataframe tbody tr th:only-of-type {\n",
       "        vertical-align: middle;\n",
       "    }\n",
       "\n",
       "    .dataframe tbody tr th {\n",
       "        vertical-align: top;\n",
       "    }\n",
       "\n",
       "    .dataframe thead th {\n",
       "        text-align: right;\n",
       "    }\n",
       "</style>\n",
       "<table border=\"1\" class=\"dataframe\">\n",
       "  <thead>\n",
       "    <tr style=\"text-align: right;\">\n",
       "      <th></th>\n",
       "      <th>Date</th>\n",
       "      <th>Open</th>\n",
       "      <th>High</th>\n",
       "      <th>Low</th>\n",
       "      <th>Close</th>\n",
       "      <th>Volume</th>\n",
       "    </tr>\n",
       "  </thead>\n",
       "  <tbody>\n",
       "    <tr>\n",
       "      <th>0</th>\n",
       "      <td>2020-07-02</td>\n",
       "      <td>1451.84</td>\n",
       "      <td>1488.52</td>\n",
       "      <td>1451.0650</td>\n",
       "      <td>1469.93</td>\n",
       "      <td>2860915</td>\n",
       "    </tr>\n",
       "    <tr>\n",
       "      <th>1</th>\n",
       "      <td>2020-07-01</td>\n",
       "      <td>1419.17</td>\n",
       "      <td>1448.48</td>\n",
       "      <td>1414.1800</td>\n",
       "      <td>1442.00</td>\n",
       "      <td>2109124</td>\n",
       "    </tr>\n",
       "    <tr>\n",
       "      <th>2</th>\n",
       "      <td>2020-06-30</td>\n",
       "      <td>1396.88</td>\n",
       "      <td>1424.00</td>\n",
       "      <td>1386.9301</td>\n",
       "      <td>1418.05</td>\n",
       "      <td>2014320</td>\n",
       "    </tr>\n",
       "    <tr>\n",
       "      <th>3</th>\n",
       "      <td>2020-06-29</td>\n",
       "      <td>1360.34</td>\n",
       "      <td>1398.00</td>\n",
       "      <td>1351.6500</td>\n",
       "      <td>1397.17</td>\n",
       "      <td>2253678</td>\n",
       "    </tr>\n",
       "    <tr>\n",
       "      <th>4</th>\n",
       "      <td>2020-06-26</td>\n",
       "      <td>1432.63</td>\n",
       "      <td>1437.02</td>\n",
       "      <td>1355.0000</td>\n",
       "      <td>1362.54</td>\n",
       "      <td>4882014</td>\n",
       "    </tr>\n",
       "  </tbody>\n",
       "</table>\n",
       "</div>"
      ],
      "text/plain": [
       "         Date     Open     High        Low    Close   Volume\n",
       "0  2020-07-02  1451.84  1488.52  1451.0650  1469.93  2860915\n",
       "1  2020-07-01  1419.17  1448.48  1414.1800  1442.00  2109124\n",
       "2  2020-06-30  1396.88  1424.00  1386.9301  1418.05  2014320\n",
       "3  2020-06-29  1360.34  1398.00  1351.6500  1397.17  2253678\n",
       "4  2020-06-26  1432.63  1437.02  1355.0000  1362.54  4882014"
      ]
     },
     "execution_count": 29,
     "metadata": {},
     "output_type": "execute_result"
    }
   ],
   "source": [
    "google = pd.read_csv(\"google.csv\")\n",
    "google. head()"
   ]
  },
  {
   "cell_type": "code",
   "execution_count": 19,
   "id": "20bdb389",
   "metadata": {},
   "outputs": [
    {
     "name": "stdout",
     "output_type": "stream",
     "text": [
      "<class 'pandas.core.frame.DataFrame'>\n",
      "RangeIndex: 30 entries, 0 to 29\n",
      "Data columns (total 6 columns):\n",
      " #   Column  Non-Null Count  Dtype  \n",
      "---  ------  --------------  -----  \n",
      " 0   Date    30 non-null     object \n",
      " 1   Open    30 non-null     float64\n",
      " 2   High    30 non-null     float64\n",
      " 3   Low     30 non-null     float64\n",
      " 4   Close   30 non-null     float64\n",
      " 5   Volume  30 non-null     int64  \n",
      "dtypes: float64(4), int64(1), object(1)\n",
      "memory usage: 1.5+ KB\n",
      "None\n",
      "\n",
      "              Open         High          Low        Close        Volume\n",
      "count    30.000000    30.000000    30.000000    30.000000  3.000000e+01\n",
      "mean   1428.889000  1445.470440  1412.767923  1430.681000  1.869471e+06\n",
      "std      22.943586    19.462454    24.728358    22.717075  7.014872e+05\n",
      "min    1360.340000  1398.000000  1351.650000  1362.540000  1.172069e+06\n",
      "25%    1419.377500  1436.802500  1396.565000  1418.097500  1.528364e+06\n",
      "50%    1431.925000  1444.805000  1419.095000  1433.820000  1.687518e+06\n",
      "75%    1444.605000  1452.628250  1428.301250  1445.430000  2.085423e+06\n",
      "max    1463.280000  1488.520000  1454.355000  1469.930000  4.882014e+06\n"
     ]
    }
   ],
   "source": [
    "print(google.info())\n",
    "print()\n",
    "print(google.describe())"
   ]
  },
  {
   "cell_type": "code",
   "execution_count": 20,
   "id": "800727ad",
   "metadata": {},
   "outputs": [],
   "source": [
    "google = google.set_index('Date')"
   ]
  },
  {
   "cell_type": "code",
   "execution_count": 21,
   "id": "5fac7e4b",
   "metadata": {},
   "outputs": [
    {
     "data": {
      "text/html": [
       "<div>\n",
       "<style scoped>\n",
       "    .dataframe tbody tr th:only-of-type {\n",
       "        vertical-align: middle;\n",
       "    }\n",
       "\n",
       "    .dataframe tbody tr th {\n",
       "        vertical-align: top;\n",
       "    }\n",
       "\n",
       "    .dataframe thead th {\n",
       "        text-align: right;\n",
       "    }\n",
       "</style>\n",
       "<table border=\"1\" class=\"dataframe\">\n",
       "  <thead>\n",
       "    <tr style=\"text-align: right;\">\n",
       "      <th></th>\n",
       "      <th>Open</th>\n",
       "      <th>High</th>\n",
       "      <th>Low</th>\n",
       "      <th>Close</th>\n",
       "      <th>Volume</th>\n",
       "    </tr>\n",
       "    <tr>\n",
       "      <th>Date</th>\n",
       "      <th></th>\n",
       "      <th></th>\n",
       "      <th></th>\n",
       "      <th></th>\n",
       "      <th></th>\n",
       "    </tr>\n",
       "  </thead>\n",
       "  <tbody>\n",
       "    <tr>\n",
       "      <th>2020-07-02</th>\n",
       "      <td>1451.84</td>\n",
       "      <td>1488.52</td>\n",
       "      <td>1451.0650</td>\n",
       "      <td>1469.93</td>\n",
       "      <td>2860915</td>\n",
       "    </tr>\n",
       "    <tr>\n",
       "      <th>2020-07-01</th>\n",
       "      <td>1419.17</td>\n",
       "      <td>1448.48</td>\n",
       "      <td>1414.1800</td>\n",
       "      <td>1442.00</td>\n",
       "      <td>2109124</td>\n",
       "    </tr>\n",
       "    <tr>\n",
       "      <th>2020-06-30</th>\n",
       "      <td>1396.88</td>\n",
       "      <td>1424.00</td>\n",
       "      <td>1386.9301</td>\n",
       "      <td>1418.05</td>\n",
       "      <td>2014320</td>\n",
       "    </tr>\n",
       "    <tr>\n",
       "      <th>2020-06-29</th>\n",
       "      <td>1360.34</td>\n",
       "      <td>1398.00</td>\n",
       "      <td>1351.6500</td>\n",
       "      <td>1397.17</td>\n",
       "      <td>2253678</td>\n",
       "    </tr>\n",
       "    <tr>\n",
       "      <th>2020-06-26</th>\n",
       "      <td>1432.63</td>\n",
       "      <td>1437.02</td>\n",
       "      <td>1355.0000</td>\n",
       "      <td>1362.54</td>\n",
       "      <td>4882014</td>\n",
       "    </tr>\n",
       "  </tbody>\n",
       "</table>\n",
       "</div>"
      ],
      "text/plain": [
       "               Open     High        Low    Close   Volume\n",
       "Date                                                     \n",
       "2020-07-02  1451.84  1488.52  1451.0650  1469.93  2860915\n",
       "2020-07-01  1419.17  1448.48  1414.1800  1442.00  2109124\n",
       "2020-06-30  1396.88  1424.00  1386.9301  1418.05  2014320\n",
       "2020-06-29  1360.34  1398.00  1351.6500  1397.17  2253678\n",
       "2020-06-26  1432.63  1437.02  1355.0000  1362.54  4882014"
      ]
     },
     "execution_count": 21,
     "metadata": {},
     "output_type": "execute_result"
    }
   ],
   "source": [
    "google.head()"
   ]
  },
  {
   "cell_type": "code",
   "execution_count": null,
   "id": "f4e66b36",
   "metadata": {},
   "outputs": [],
   "source": []
  },
  {
   "cell_type": "code",
   "execution_count": 25,
   "id": "29699c81",
   "metadata": {},
   "outputs": [],
   "source": [
    "google.reset_index(inplace=True)"
   ]
  },
  {
   "cell_type": "code",
   "execution_count": 30,
   "id": "46c6b922",
   "metadata": {},
   "outputs": [
    {
     "data": {
      "text/html": [
       "<div>\n",
       "<style scoped>\n",
       "    .dataframe tbody tr th:only-of-type {\n",
       "        vertical-align: middle;\n",
       "    }\n",
       "\n",
       "    .dataframe tbody tr th {\n",
       "        vertical-align: top;\n",
       "    }\n",
       "\n",
       "    .dataframe thead th {\n",
       "        text-align: right;\n",
       "    }\n",
       "</style>\n",
       "<table border=\"1\" class=\"dataframe\">\n",
       "  <thead>\n",
       "    <tr style=\"text-align: right;\">\n",
       "      <th></th>\n",
       "      <th>Date</th>\n",
       "      <th>Open</th>\n",
       "      <th>High</th>\n",
       "      <th>Low</th>\n",
       "      <th>Close</th>\n",
       "      <th>Volume</th>\n",
       "    </tr>\n",
       "  </thead>\n",
       "  <tbody>\n",
       "    <tr>\n",
       "      <th>0</th>\n",
       "      <td>2020-07-02</td>\n",
       "      <td>1451.84</td>\n",
       "      <td>1488.52</td>\n",
       "      <td>1451.065</td>\n",
       "      <td>1469.93</td>\n",
       "      <td>2860915</td>\n",
       "    </tr>\n",
       "    <tr>\n",
       "      <th>1</th>\n",
       "      <td>2020-07-01</td>\n",
       "      <td>1419.17</td>\n",
       "      <td>1448.48</td>\n",
       "      <td>1414.180</td>\n",
       "      <td>1442.00</td>\n",
       "      <td>2109124</td>\n",
       "    </tr>\n",
       "  </tbody>\n",
       "</table>\n",
       "</div>"
      ],
      "text/plain": [
       "         Date     Open     High       Low    Close   Volume\n",
       "0  2020-07-02  1451.84  1488.52  1451.065  1469.93  2860915\n",
       "1  2020-07-01  1419.17  1448.48  1414.180  1442.00  2109124"
      ]
     },
     "execution_count": 30,
     "metadata": {},
     "output_type": "execute_result"
    }
   ],
   "source": [
    "google.head(2)"
   ]
  },
  {
   "cell_type": "code",
   "execution_count": 32,
   "id": "13480a90",
   "metadata": {},
   "outputs": [],
   "source": [
    "google['Date'] = pd.to_datetime(google['Date'])"
   ]
  },
  {
   "cell_type": "code",
   "execution_count": 33,
   "id": "00bfeba3",
   "metadata": {},
   "outputs": [],
   "source": [
    "google['Month'] = google['Date'].dt.month\n",
    "google['Year'] = google['Date'].dt.year"
   ]
  },
  {
   "cell_type": "code",
   "execution_count": 34,
   "id": "10c8621a",
   "metadata": {},
   "outputs": [
    {
     "data": {
      "text/html": [
       "<div>\n",
       "<style scoped>\n",
       "    .dataframe tbody tr th:only-of-type {\n",
       "        vertical-align: middle;\n",
       "    }\n",
       "\n",
       "    .dataframe tbody tr th {\n",
       "        vertical-align: top;\n",
       "    }\n",
       "\n",
       "    .dataframe thead th {\n",
       "        text-align: right;\n",
       "    }\n",
       "</style>\n",
       "<table border=\"1\" class=\"dataframe\">\n",
       "  <thead>\n",
       "    <tr style=\"text-align: right;\">\n",
       "      <th></th>\n",
       "      <th>Date</th>\n",
       "      <th>Open</th>\n",
       "      <th>High</th>\n",
       "      <th>Low</th>\n",
       "      <th>Close</th>\n",
       "      <th>Volume</th>\n",
       "      <th>Month</th>\n",
       "      <th>Year</th>\n",
       "    </tr>\n",
       "  </thead>\n",
       "  <tbody>\n",
       "    <tr>\n",
       "      <th>0</th>\n",
       "      <td>2020-07-02</td>\n",
       "      <td>1451.84</td>\n",
       "      <td>1488.52</td>\n",
       "      <td>1451.065</td>\n",
       "      <td>1469.93</td>\n",
       "      <td>2860915</td>\n",
       "      <td>7</td>\n",
       "      <td>2020</td>\n",
       "    </tr>\n",
       "    <tr>\n",
       "      <th>1</th>\n",
       "      <td>2020-07-01</td>\n",
       "      <td>1419.17</td>\n",
       "      <td>1448.48</td>\n",
       "      <td>1414.180</td>\n",
       "      <td>1442.00</td>\n",
       "      <td>2109124</td>\n",
       "      <td>7</td>\n",
       "      <td>2020</td>\n",
       "    </tr>\n",
       "  </tbody>\n",
       "</table>\n",
       "</div>"
      ],
      "text/plain": [
       "        Date     Open     High       Low    Close   Volume  Month  Year\n",
       "0 2020-07-02  1451.84  1488.52  1451.065  1469.93  2860915      7  2020\n",
       "1 2020-07-01  1419.17  1448.48  1414.180  1442.00  2109124      7  2020"
      ]
     },
     "execution_count": 34,
     "metadata": {},
     "output_type": "execute_result"
    }
   ],
   "source": [
    "google.head(2)"
   ]
  },
  {
   "cell_type": "code",
   "execution_count": null,
   "id": "8d432d78",
   "metadata": {},
   "outputs": [],
   "source": []
  },
  {
   "cell_type": "code",
   "execution_count": null,
   "id": "7a7b9791",
   "metadata": {},
   "outputs": [],
   "source": []
  },
  {
   "cell_type": "code",
   "execution_count": 36,
   "id": "72afb184",
   "metadata": {},
   "outputs": [],
   "source": [
    "google = pd.read_csv(\"google.csv\", index_col =0)"
   ]
  },
  {
   "cell_type": "code",
   "execution_count": 37,
   "id": "ba5dab1a",
   "metadata": {},
   "outputs": [
    {
     "data": {
      "text/html": [
       "<div>\n",
       "<style scoped>\n",
       "    .dataframe tbody tr th:only-of-type {\n",
       "        vertical-align: middle;\n",
       "    }\n",
       "\n",
       "    .dataframe tbody tr th {\n",
       "        vertical-align: top;\n",
       "    }\n",
       "\n",
       "    .dataframe thead th {\n",
       "        text-align: right;\n",
       "    }\n",
       "</style>\n",
       "<table border=\"1\" class=\"dataframe\">\n",
       "  <thead>\n",
       "    <tr style=\"text-align: right;\">\n",
       "      <th></th>\n",
       "      <th>Open</th>\n",
       "      <th>High</th>\n",
       "      <th>Low</th>\n",
       "      <th>Close</th>\n",
       "      <th>Volume</th>\n",
       "    </tr>\n",
       "    <tr>\n",
       "      <th>Date</th>\n",
       "      <th></th>\n",
       "      <th></th>\n",
       "      <th></th>\n",
       "      <th></th>\n",
       "      <th></th>\n",
       "    </tr>\n",
       "  </thead>\n",
       "  <tbody>\n",
       "    <tr>\n",
       "      <th>2020-07-02</th>\n",
       "      <td>1451.84</td>\n",
       "      <td>1488.52</td>\n",
       "      <td>1451.0650</td>\n",
       "      <td>1469.93</td>\n",
       "      <td>2860915</td>\n",
       "    </tr>\n",
       "    <tr>\n",
       "      <th>2020-07-01</th>\n",
       "      <td>1419.17</td>\n",
       "      <td>1448.48</td>\n",
       "      <td>1414.1800</td>\n",
       "      <td>1442.00</td>\n",
       "      <td>2109124</td>\n",
       "    </tr>\n",
       "    <tr>\n",
       "      <th>2020-06-30</th>\n",
       "      <td>1396.88</td>\n",
       "      <td>1424.00</td>\n",
       "      <td>1386.9301</td>\n",
       "      <td>1418.05</td>\n",
       "      <td>2014320</td>\n",
       "    </tr>\n",
       "    <tr>\n",
       "      <th>2020-06-29</th>\n",
       "      <td>1360.34</td>\n",
       "      <td>1398.00</td>\n",
       "      <td>1351.6500</td>\n",
       "      <td>1397.17</td>\n",
       "      <td>2253678</td>\n",
       "    </tr>\n",
       "    <tr>\n",
       "      <th>2020-06-26</th>\n",
       "      <td>1432.63</td>\n",
       "      <td>1437.02</td>\n",
       "      <td>1355.0000</td>\n",
       "      <td>1362.54</td>\n",
       "      <td>4882014</td>\n",
       "    </tr>\n",
       "  </tbody>\n",
       "</table>\n",
       "</div>"
      ],
      "text/plain": [
       "               Open     High        Low    Close   Volume\n",
       "Date                                                     \n",
       "2020-07-02  1451.84  1488.52  1451.0650  1469.93  2860915\n",
       "2020-07-01  1419.17  1448.48  1414.1800  1442.00  2109124\n",
       "2020-06-30  1396.88  1424.00  1386.9301  1418.05  2014320\n",
       "2020-06-29  1360.34  1398.00  1351.6500  1397.17  2253678\n",
       "2020-06-26  1432.63  1437.02  1355.0000  1362.54  4882014"
      ]
     },
     "execution_count": 37,
     "metadata": {},
     "output_type": "execute_result"
    }
   ],
   "source": [
    "google.head()"
   ]
  },
  {
   "cell_type": "code",
   "execution_count": 38,
   "id": "505f6758",
   "metadata": {},
   "outputs": [
    {
     "data": {
      "text/html": [
       "<div>\n",
       "<style scoped>\n",
       "    .dataframe tbody tr th:only-of-type {\n",
       "        vertical-align: middle;\n",
       "    }\n",
       "\n",
       "    .dataframe tbody tr th {\n",
       "        vertical-align: top;\n",
       "    }\n",
       "\n",
       "    .dataframe thead th {\n",
       "        text-align: right;\n",
       "    }\n",
       "</style>\n",
       "<table border=\"1\" class=\"dataframe\">\n",
       "  <thead>\n",
       "    <tr style=\"text-align: right;\">\n",
       "      <th></th>\n",
       "      <th>Date</th>\n",
       "      <th>Open</th>\n",
       "      <th>High</th>\n",
       "      <th>Low</th>\n",
       "      <th>Close</th>\n",
       "      <th>Volume</th>\n",
       "    </tr>\n",
       "  </thead>\n",
       "  <tbody>\n",
       "    <tr>\n",
       "      <th>0</th>\n",
       "      <td>2020-07-02</td>\n",
       "      <td>1451.84</td>\n",
       "      <td>1488.52</td>\n",
       "      <td>1451.065</td>\n",
       "      <td>1469.93</td>\n",
       "      <td>2860915</td>\n",
       "    </tr>\n",
       "    <tr>\n",
       "      <th>1</th>\n",
       "      <td>2020-07-01</td>\n",
       "      <td>1419.17</td>\n",
       "      <td>1448.48</td>\n",
       "      <td>1414.180</td>\n",
       "      <td>1442.00</td>\n",
       "      <td>2109124</td>\n",
       "    </tr>\n",
       "  </tbody>\n",
       "</table>\n",
       "</div>"
      ],
      "text/plain": [
       "         Date     Open     High       Low    Close   Volume\n",
       "0  2020-07-02  1451.84  1488.52  1451.065  1469.93  2860915\n",
       "1  2020-07-01  1419.17  1448.48  1414.180  1442.00  2109124"
      ]
     },
     "execution_count": 38,
     "metadata": {},
     "output_type": "execute_result"
    }
   ],
   "source": [
    "google.reset_index(inplace=True)\n",
    "google.head(2)"
   ]
  },
  {
   "cell_type": "code",
   "execution_count": 39,
   "id": "5000a124",
   "metadata": {},
   "outputs": [],
   "source": [
    "google['Date'] = pd.to_datetime(google['Date'])"
   ]
  },
  {
   "cell_type": "code",
   "execution_count": 40,
   "id": "e59eca2c",
   "metadata": {},
   "outputs": [
    {
     "data": {
      "text/html": [
       "<div>\n",
       "<style scoped>\n",
       "    .dataframe tbody tr th:only-of-type {\n",
       "        vertical-align: middle;\n",
       "    }\n",
       "\n",
       "    .dataframe tbody tr th {\n",
       "        vertical-align: top;\n",
       "    }\n",
       "\n",
       "    .dataframe thead th {\n",
       "        text-align: right;\n",
       "    }\n",
       "</style>\n",
       "<table border=\"1\" class=\"dataframe\">\n",
       "  <thead>\n",
       "    <tr style=\"text-align: right;\">\n",
       "      <th></th>\n",
       "      <th>Date</th>\n",
       "      <th>Open</th>\n",
       "      <th>High</th>\n",
       "      <th>Low</th>\n",
       "      <th>Close</th>\n",
       "      <th>Volume</th>\n",
       "      <th>Month</th>\n",
       "      <th>Year</th>\n",
       "    </tr>\n",
       "  </thead>\n",
       "  <tbody>\n",
       "    <tr>\n",
       "      <th>0</th>\n",
       "      <td>2020-07-02</td>\n",
       "      <td>1451.84</td>\n",
       "      <td>1488.52</td>\n",
       "      <td>1451.065</td>\n",
       "      <td>1469.93</td>\n",
       "      <td>2860915</td>\n",
       "      <td>7</td>\n",
       "      <td>2020</td>\n",
       "    </tr>\n",
       "    <tr>\n",
       "      <th>1</th>\n",
       "      <td>2020-07-01</td>\n",
       "      <td>1419.17</td>\n",
       "      <td>1448.48</td>\n",
       "      <td>1414.180</td>\n",
       "      <td>1442.00</td>\n",
       "      <td>2109124</td>\n",
       "      <td>7</td>\n",
       "      <td>2020</td>\n",
       "    </tr>\n",
       "  </tbody>\n",
       "</table>\n",
       "</div>"
      ],
      "text/plain": [
       "        Date     Open     High       Low    Close   Volume  Month  Year\n",
       "0 2020-07-02  1451.84  1488.52  1451.065  1469.93  2860915      7  2020\n",
       "1 2020-07-01  1419.17  1448.48  1414.180  1442.00  2109124      7  2020"
      ]
     },
     "execution_count": 40,
     "metadata": {},
     "output_type": "execute_result"
    }
   ],
   "source": [
    "google['Month'] = google['Date'].dt.month\n",
    "google['Year'] = google['Date'].dt.year\n",
    "google.head(2)"
   ]
  },
  {
   "cell_type": "code",
   "execution_count": 41,
   "id": "2baeccf9",
   "metadata": {},
   "outputs": [
    {
     "data": {
      "text/plain": [
       "Month\n",
       "5    1418.900000\n",
       "6    1431.595455\n",
       "7    1455.965000\n",
       "Name: Close, dtype: float64"
      ]
     },
     "execution_count": 41,
     "metadata": {},
     "output_type": "execute_result"
    }
   ],
   "source": [
    "google.groupby(by='Month')['Close'].mean()"
   ]
  },
  {
   "cell_type": "code",
   "execution_count": 42,
   "id": "469a1511",
   "metadata": {},
   "outputs": [
    {
     "data": {
      "text/html": [
       "<div>\n",
       "<style scoped>\n",
       "    .dataframe tbody tr th:only-of-type {\n",
       "        vertical-align: middle;\n",
       "    }\n",
       "\n",
       "    .dataframe tbody tr th {\n",
       "        vertical-align: top;\n",
       "    }\n",
       "\n",
       "    .dataframe thead th {\n",
       "        text-align: right;\n",
       "    }\n",
       "</style>\n",
       "<table border=\"1\" class=\"dataframe\">\n",
       "  <thead>\n",
       "    <tr style=\"text-align: right;\">\n",
       "      <th></th>\n",
       "      <th>Date</th>\n",
       "      <th>Open</th>\n",
       "      <th>High</th>\n",
       "      <th>Low</th>\n",
       "      <th>Close</th>\n",
       "      <th>Volume</th>\n",
       "      <th>Month</th>\n",
       "      <th>Year</th>\n",
       "    </tr>\n",
       "  </thead>\n",
       "  <tbody>\n",
       "    <tr>\n",
       "      <th>4</th>\n",
       "      <td>2020-06-26</td>\n",
       "      <td>1432.63</td>\n",
       "      <td>1437.02</td>\n",
       "      <td>1355.0</td>\n",
       "      <td>1362.54</td>\n",
       "      <td>4882014</td>\n",
       "      <td>6</td>\n",
       "      <td>2020</td>\n",
       "    </tr>\n",
       "  </tbody>\n",
       "</table>\n",
       "</div>"
      ],
      "text/plain": [
       "        Date     Open     High     Low    Close   Volume  Month  Year\n",
       "4 2020-06-26  1432.63  1437.02  1355.0  1362.54  4882014      6  2020"
      ]
     },
     "execution_count": 42,
     "metadata": {},
     "output_type": "execute_result"
    }
   ],
   "source": [
    "google.sort_values(by='Close').head(1)"
   ]
  },
  {
   "cell_type": "code",
   "execution_count": 43,
   "id": "0c1bca5e",
   "metadata": {},
   "outputs": [
    {
     "data": {
      "text/plain": [
       "4"
      ]
     },
     "execution_count": 43,
     "metadata": {},
     "output_type": "execute_result"
    }
   ],
   "source": [
    "idx_min = google['Close'].argmin()\n",
    "idx_min"
   ]
  },
  {
   "cell_type": "code",
   "execution_count": 46,
   "id": "8ef1a8de",
   "metadata": {},
   "outputs": [
    {
     "name": "stdout",
     "output_type": "stream",
     "text": [
      "        Date     Open     High     Low    Close   Volume  Month  Year\n",
      "4 2020-06-26  1432.63  1437.02  1355.0  1362.54  4882014      6  2020\n"
     ]
    }
   ],
   "source": [
    "print(google.iloc[[idx_min]])"
   ]
  },
  {
   "cell_type": "code",
   "execution_count": null,
   "id": "3440edaa",
   "metadata": {},
   "outputs": [],
   "source": []
  },
  {
   "cell_type": "code",
   "execution_count": null,
   "id": "5c5f074a",
   "metadata": {},
   "outputs": [],
   "source": []
  },
  {
   "cell_type": "code",
   "execution_count": 49,
   "id": "61e284b5",
   "metadata": {},
   "outputs": [
    {
     "data": {
      "text/html": [
       "<div>\n",
       "<style scoped>\n",
       "    .dataframe tbody tr th:only-of-type {\n",
       "        vertical-align: middle;\n",
       "    }\n",
       "\n",
       "    .dataframe tbody tr th {\n",
       "        vertical-align: top;\n",
       "    }\n",
       "\n",
       "    .dataframe thead th {\n",
       "        text-align: right;\n",
       "    }\n",
       "</style>\n",
       "<table border=\"1\" class=\"dataframe\">\n",
       "  <thead>\n",
       "    <tr style=\"text-align: right;\">\n",
       "      <th></th>\n",
       "      <th>Date</th>\n",
       "      <th>Open</th>\n",
       "      <th>Close</th>\n",
       "      <th>Volume</th>\n",
       "    </tr>\n",
       "  </thead>\n",
       "  <tbody>\n",
       "    <tr>\n",
       "      <th>0</th>\n",
       "      <td>2020-07-02</td>\n",
       "      <td>1451.84</td>\n",
       "      <td>1469.93</td>\n",
       "      <td>2860915</td>\n",
       "    </tr>\n",
       "    <tr>\n",
       "      <th>1</th>\n",
       "      <td>2020-07-01</td>\n",
       "      <td>1419.17</td>\n",
       "      <td>1442.00</td>\n",
       "      <td>2109124</td>\n",
       "    </tr>\n",
       "    <tr>\n",
       "      <th>2</th>\n",
       "      <td>2020-06-30</td>\n",
       "      <td>1396.88</td>\n",
       "      <td>1418.05</td>\n",
       "      <td>2014320</td>\n",
       "    </tr>\n",
       "    <tr>\n",
       "      <th>3</th>\n",
       "      <td>2020-06-29</td>\n",
       "      <td>1360.34</td>\n",
       "      <td>1397.17</td>\n",
       "      <td>2253678</td>\n",
       "    </tr>\n",
       "    <tr>\n",
       "      <th>4</th>\n",
       "      <td>2020-06-26</td>\n",
       "      <td>1432.63</td>\n",
       "      <td>1362.54</td>\n",
       "      <td>4882014</td>\n",
       "    </tr>\n",
       "  </tbody>\n",
       "</table>\n",
       "</div>"
      ],
      "text/plain": [
       "        Date     Open    Close   Volume\n",
       "0 2020-07-02  1451.84  1469.93  2860915\n",
       "1 2020-07-01  1419.17  1442.00  2109124\n",
       "2 2020-06-30  1396.88  1418.05  2014320\n",
       "3 2020-06-29  1360.34  1397.17  2253678\n",
       "4 2020-06-26  1432.63  1362.54  4882014"
      ]
     },
     "execution_count": 49,
     "metadata": {},
     "output_type": "execute_result"
    }
   ],
   "source": [
    "google = google[['Date', 'Open', 'Close', 'Volume']]\n",
    "google.head()"
   ]
  },
  {
   "cell_type": "code",
   "execution_count": null,
   "id": "8597f77f",
   "metadata": {},
   "outputs": [],
   "source": []
  },
  {
   "cell_type": "code",
   "execution_count": null,
   "id": "6490b216",
   "metadata": {},
   "outputs": [],
   "source": []
  },
  {
   "cell_type": "code",
   "execution_count": 52,
   "id": "458483b4",
   "metadata": {},
   "outputs": [
    {
     "data": {
      "text/html": [
       "<div>\n",
       "<style scoped>\n",
       "    .dataframe tbody tr th:only-of-type {\n",
       "        vertical-align: middle;\n",
       "    }\n",
       "\n",
       "    .dataframe tbody tr th {\n",
       "        vertical-align: top;\n",
       "    }\n",
       "\n",
       "    .dataframe thead th {\n",
       "        text-align: right;\n",
       "    }\n",
       "</style>\n",
       "<table border=\"1\" class=\"dataframe\">\n",
       "  <thead>\n",
       "    <tr style=\"text-align: right;\">\n",
       "      <th></th>\n",
       "      <th>Open</th>\n",
       "      <th>High</th>\n",
       "      <th>Low</th>\n",
       "      <th>Close</th>\n",
       "      <th>Volume</th>\n",
       "    </tr>\n",
       "    <tr>\n",
       "      <th>Date</th>\n",
       "      <th></th>\n",
       "      <th></th>\n",
       "      <th></th>\n",
       "      <th></th>\n",
       "      <th></th>\n",
       "    </tr>\n",
       "  </thead>\n",
       "  <tbody>\n",
       "    <tr>\n",
       "      <th>2020-07-02</th>\n",
       "      <td>1451.84</td>\n",
       "      <td>1488.52</td>\n",
       "      <td>1451.0650</td>\n",
       "      <td>1469.93</td>\n",
       "      <td>2860915</td>\n",
       "    </tr>\n",
       "    <tr>\n",
       "      <th>2020-07-01</th>\n",
       "      <td>1419.17</td>\n",
       "      <td>1448.48</td>\n",
       "      <td>1414.1800</td>\n",
       "      <td>1442.00</td>\n",
       "      <td>2109124</td>\n",
       "    </tr>\n",
       "    <tr>\n",
       "      <th>2020-06-30</th>\n",
       "      <td>1396.88</td>\n",
       "      <td>1424.00</td>\n",
       "      <td>1386.9301</td>\n",
       "      <td>1418.05</td>\n",
       "      <td>2014320</td>\n",
       "    </tr>\n",
       "    <tr>\n",
       "      <th>2020-06-29</th>\n",
       "      <td>1360.34</td>\n",
       "      <td>1398.00</td>\n",
       "      <td>1351.6500</td>\n",
       "      <td>1397.17</td>\n",
       "      <td>2253678</td>\n",
       "    </tr>\n",
       "    <tr>\n",
       "      <th>2020-06-26</th>\n",
       "      <td>1432.63</td>\n",
       "      <td>1437.02</td>\n",
       "      <td>1355.0000</td>\n",
       "      <td>1362.54</td>\n",
       "      <td>4882014</td>\n",
       "    </tr>\n",
       "  </tbody>\n",
       "</table>\n",
       "</div>"
      ],
      "text/plain": [
       "               Open     High        Low    Close   Volume\n",
       "Date                                                     \n",
       "2020-07-02  1451.84  1488.52  1451.0650  1469.93  2860915\n",
       "2020-07-01  1419.17  1448.48  1414.1800  1442.00  2109124\n",
       "2020-06-30  1396.88  1424.00  1386.9301  1418.05  2014320\n",
       "2020-06-29  1360.34  1398.00  1351.6500  1397.17  2253678\n",
       "2020-06-26  1432.63  1437.02  1355.0000  1362.54  4882014"
      ]
     },
     "execution_count": 52,
     "metadata": {},
     "output_type": "execute_result"
    }
   ],
   "source": [
    "google = pd.read_csv(\"google.csv\", index_col=0)\n",
    "google.head()"
   ]
  },
  {
   "cell_type": "code",
   "execution_count": null,
   "id": "84f86f88",
   "metadata": {},
   "outputs": [],
   "source": []
  },
  {
   "cell_type": "code",
   "execution_count": null,
   "id": "e2ac8c27",
   "metadata": {},
   "outputs": [],
   "source": []
  },
  {
   "cell_type": "code",
   "execution_count": 53,
   "id": "afa67e37",
   "metadata": {},
   "outputs": [],
   "source": [
    "google = pd.read_csv(\"google.csv\")"
   ]
  },
  {
   "cell_type": "code",
   "execution_count": 54,
   "id": "23efc08a",
   "metadata": {},
   "outputs": [],
   "source": [
    "google['Date'] = pd.to_datetime(google['Date'])"
   ]
  },
  {
   "cell_type": "code",
   "execution_count": 55,
   "id": "a2629f39",
   "metadata": {},
   "outputs": [],
   "source": [
    "google['Month'] = google['Date'].dt.month\n",
    "google['Year'] = google['Date'].dt.year"
   ]
  },
  {
   "cell_type": "code",
   "execution_count": 56,
   "id": "5c09cf21",
   "metadata": {},
   "outputs": [],
   "source": [
    "google = google.drop(columns=['Month', 'Year'])"
   ]
  },
  {
   "cell_type": "code",
   "execution_count": 57,
   "id": "6b19e3f6",
   "metadata": {},
   "outputs": [
    {
     "data": {
      "text/html": [
       "<div>\n",
       "<style scoped>\n",
       "    .dataframe tbody tr th:only-of-type {\n",
       "        vertical-align: middle;\n",
       "    }\n",
       "\n",
       "    .dataframe tbody tr th {\n",
       "        vertical-align: top;\n",
       "    }\n",
       "\n",
       "    .dataframe thead th {\n",
       "        text-align: right;\n",
       "    }\n",
       "</style>\n",
       "<table border=\"1\" class=\"dataframe\">\n",
       "  <thead>\n",
       "    <tr style=\"text-align: right;\">\n",
       "      <th></th>\n",
       "      <th>Date</th>\n",
       "      <th>Open</th>\n",
       "      <th>High</th>\n",
       "      <th>Low</th>\n",
       "      <th>Close</th>\n",
       "      <th>Volume</th>\n",
       "    </tr>\n",
       "  </thead>\n",
       "  <tbody>\n",
       "    <tr>\n",
       "      <th>0</th>\n",
       "      <td>2020-07-02</td>\n",
       "      <td>1451.84</td>\n",
       "      <td>1488.52</td>\n",
       "      <td>1451.065</td>\n",
       "      <td>1469.93</td>\n",
       "      <td>2860915</td>\n",
       "    </tr>\n",
       "    <tr>\n",
       "      <th>1</th>\n",
       "      <td>2020-07-01</td>\n",
       "      <td>1419.17</td>\n",
       "      <td>1448.48</td>\n",
       "      <td>1414.180</td>\n",
       "      <td>1442.00</td>\n",
       "      <td>2109124</td>\n",
       "    </tr>\n",
       "  </tbody>\n",
       "</table>\n",
       "</div>"
      ],
      "text/plain": [
       "        Date     Open     High       Low    Close   Volume\n",
       "0 2020-07-02  1451.84  1488.52  1451.065  1469.93  2860915\n",
       "1 2020-07-01  1419.17  1448.48  1414.180  1442.00  2109124"
      ]
     },
     "execution_count": 57,
     "metadata": {},
     "output_type": "execute_result"
    }
   ],
   "source": [
    "google.head(2)"
   ]
  },
  {
   "cell_type": "code",
   "execution_count": null,
   "id": "dc5f7e78",
   "metadata": {},
   "outputs": [],
   "source": []
  },
  {
   "cell_type": "code",
   "execution_count": null,
   "id": "6d3a0081",
   "metadata": {},
   "outputs": [],
   "source": []
  },
  {
   "cell_type": "code",
   "execution_count": 58,
   "id": "c4dbd993",
   "metadata": {},
   "outputs": [],
   "source": [
    "google = pd.read_csv(\"google.csv\")"
   ]
  },
  {
   "cell_type": "code",
   "execution_count": 59,
   "id": "aaf181f6",
   "metadata": {},
   "outputs": [],
   "source": [
    "google.rename(columns={'Open': 'O', 'High': 'H', 'Low': 'L', 'Close': 'C', 'Volume': 'V'}, inplace=True)"
   ]
  },
  {
   "cell_type": "code",
   "execution_count": 60,
   "id": "d459b40d",
   "metadata": {},
   "outputs": [
    {
     "data": {
      "text/html": [
       "<div>\n",
       "<style scoped>\n",
       "    .dataframe tbody tr th:only-of-type {\n",
       "        vertical-align: middle;\n",
       "    }\n",
       "\n",
       "    .dataframe tbody tr th {\n",
       "        vertical-align: top;\n",
       "    }\n",
       "\n",
       "    .dataframe thead th {\n",
       "        text-align: right;\n",
       "    }\n",
       "</style>\n",
       "<table border=\"1\" class=\"dataframe\">\n",
       "  <thead>\n",
       "    <tr style=\"text-align: right;\">\n",
       "      <th></th>\n",
       "      <th>Date</th>\n",
       "      <th>O</th>\n",
       "      <th>H</th>\n",
       "      <th>L</th>\n",
       "      <th>C</th>\n",
       "      <th>V</th>\n",
       "    </tr>\n",
       "  </thead>\n",
       "  <tbody>\n",
       "    <tr>\n",
       "      <th>0</th>\n",
       "      <td>2020-07-02</td>\n",
       "      <td>1451.84</td>\n",
       "      <td>1488.52</td>\n",
       "      <td>1451.065</td>\n",
       "      <td>1469.93</td>\n",
       "      <td>2860915</td>\n",
       "    </tr>\n",
       "    <tr>\n",
       "      <th>1</th>\n",
       "      <td>2020-07-01</td>\n",
       "      <td>1419.17</td>\n",
       "      <td>1448.48</td>\n",
       "      <td>1414.180</td>\n",
       "      <td>1442.00</td>\n",
       "      <td>2109124</td>\n",
       "    </tr>\n",
       "  </tbody>\n",
       "</table>\n",
       "</div>"
      ],
      "text/plain": [
       "         Date        O        H         L        C        V\n",
       "0  2020-07-02  1451.84  1488.52  1451.065  1469.93  2860915\n",
       "1  2020-07-01  1419.17  1448.48  1414.180  1442.00  2109124"
      ]
     },
     "execution_count": 60,
     "metadata": {},
     "output_type": "execute_result"
    }
   ],
   "source": [
    "google.head(2)"
   ]
  },
  {
   "cell_type": "code",
   "execution_count": null,
   "id": "42d5c1a3",
   "metadata": {},
   "outputs": [],
   "source": []
  }
 ],
 "metadata": {
  "kernelspec": {
   "display_name": "Python 3 (ipykernel)",
   "language": "python",
   "name": "python3"
  },
  "language_info": {
   "codemirror_mode": {
    "name": "ipython",
    "version": 3
   },
   "file_extension": ".py",
   "mimetype": "text/x-python",
   "name": "python",
   "nbconvert_exporter": "python",
   "pygments_lexer": "ipython3",
   "version": "3.9.12"
  }
 },
 "nbformat": 4,
 "nbformat_minor": 5
}
