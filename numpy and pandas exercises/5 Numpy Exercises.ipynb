{
 "cells": [
  {
   "cell_type": "code",
   "execution_count": null,
   "id": "c2e1cdbf",
   "metadata": {},
   "outputs": [],
   "source": [
    "# create a one-dimensional array of all two-digit numbers\n",
    "# np.arange(10,100)\n",
    "\n",
    "\n",
    "# Create a 6x6 two-dimensional array - identity matrix with int data type\n",
    "# np.eye(N=6,M=6, dtype='float')\n",
    "\n",
    "\n",
    "# Create a one-dimensional array consisting of 30 pseudo-randomly generated values\n",
    "# np.random.rand(30)\n",
    "\n",
    "\n",
    "# Print elements of an array\n",
    "# for i in np.nditer(A):\n",
    "#     print(i)\n",
    "\n",
    "\n",
    "# Methods\n",
    "# np.arange(10,100)             Return evenly spaced values within a given interval.\n",
    "# np.arange().reshape()\n",
    "# np.eye()                Return a 2-D array with ones on the diagonal and zeros elsewhere.\n",
    "# np.random.rand(3,2)     Create random values, 3 rows 2 columns\n",
    "# np.random.randn(2,4)    Return a sample form the standard normal distribution \n",
    "# np.nditer()             Iterate though the elements of an array\n",
    "# np.linspace(start=0,stop=1,11)     1 dim array of 11 elements equally distributed\n",
    "# np.random.choice(a=range(1,50), size=6, replace=False)   Generates a random sample from a agiven 1-D array\n",
    "# np.random.choice(5, 3)\n",
    "# np.diag(np.arange(6))    Extract a diagonal or construct a diagonal array"
   ]
  },
  {
   "cell_type": "code",
   "execution_count": 1,
   "id": "4edd7f03",
   "metadata": {},
   "outputs": [],
   "source": [
    "import numpy as np"
   ]
  },
  {
   "cell_type": "code",
   "execution_count": null,
   "id": "fa7b7a9e",
   "metadata": {},
   "outputs": [],
   "source": [
    "# Exercise 11"
   ]
  },
  {
   "cell_type": "code",
   "execution_count": 2,
   "id": "d9e5858b",
   "metadata": {},
   "outputs": [
    {
     "data": {
      "text/plain": [
       "array([10, 11, 12, 13, 14, 15, 16, 17, 18, 19, 20, 21, 22, 23, 24, 25, 26,\n",
       "       27, 28, 29, 30, 31, 32, 33, 34, 35, 36, 37, 38, 39, 40, 41, 42, 43,\n",
       "       44, 45, 46, 47, 48, 49, 50, 51, 52, 53, 54, 55, 56, 57, 58, 59, 60,\n",
       "       61, 62, 63, 64, 65, 66, 67, 68, 69, 70, 71, 72, 73, 74, 75, 76, 77,\n",
       "       78, 79, 80, 81, 82, 83, 84, 85, 86, 87, 88, 89, 90, 91, 92, 93, 94,\n",
       "       95, 96, 97, 98, 99])"
      ]
     },
     "execution_count": 2,
     "metadata": {},
     "output_type": "execute_result"
    }
   ],
   "source": [
    "# create a one-dimensional array of all two-digit numbers\n",
    "np.arange(10,100)"
   ]
  },
  {
   "cell_type": "code",
   "execution_count": 3,
   "id": "1310c112",
   "metadata": {},
   "outputs": [],
   "source": [
    "# Exercise 12"
   ]
  },
  {
   "cell_type": "code",
   "execution_count": 4,
   "id": "844716e2",
   "metadata": {},
   "outputs": [
    {
     "data": {
      "text/plain": [
       "array([[10, 11, 12, 13, 14, 15, 16, 17, 18, 19],\n",
       "       [20, 21, 22, 23, 24, 25, 26, 27, 28, 29],\n",
       "       [30, 31, 32, 33, 34, 35, 36, 37, 38, 39],\n",
       "       [40, 41, 42, 43, 44, 45, 46, 47, 48, 49],\n",
       "       [50, 51, 52, 53, 54, 55, 56, 57, 58, 59],\n",
       "       [60, 61, 62, 63, 64, 65, 66, 67, 68, 69],\n",
       "       [70, 71, 72, 73, 74, 75, 76, 77, 78, 79],\n",
       "       [80, 81, 82, 83, 84, 85, 86, 87, 88, 89],\n",
       "       [90, 91, 92, 93, 94, 95, 96, 97, 98, 99]])"
      ]
     },
     "execution_count": 4,
     "metadata": {},
     "output_type": "execute_result"
    }
   ],
   "source": [
    "# shape of this array is (9, 10)\n",
    "np.arange(10,100).reshape(9,10)"
   ]
  },
  {
   "cell_type": "code",
   "execution_count": 5,
   "id": "2c7a19bc",
   "metadata": {},
   "outputs": [],
   "source": [
    "# Exercise 13"
   ]
  },
  {
   "cell_type": "code",
   "execution_count": 8,
   "id": "1eded8ca",
   "metadata": {},
   "outputs": [
    {
     "data": {
      "text/plain": [
       "array([[1, 0, 0, 0, 0, 0],\n",
       "       [0, 1, 0, 0, 0, 0],\n",
       "       [0, 0, 1, 0, 0, 0],\n",
       "       [0, 0, 0, 1, 0, 0],\n",
       "       [0, 0, 0, 0, 1, 0],\n",
       "       [0, 0, 0, 0, 0, 1]])"
      ]
     },
     "execution_count": 8,
     "metadata": {},
     "output_type": "execute_result"
    }
   ],
   "source": [
    "# Create a 6x6 two-dimensional array - identity matrix with int data type\n",
    "np.eye(N=6, M=6, dtype='int')"
   ]
  },
  {
   "cell_type": "code",
   "execution_count": 9,
   "id": "f5019cef",
   "metadata": {},
   "outputs": [],
   "source": [
    "# Exercise 14"
   ]
  },
  {
   "cell_type": "code",
   "execution_count": 16,
   "id": "aa80a1e6",
   "metadata": {},
   "outputs": [
    {
     "data": {
      "text/plain": [
       "array([0.04942386, 0.95258949, 0.76623169, 0.39568648, 0.96875472,\n",
       "       0.34707157, 0.29719269, 0.38966109, 0.07434185, 0.46802295,\n",
       "       0.4006606 , 0.47053114, 0.03806851, 0.98836903, 0.3554886 ,\n",
       "       0.42602756, 0.86136587, 0.65036821, 0.14374968, 0.56492686,\n",
       "       0.47983014, 0.07444342, 0.29695901, 0.18233297, 0.62573588,\n",
       "       0.94683422, 0.73585938, 0.71186881, 0.73667338, 0.32841485])"
      ]
     },
     "execution_count": 16,
     "metadata": {},
     "output_type": "execute_result"
    }
   ],
   "source": [
    "# Set the random seed to 10. Then using Numpy create a one-dimensional array consisting of 30 pseudo-randomly generated values \n",
    "# from the uniform distribution [0,1)\n",
    "\n",
    "np.random.seed = 10\n",
    "\n",
    "np.random.rand(30)"
   ]
  },
  {
   "cell_type": "code",
   "execution_count": 2,
   "id": "71a2e1c9",
   "metadata": {},
   "outputs": [],
   "source": [
    "# Exercise 15"
   ]
  },
  {
   "cell_type": "code",
   "execution_count": 3,
   "id": "90eca67c",
   "metadata": {},
   "outputs": [
    {
     "data": {
      "text/plain": [
       "array([[ 1.86813774,  2.15345504, -0.01943804, -0.11010937],\n",
       "       [ 1.94667628,  1.86969308,  1.64364406,  2.99401077],\n",
       "       [-0.00336749,  0.14243692,  1.4028942 ,  1.10266306],\n",
       "       [ 1.19967497, -0.06960494, -0.54489489,  2.57777121],\n",
       "       [ 0.57663413, -0.77557148, -1.3296798 , -1.40739554],\n",
       "       [-1.26019894, -0.91901161,  0.54001693, -0.94301921],\n",
       "       [ 0.99979238, -0.28807899, -1.14219631, -1.13849429],\n",
       "       [ 0.34241397, -1.7262832 , -0.46832416,  1.68505451],\n",
       "       [-0.16613469, -0.72576507,  0.13376755,  0.20467053],\n",
       "       [-1.24592636, -0.56377682, -0.20452194,  0.51600294]])"
      ]
     },
     "execution_count": 3,
     "metadata": {},
     "output_type": "execute_result"
    }
   ],
   "source": [
    "# create a two-dimensional array with the shape (10, 4) pseudo-randomly generated values from \n",
    "# the standard normal distribution N(0,1)\n",
    "\n",
    "np.random.seed = 20\n",
    "\n",
    "np.random.randn(10, 4)"
   ]
  },
  {
   "cell_type": "code",
   "execution_count": 4,
   "id": "d7d5dfa1",
   "metadata": {},
   "outputs": [],
   "source": [
    "# Exercise 16"
   ]
  },
  {
   "cell_type": "code",
   "execution_count": 5,
   "id": "6943c022",
   "metadata": {},
   "outputs": [
    {
     "data": {
      "text/plain": [
       "array([[-0.70461002, -0.56330189,  1.72428341,  0.02529715],\n",
       "       [ 0.28854118, -0.85735222,  0.02761593,  0.80734511],\n",
       "       [ 1.43569628, -1.19111858,  1.85312426,  0.49564102],\n",
       "       [-0.35658602, -0.80254531, -0.39946212, -1.52016309],\n",
       "       [-0.12717228, -1.32357553, -1.42558464,  0.09268221],\n",
       "       [ 2.36747891,  0.50743985, -1.46574934,  0.83948335],\n",
       "       [-1.07671586,  0.62773808, -0.16308493, -0.72204932],\n",
       "       [-1.48848659,  0.39044017, -0.33891299,  0.06571546],\n",
       "       [ 1.21300052,  2.16468074, -0.96099221, -2.2483052 ],\n",
       "       [-0.47961504,  1.04096486, -0.93667012,  0.81942753]])"
      ]
     },
     "execution_count": 5,
     "metadata": {},
     "output_type": "execute_result"
    }
   ],
   "source": [
    "np.random.seed=30\n",
    "np.random.randn(10,4)"
   ]
  },
  {
   "cell_type": "code",
   "execution_count": 6,
   "id": "6d1a4095",
   "metadata": {},
   "outputs": [],
   "source": [
    "# Exercise 17"
   ]
  },
  {
   "cell_type": "code",
   "execution_count": 7,
   "id": "438650ec",
   "metadata": {},
   "outputs": [],
   "source": [
    "A = np.array([[1, 4, 3],\n",
    "              [5, 2, 6]])"
   ]
  },
  {
   "cell_type": "code",
   "execution_count": 11,
   "id": "1fdc9d2c",
   "metadata": {},
   "outputs": [
    {
     "name": "stdout",
     "output_type": "stream",
     "text": [
      "1\n",
      "4\n",
      "3\n",
      "5\n",
      "2\n",
      "6\n"
     ]
    }
   ],
   "source": [
    "for i in np.nditer(A):\n",
    "    print(i)"
   ]
  },
  {
   "cell_type": "code",
   "execution_count": 12,
   "id": "4a54c64f",
   "metadata": {},
   "outputs": [],
   "source": [
    "# Exercise 18"
   ]
  },
  {
   "cell_type": "code",
   "execution_count": 13,
   "id": "ad6291f4",
   "metadata": {},
   "outputs": [
    {
     "data": {
      "text/plain": [
       "array([0. , 0.1, 0.2, 0.3, 0.4, 0.5, 0.6, 0.7, 0.8, 0.9, 1. ])"
      ]
     },
     "execution_count": 13,
     "metadata": {},
     "output_type": "execute_result"
    }
   ],
   "source": [
    "np.linspace(0,1,11)"
   ]
  },
  {
   "cell_type": "code",
   "execution_count": 14,
   "id": "9b30cc3a",
   "metadata": {},
   "outputs": [],
   "source": [
    "# Exercise 19"
   ]
  },
  {
   "cell_type": "code",
   "execution_count": 15,
   "id": "ce3ded8f",
   "metadata": {},
   "outputs": [
    {
     "data": {
      "text/plain": [
       "array([44, 43, 10,  2, 45, 25])"
      ]
     },
     "execution_count": 15,
     "metadata": {},
     "output_type": "execute_result"
    }
   ],
   "source": [
    "np.random.choice(a=range(1,50), size=6, replace=False)"
   ]
  },
  {
   "cell_type": "code",
   "execution_count": 16,
   "id": "0a10ca2e",
   "metadata": {},
   "outputs": [],
   "source": [
    "# Exercise 20"
   ]
  },
  {
   "cell_type": "code",
   "execution_count": 17,
   "id": "290c9a6a",
   "metadata": {},
   "outputs": [
    {
     "data": {
      "text/plain": [
       "array([[0, 0, 0, 0, 0, 0],\n",
       "       [0, 1, 0, 0, 0, 0],\n",
       "       [0, 0, 2, 0, 0, 0],\n",
       "       [0, 0, 0, 3, 0, 0],\n",
       "       [0, 0, 0, 0, 4, 0],\n",
       "       [0, 0, 0, 0, 0, 5]])"
      ]
     },
     "execution_count": 17,
     "metadata": {},
     "output_type": "execute_result"
    }
   ],
   "source": [
    "np.diag(np.arange(6))"
   ]
  },
  {
   "cell_type": "code",
   "execution_count": null,
   "id": "c87942b3",
   "metadata": {},
   "outputs": [],
   "source": []
  }
 ],
 "metadata": {
  "kernelspec": {
   "display_name": "Python 3 (ipykernel)",
   "language": "python",
   "name": "python3"
  },
  "language_info": {
   "codemirror_mode": {
    "name": "ipython",
    "version": 3
   },
   "file_extension": ".py",
   "mimetype": "text/x-python",
   "name": "python",
   "nbconvert_exporter": "python",
   "pygments_lexer": "ipython3",
   "version": "3.9.12"
  }
 },
 "nbformat": 4,
 "nbformat_minor": 5
}
