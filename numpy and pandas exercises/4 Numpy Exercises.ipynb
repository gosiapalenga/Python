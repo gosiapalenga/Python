{
 "cells": [
  {
   "cell_type": "code",
   "execution_count": null,
   "id": "979956e0",
   "metadata": {},
   "outputs": [],
   "source": [
    "# Numpy array is a row-and-column data structure that we use to store numeric/boolean data.\n",
    "# Numpy have axes. For 1-dimesional arrays, there is 1 axis, axis-0, which points horizontally. For 2-dimensional, axis-0 points\n",
    "# downwards and axis-1 point horizontally\n",
    "\n",
    "# np.all() checks if all elements meet some condition or evaluate as True\n",
    "# np.all(A > 4)  --> False\n",
    "\n",
    "\n",
    "# Use all() when you need to check a long series of AND conditions. When ALL conditions have to be met\n",
    "# Use any() when you need to check a long series of OR conditions. When ANY condition has be met\n",
    "# if any(conditions):\n",
    "     # Do something here\n",
    "     # ...\n",
    "        \n",
    "\n",
    "# Check for nan values\n",
    "# np.isnan(A)\n",
    "\n",
    "\n",
    "# Check if the following arrays are equal (element-wise)\n",
    "# np.allclose([A], [B])\n",
    "\n",
    "\n",
    "# Check if the following arrays are equal (value-wise):\n",
    "# A == B     OR    np.equal(A,B)\n",
    "\n",
    "\n",
    "# Check which numbers (element-wise) from the A array are greater than numbers from the B array\n",
    "# A > B      OR    np.greater(A,B)\n",
    "\n",
    "\n",
    "# Using Numpy, create an array 10x10 filled with number 255 and set the data type to float.\n",
    "# np.ones(shape=(10,10), dtype='float') * 255\n",
    "# OR\n",
    "# np.full(shape=(10, 10), fill_value=255, dtype='float')\n",
    "\n",
    "# Functions\n",
    "# np.all()\n",
    "# np.any()\n",
    "# np.isnan()\n",
    "# np.allclose() \n",
    "# np.equal()    A == B\n",
    "# np.greater()  A > B\n",
    "# np.zeros()\n",
    "# np.ones()\n",
    "# np.full()"
   ]
  },
  {
   "cell_type": "code",
   "execution_count": 3,
   "id": "8ae8a323",
   "metadata": {},
   "outputs": [],
   "source": [
    "import numpy as np"
   ]
  },
  {
   "cell_type": "code",
   "execution_count": 4,
   "id": "c7d74614",
   "metadata": {},
   "outputs": [],
   "source": [
    "A = np.array([[3, 2, 1, 4],\n",
    "              [5, 2, 1, 6]])\n",
    "\n",
    "B = np.array([[3, 2, 1, 4],\n",
    "              [5, 2, 0, 6]])\n",
    "\n",
    "C = np.array([[True, False, False],\n",
    "              [True, True, True]])\n",
    "\n",
    "D = np.array([0.1, 0.3])"
   ]
  },
  {
   "cell_type": "code",
   "execution_count": 5,
   "id": "59b40d7b",
   "metadata": {},
   "outputs": [
    {
     "data": {
      "text/plain": [
       "False"
      ]
     },
     "execution_count": 5,
     "metadata": {},
     "output_type": "execute_result"
    }
   ],
   "source": [
    "np.all(A > 4)"
   ]
  },
  {
   "cell_type": "code",
   "execution_count": 7,
   "id": "94fc42fa",
   "metadata": {},
   "outputs": [
    {
     "name": "stdout",
     "output_type": "stream",
     "text": [
      "A:  True\n",
      "B:  False\n",
      "C:  False\n",
      "D:  True\n"
     ]
    }
   ],
   "source": [
    "print('A: ', np.all(A))\n",
    "print('B: ', np.all(B))\n",
    "print('C: ', np.all(C))\n",
    "print('D: ', np.all(D))"
   ]
  },
  {
   "cell_type": "code",
   "execution_count": 12,
   "id": "64d4e783",
   "metadata": {},
   "outputs": [
    {
     "name": "stdout",
     "output_type": "stream",
     "text": [
      "A True\n",
      "B False\n",
      "C False\n",
      "D True\n"
     ]
    }
   ],
   "source": [
    "# create a list for zip() first\n",
    "\n",
    "for name, array in zip(list('ABCD'), [A, B, C, D]):\n",
    "    print(name, np.all(array))"
   ]
  },
  {
   "cell_type": "code",
   "execution_count": 13,
   "id": "eadff618",
   "metadata": {},
   "outputs": [],
   "source": [
    "# Exercise 2"
   ]
  },
  {
   "cell_type": "code",
   "execution_count": 14,
   "id": "b548b464",
   "metadata": {},
   "outputs": [],
   "source": [
    "A = np.array([[3, 2, 1, 4],\n",
    "              [5, 2, 1, 6]])\n",
    "\n",
    "B = np.array([[3, 2, 1, 4],\n",
    "              [5, 2, 0, 6]])\n",
    "\n",
    "C = np.array([[True, False, False],\n",
    "              [True, True, True]])"
   ]
  },
  {
   "cell_type": "code",
   "execution_count": 15,
   "id": "9a0098ab",
   "metadata": {},
   "outputs": [
    {
     "data": {
      "text/plain": [
       "array([ True,  True])"
      ]
     },
     "execution_count": 15,
     "metadata": {},
     "output_type": "execute_result"
    }
   ],
   "source": [
    "np.all(A,axis=1)"
   ]
  },
  {
   "cell_type": "code",
   "execution_count": 16,
   "id": "af71df2f",
   "metadata": {},
   "outputs": [
    {
     "name": "stdout",
     "output_type": "stream",
     "text": [
      "A: [ True  True]\n",
      "B: [ True False]\n",
      "C: [False  True]\n"
     ]
    }
   ],
   "source": [
    "for name, array in zip(list('ABC'), [A, B, C]):\n",
    "    print(f\"{name}: {np.all(array, axis=1)}\")"
   ]
  },
  {
   "cell_type": "code",
   "execution_count": 17,
   "id": "c5576cc4",
   "metadata": {},
   "outputs": [],
   "source": [
    "# Exercise 3"
   ]
  },
  {
   "cell_type": "code",
   "execution_count": 18,
   "id": "b91d31f7",
   "metadata": {},
   "outputs": [],
   "source": [
    "A = np.array([[0, 0, 0],\n",
    "              [0, 0, 0]])\n",
    "\n",
    "B = np.array([[0, 0, 0],\n",
    "              [0, 1, 0]])\n",
    "\n",
    "C = np.array([[False, False, False],\n",
    "              [True, False, False]])\n",
    "\n",
    "D = np.array([[0.1, 0.0]])"
   ]
  },
  {
   "cell_type": "code",
   "execution_count": 20,
   "id": "e575060e",
   "metadata": {},
   "outputs": [
    {
     "name": "stdout",
     "output_type": "stream",
     "text": [
      "A: False\n",
      "B: True\n",
      "C: True\n",
      "D: True\n"
     ]
    }
   ],
   "source": [
    "for name, array in zip(list('ABCD'), [A, B, C, D]):\n",
    "    print(f\"{name}: {np.any(array)}\")"
   ]
  },
  {
   "cell_type": "code",
   "execution_count": 21,
   "id": "8811b5f9",
   "metadata": {},
   "outputs": [],
   "source": [
    "# Exercise 4"
   ]
  },
  {
   "cell_type": "code",
   "execution_count": 22,
   "id": "1041027d",
   "metadata": {},
   "outputs": [
    {
     "name": "stdout",
     "output_type": "stream",
     "text": [
      "A: [False False False]\n",
      "B: [False  True False]\n",
      "C: [ True False False]\n",
      "D: [ True False]\n"
     ]
    }
   ],
   "source": [
    "for name, array in zip(list('ABCD'), [A, B, C, D]):\n",
    "    print(f\"{name}: {np.any(array, axis=0)}\")"
   ]
  },
  {
   "cell_type": "code",
   "execution_count": 23,
   "id": "851ab6e6",
   "metadata": {},
   "outputs": [],
   "source": [
    "# Exercise 5"
   ]
  },
  {
   "cell_type": "code",
   "execution_count": 24,
   "id": "23ded901",
   "metadata": {},
   "outputs": [],
   "source": [
    "A = np.array([[3, 2, 1, np.nan],\n",
    "              [5, np.nan, 1, 6]])"
   ]
  },
  {
   "cell_type": "code",
   "execution_count": 26,
   "id": "75f25d9c",
   "metadata": {},
   "outputs": [
    {
     "data": {
      "text/plain": [
       "array([[False, False, False,  True],\n",
       "       [False,  True, False, False]])"
      ]
     },
     "execution_count": 26,
     "metadata": {},
     "output_type": "execute_result"
    }
   ],
   "source": [
    "np.isnan(A)"
   ]
  },
  {
   "cell_type": "code",
   "execution_count": 27,
   "id": "4932c8e6",
   "metadata": {},
   "outputs": [],
   "source": [
    "# Exercise 6"
   ]
  },
  {
   "cell_type": "code",
   "execution_count": 28,
   "id": "96ee2b7c",
   "metadata": {},
   "outputs": [],
   "source": [
    "A = np.array([0.4, 0.5, 0.3])\n",
    "B = np.array([0.39999999, 0.5000001, 0.3])"
   ]
  },
  {
   "cell_type": "code",
   "execution_count": 29,
   "id": "0032cd77",
   "metadata": {},
   "outputs": [
    {
     "data": {
      "text/plain": [
       "True"
      ]
     },
     "execution_count": 29,
     "metadata": {},
     "output_type": "execute_result"
    }
   ],
   "source": [
    "# Check if the following arrays are equal (element-wise):\n",
    "np.allclose([A], [B])"
   ]
  },
  {
   "cell_type": "code",
   "execution_count": null,
   "id": "b4e13992",
   "metadata": {},
   "outputs": [],
   "source": [
    "# Exercise 7"
   ]
  },
  {
   "cell_type": "code",
   "execution_count": 30,
   "id": "e1789c5a",
   "metadata": {},
   "outputs": [
    {
     "data": {
      "text/plain": [
       "array([False, False,  True])"
      ]
     },
     "execution_count": 30,
     "metadata": {},
     "output_type": "execute_result"
    }
   ],
   "source": [
    "# Check if the following arrays are equal (value-wise):\n",
    "A == B"
   ]
  },
  {
   "cell_type": "code",
   "execution_count": 31,
   "id": "317acc5b",
   "metadata": {},
   "outputs": [
    {
     "data": {
      "text/plain": [
       "array([False, False,  True])"
      ]
     },
     "execution_count": 31,
     "metadata": {},
     "output_type": "execute_result"
    }
   ],
   "source": [
    "np.equal(A,B)"
   ]
  },
  {
   "cell_type": "code",
   "execution_count": 32,
   "id": "6a615480",
   "metadata": {},
   "outputs": [],
   "source": [
    "# Exercise 8"
   ]
  },
  {
   "cell_type": "code",
   "execution_count": 34,
   "id": "868f1036",
   "metadata": {},
   "outputs": [],
   "source": [
    "A = np.array([0.4, 0.5, 0.3, 0.9])\n",
    "B = np.array([0.38, 0.51, 0.3, 0.91])"
   ]
  },
  {
   "cell_type": "code",
   "execution_count": 35,
   "id": "01160a24",
   "metadata": {},
   "outputs": [
    {
     "data": {
      "text/plain": [
       "array([ True, False, False, False])"
      ]
     },
     "execution_count": 35,
     "metadata": {},
     "output_type": "execute_result"
    }
   ],
   "source": [
    "# Check which numbers (element-wise) from the A array are greater than numbers from the B array\n",
    "A > B"
   ]
  },
  {
   "cell_type": "code",
   "execution_count": 36,
   "id": "35420646",
   "metadata": {},
   "outputs": [
    {
     "data": {
      "text/plain": [
       "array([ True, False, False, False])"
      ]
     },
     "execution_count": 36,
     "metadata": {},
     "output_type": "execute_result"
    }
   ],
   "source": [
    "np.greater(A,B)"
   ]
  },
  {
   "cell_type": "code",
   "execution_count": 37,
   "id": "195bad85",
   "metadata": {},
   "outputs": [],
   "source": [
    "# Exercise 9"
   ]
  },
  {
   "cell_type": "code",
   "execution_count": 42,
   "id": "f63d3d7e",
   "metadata": {},
   "outputs": [
    {
     "data": {
      "text/plain": [
       "array([[0, 0, 0, 0],\n",
       "       [0, 0, 0, 0],\n",
       "       [0, 0, 0, 0],\n",
       "       [0, 0, 0, 0]])"
      ]
     },
     "execution_count": 42,
     "metadata": {},
     "output_type": "execute_result"
    }
   ],
   "source": [
    "# Using Numpy create a 4x4 array filled with zeros (set data type to int)\n",
    "np.zeros(shape=(4,4), dtype='int')      # 4 rows, 4 columns"
   ]
  },
  {
   "cell_type": "code",
   "execution_count": 43,
   "id": "ddbb2e1d",
   "metadata": {},
   "outputs": [],
   "source": [
    "# Exercise 10"
   ]
  },
  {
   "cell_type": "code",
   "execution_count": 44,
   "id": "ec1b027b",
   "metadata": {},
   "outputs": [
    {
     "data": {
      "text/plain": [
       "array([[255., 255., 255., 255., 255., 255., 255., 255., 255., 255.],\n",
       "       [255., 255., 255., 255., 255., 255., 255., 255., 255., 255.],\n",
       "       [255., 255., 255., 255., 255., 255., 255., 255., 255., 255.],\n",
       "       [255., 255., 255., 255., 255., 255., 255., 255., 255., 255.],\n",
       "       [255., 255., 255., 255., 255., 255., 255., 255., 255., 255.],\n",
       "       [255., 255., 255., 255., 255., 255., 255., 255., 255., 255.],\n",
       "       [255., 255., 255., 255., 255., 255., 255., 255., 255., 255.],\n",
       "       [255., 255., 255., 255., 255., 255., 255., 255., 255., 255.],\n",
       "       [255., 255., 255., 255., 255., 255., 255., 255., 255., 255.],\n",
       "       [255., 255., 255., 255., 255., 255., 255., 255., 255., 255.]])"
      ]
     },
     "execution_count": 44,
     "metadata": {},
     "output_type": "execute_result"
    }
   ],
   "source": [
    "# Using Numpy, create an array 10x10 filled with number 255 and set the data type to float.\n",
    "np.ones(shape=(10,10), dtype='float') * 255"
   ]
  },
  {
   "cell_type": "code",
   "execution_count": 45,
   "id": "b342b5e6",
   "metadata": {},
   "outputs": [
    {
     "data": {
      "text/plain": [
       "array([[255., 255., 255., 255., 255., 255., 255., 255., 255., 255.],\n",
       "       [255., 255., 255., 255., 255., 255., 255., 255., 255., 255.],\n",
       "       [255., 255., 255., 255., 255., 255., 255., 255., 255., 255.],\n",
       "       [255., 255., 255., 255., 255., 255., 255., 255., 255., 255.],\n",
       "       [255., 255., 255., 255., 255., 255., 255., 255., 255., 255.],\n",
       "       [255., 255., 255., 255., 255., 255., 255., 255., 255., 255.],\n",
       "       [255., 255., 255., 255., 255., 255., 255., 255., 255., 255.],\n",
       "       [255., 255., 255., 255., 255., 255., 255., 255., 255., 255.],\n",
       "       [255., 255., 255., 255., 255., 255., 255., 255., 255., 255.],\n",
       "       [255., 255., 255., 255., 255., 255., 255., 255., 255., 255.]])"
      ]
     },
     "execution_count": 45,
     "metadata": {},
     "output_type": "execute_result"
    }
   ],
   "source": [
    "np.full(shape=(10, 10), fill_value=255, dtype='float')"
   ]
  },
  {
   "cell_type": "code",
   "execution_count": null,
   "id": "e3e1bd62",
   "metadata": {},
   "outputs": [],
   "source": []
  }
 ],
 "metadata": {
  "kernelspec": {
   "display_name": "Python 3 (ipykernel)",
   "language": "python",
   "name": "python3"
  },
  "language_info": {
   "codemirror_mode": {
    "name": "ipython",
    "version": 3
   },
   "file_extension": ".py",
   "mimetype": "text/x-python",
   "name": "python",
   "nbconvert_exporter": "python",
   "pygments_lexer": "ipython3",
   "version": "3.9.12"
  }
 },
 "nbformat": 4,
 "nbformat_minor": 5
}
